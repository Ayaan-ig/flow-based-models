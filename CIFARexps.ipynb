{
 "cells": [
  {
   "cell_type": "code",
   "execution_count": 1,
   "id": "d81a093a-0aa6-4843-9bc3-6efc02e6d30e",
   "metadata": {},
   "outputs": [
    {
     "name": "stdout",
     "output_type": "stream",
     "text": [
      "Requirement already satisfied: torch in c:\\users\\anujb\\appdata\\local\\programs\\python\\python312\\lib\\site-packages (2.3.1+cu121)\n",
      "Requirement already satisfied: torchvision in c:\\users\\anujb\\appdata\\local\\programs\\python\\python312\\lib\\site-packages (0.18.1+cu121)\n",
      "Requirement already satisfied: numpy in c:\\users\\anujb\\appdata\\local\\programs\\python\\python312\\lib\\site-packages (1.26.4)\n",
      "Requirement already satisfied: tqdm in c:\\users\\anujb\\appdata\\local\\programs\\python\\python312\\lib\\site-packages (4.66.4)\n",
      "Requirement already satisfied: matplotlib in c:\\users\\anujb\\appdata\\local\\programs\\python\\python312\\lib\\site-packages (3.9.0)\n",
      "Requirement already satisfied: pillow in c:\\users\\anujb\\appdata\\local\\programs\\python\\python312\\lib\\site-packages (10.3.0)\n",
      "Requirement already satisfied: filelock in c:\\users\\anujb\\appdata\\local\\programs\\python\\python312\\lib\\site-packages (from torch) (3.13.1)\n",
      "Requirement already satisfied: typing-extensions>=4.8.0 in c:\\users\\anujb\\appdata\\local\\programs\\python\\python312\\lib\\site-packages (from torch) (4.9.0)\n",
      "Requirement already satisfied: sympy in c:\\users\\anujb\\appdata\\local\\programs\\python\\python312\\lib\\site-packages (from torch) (1.12)\n",
      "Requirement already satisfied: networkx in c:\\users\\anujb\\appdata\\local\\programs\\python\\python312\\lib\\site-packages (from torch) (3.2.1)\n",
      "Requirement already satisfied: jinja2 in c:\\users\\anujb\\appdata\\local\\programs\\python\\python312\\lib\\site-packages (from torch) (3.1.4)\n",
      "Requirement already satisfied: fsspec in c:\\users\\anujb\\appdata\\local\\programs\\python\\python312\\lib\\site-packages (from torch) (2024.2.0)\n",
      "Requirement already satisfied: mkl<=2021.4.0,>=2021.1.1 in c:\\users\\anujb\\appdata\\local\\programs\\python\\python312\\lib\\site-packages (from torch) (2021.4.0)\n",
      "Requirement already satisfied: colorama in c:\\users\\anujb\\appdata\\local\\programs\\python\\python312\\lib\\site-packages (from tqdm) (0.4.6)\n",
      "Requirement already satisfied: contourpy>=1.0.1 in c:\\users\\anujb\\appdata\\local\\programs\\python\\python312\\lib\\site-packages (from matplotlib) (1.2.1)\n",
      "Requirement already satisfied: cycler>=0.10 in c:\\users\\anujb\\appdata\\local\\programs\\python\\python312\\lib\\site-packages (from matplotlib) (0.12.1)\n",
      "Requirement already satisfied: fonttools>=4.22.0 in c:\\users\\anujb\\appdata\\local\\programs\\python\\python312\\lib\\site-packages (from matplotlib) (4.52.1)\n",
      "Requirement already satisfied: kiwisolver>=1.3.1 in c:\\users\\anujb\\appdata\\local\\programs\\python\\python312\\lib\\site-packages (from matplotlib) (1.4.5)\n",
      "Requirement already satisfied: packaging>=20.0 in c:\\users\\anujb\\appdata\\local\\programs\\python\\python312\\lib\\site-packages (from matplotlib) (24.0)\n",
      "Requirement already satisfied: pyparsing>=2.3.1 in c:\\users\\anujb\\appdata\\local\\programs\\python\\python312\\lib\\site-packages (from matplotlib) (3.1.2)\n",
      "Requirement already satisfied: python-dateutil>=2.7 in c:\\users\\anujb\\appdata\\local\\programs\\python\\python312\\lib\\site-packages (from matplotlib) (2.9.0.post0)\n",
      "Requirement already satisfied: intel-openmp==2021.* in c:\\users\\anujb\\appdata\\local\\programs\\python\\python312\\lib\\site-packages (from mkl<=2021.4.0,>=2021.1.1->torch) (2021.4.0)\n",
      "Requirement already satisfied: tbb==2021.* in c:\\users\\anujb\\appdata\\local\\programs\\python\\python312\\lib\\site-packages (from mkl<=2021.4.0,>=2021.1.1->torch) (2021.11.0)\n",
      "Requirement already satisfied: six>=1.5 in c:\\users\\anujb\\appdata\\local\\programs\\python\\python312\\lib\\site-packages (from python-dateutil>=2.7->matplotlib) (1.16.0)\n",
      "Requirement already satisfied: MarkupSafe>=2.0 in c:\\users\\anujb\\appdata\\local\\programs\\python\\python312\\lib\\site-packages (from jinja2->torch) (2.1.5)\n",
      "Requirement already satisfied: mpmath>=0.19 in c:\\users\\anujb\\appdata\\local\\programs\\python\\python312\\lib\\site-packages (from sympy->torch) (1.3.0)\n"
     ]
    }
   ],
   "source": [
    "!pip install torch torchvision numpy tqdm matplotlib pillow"
   ]
  },
  {
   "cell_type": "code",
   "execution_count": 36,
   "id": "4ac677e8-fe84-41dd-80d2-30d680a7696b",
   "metadata": {},
   "outputs": [],
   "source": [
    "import os\n",
    "import torch\n",
    "from torch.utils.data import Dataset, DataLoader\n",
    "from torchvision import transforms\n",
    "from PIL import Image\n",
    "import numpy as np\n",
    "import matplotlib.pyplot as plt\n",
    "from tqdm import tqdm\n",
    "from model import Glow "
   ]
  },
  {
   "cell_type": "code",
   "execution_count": 37,
   "id": "6f481902-4bb3-42e8-b9a3-b7a8676db91c",
   "metadata": {},
   "outputs": [],
   "source": [
    "import os\n",
    "from PIL import Image\n",
    "from torch.utils.data import Dataset, DataLoader\n",
    "import torchvision.transforms as transforms\n",
    "\n",
    "class CIFAR10PNGDataset(Dataset):\n",
    "    def __init__(self, root_dir, transform=None):\n",
    "        self.root_dir = root_dir\n",
    "        self.transform = transform\n",
    "        self.image_files = [f for f in os.listdir(root_dir) if f.endswith('.png')]\n",
    "        print(f\"Found {len(self.image_files)} PNG images in {root_dir}\")\n",
    "\n",
    "    def __len__(self):\n",
    "        return len(self.image_files)\n",
    "\n",
    "    def __getitem__(self, idx):\n",
    "        img_path = os.path.join(self.root_dir, self.image_files[idx])\n",
    "        image = Image.open(img_path).convert(\"RGB\")\n",
    "\n",
    "        if self.transform:\n",
    "            image = self.transform(image)\n",
    "\n",
    "        return image\n"
   ]
  },
  {
   "cell_type": "code",
   "execution_count": 38,
   "id": "005f0e34-ef5a-4eb6-99f4-8fdd6a2c7aaa",
   "metadata": {},
   "outputs": [],
   "source": [
    "transform = transforms.Compose([\n",
    "    transforms.ToTensor(), \n",
    "    transforms.Normalize((0.5, 0.5, 0.5), (0.5, 0.5, 0.5)) \n",
    "])\n"
   ]
  },
  {
   "cell_type": "code",
   "execution_count": 39,
   "id": "89d7a8fd-f63e-4705-b380-022ab9aaf5d3",
   "metadata": {},
   "outputs": [
    {
     "name": "stdout",
     "output_type": "stream",
     "text": [
      "Found 5000 PNG images in C://Users//anujb//glow-pytorch//cifar10_1//train//cat\n",
      "Created dataloader with 5000 images\n"
     ]
    }
   ],
   "source": [
    "\n",
    "image_dir = \"C://Users//anujb//glow-pytorch//cifar10_1//train//cat\"  # <- modify as needed\n",
    "\n",
    "dataset = CIFAR10PNGDataset(root_dir=image_dir, transform=transform)\n",
    "\n",
    "if len(dataset) > 0:\n",
    "    dataloader = DataLoader(dataset, batch_size=16, shuffle=True, num_workers=0)\n",
    "    print(f\"Created dataloader with {len(dataset)} images\")\n",
    "else:\n",
    "    raise ValueError(\"No PNG images found in the specified directory!\")\n"
   ]
  },
  {
   "cell_type": "code",
   "execution_count": 40,
   "id": "86864a73-059a-490f-9c31-16da84b22de4",
   "metadata": {},
   "outputs": [],
   "source": [
    "# Hyperparameters for the model\n",
    "img_size = 32\n",
    "n_channel = 3\n",
    "n_flow = 8\n",
    "n_block = 3\n",
    "affine = True\n",
    "conv_lu = True\n",
    "\n",
    "model = Glow(\n",
    "    n_channel,\n",
    "    n_flow,\n",
    "    n_block,\n",
    "    affine=affine,\n",
    "    conv_lu=conv_lu\n",
    ")\n",
    "\n",
    "# Move model to GPU (if available)\n",
    "device = torch.device(\"cuda\" if torch.cuda.is_available() else \"cpu\")\n",
    "model = model.to(device)\n"
   ]
  },
  {
   "cell_type": "code",
   "execution_count": 41,
   "id": "99c7f1a6-ebab-410a-835e-20a099ab8427",
   "metadata": {},
   "outputs": [],
   "source": [
    "optimizer = torch.optim.Adam(model.parameters(), lr=1e-4)"
   ]
  },
  {
   "cell_type": "code",
   "execution_count": 44,
   "id": "75cfff0b-b98d-4988-afca-9fcfc259d619",
   "metadata": {},
   "outputs": [],
   "source": [
    "import matplotlib.pyplot as plt\n",
    "from tqdm import tqdm\n",
    "\n",
    "def train(model, dataloader, optimizer, n_epochs=10):\n",
    "    model.train()\n",
    "    train_losses = []\n",
    "\n",
    "    for epoch in range(n_epochs):\n",
    "        print(f\"\\nEpoch {epoch+1}/{n_epochs}\")\n",
    "        epoch_loss = 0\n",
    "\n",
    "        pbar = tqdm(dataloader)\n",
    "        for i, img  in enumerate(pbar):\n",
    "            img = img.to(device)\n",
    "\n",
    "            log_p, logdet, _ = model(img)\n",
    "\n",
    "            loss = -log_p - logdet\n",
    "            loss = loss.mean()\n",
    "\n",
    "            optimizer.zero_grad()\n",
    "            loss.backward()\n",
    "            optimizer.step()\n",
    "\n",
    "            epoch_loss += loss.item()\n",
    "            pbar.set_description(f\"Loss: {loss.item():.4f}\")\n",
    "\n",
    "        avg_epoch_loss = epoch_loss / len(dataloader)\n",
    "        train_losses.append(avg_epoch_loss)\n",
    "        print(f\"Epoch {epoch+1} average loss: {avg_epoch_loss:.4f}\")\n",
    "\n",
    "        # Save checkpoint every 100 epochs\n",
    "        if (epoch + 1) % 100 == 0:\n",
    "            torch.save(\n",
    "                {'model': model.state_dict(), 'optimizer': optimizer.state_dict()},\n",
    "                f'checkpoint_epoch{epoch+1}.pt'\n",
    "            )\n",
    "            print(f\"Saved checkpoint at epoch {epoch+1}\")\n",
    "\n",
    "    # Save final model\n",
    "    torch.save(\n",
    "        {'model': model.state_dict(), 'optimizer': optimizer.state_dict()},\n",
    "        'glow_final_model_cifar.pt'\n",
    "    )\n",
    "    print(\"Final model saved to glow_final_model_cifar.pt\")\n",
    "\n",
    "    # Plot loss\n",
    "    plt.figure(figsize=(8, 5))\n",
    "    plt.plot(range(1, len(train_losses) + 1), train_losses, marker='o', color='blue')\n",
    "    plt.title(\"Epoch vs Loss\")\n",
    "    plt.xlabel(\"Epoch\")\n",
    "    plt.ylabel(\"Loss\")\n",
    "    plt.grid(True)\n",
    "    plt.show()\n"
   ]
  },
  {
   "cell_type": "code",
   "execution_count": 45,
   "id": "165452cd-6547-4df7-8c45-7f559be7d5a5",
   "metadata": {
    "scrolled": true
   },
   "outputs": [
    {
     "name": "stdout",
     "output_type": "stream",
     "text": [
      "\n",
      "Epoch 1/500\n"
     ]
    },
    {
     "name": "stderr",
     "output_type": "stream",
     "text": [
      "Loss: -5411.6992: 100%|██████████████████████████████████████████████████████████████| 313/313 [00:42<00:00,  7.41it/s]\n"
     ]
    },
    {
     "name": "stdout",
     "output_type": "stream",
     "text": [
      "✅ Epoch 1 average loss: -3651.9643\n",
      "\n",
      "Epoch 2/500\n"
     ]
    },
    {
     "name": "stderr",
     "output_type": "stream",
     "text": [
      "Loss: -5950.7222: 100%|██████████████████████████████████████████████████████████████| 313/313 [00:37<00:00,  8.41it/s]\n"
     ]
    },
    {
     "name": "stdout",
     "output_type": "stream",
     "text": [
      "✅ Epoch 2 average loss: -5173.0169\n",
      "\n",
      "Epoch 3/500\n"
     ]
    },
    {
     "name": "stderr",
     "output_type": "stream",
     "text": [
      "Loss: -6246.8496: 100%|██████████████████████████████████████████████████████████████| 313/313 [00:35<00:00,  8.73it/s]\n"
     ]
    },
    {
     "name": "stdout",
     "output_type": "stream",
     "text": [
      "✅ Epoch 3 average loss: -5636.8404\n",
      "\n",
      "Epoch 4/500\n"
     ]
    },
    {
     "name": "stderr",
     "output_type": "stream",
     "text": [
      "Loss: -5309.6885: 100%|██████████████████████████████████████████████████████████████| 313/313 [00:34<00:00,  9.06it/s]\n"
     ]
    },
    {
     "name": "stdout",
     "output_type": "stream",
     "text": [
      "✅ Epoch 4 average loss: -5807.5807\n",
      "\n",
      "Epoch 5/500\n"
     ]
    },
    {
     "name": "stderr",
     "output_type": "stream",
     "text": [
      "Loss: -5836.5527: 100%|██████████████████████████████████████████████████████████████| 313/313 [00:39<00:00,  7.90it/s]\n"
     ]
    },
    {
     "name": "stdout",
     "output_type": "stream",
     "text": [
      "✅ Epoch 5 average loss: -5958.5005\n",
      "\n",
      "Epoch 6/500\n"
     ]
    },
    {
     "name": "stderr",
     "output_type": "stream",
     "text": [
      "Loss: -5902.7207: 100%|██████████████████████████████████████████████████████████████| 313/313 [00:38<00:00,  8.18it/s]\n"
     ]
    },
    {
     "name": "stdout",
     "output_type": "stream",
     "text": [
      "✅ Epoch 6 average loss: -5973.9820\n",
      "\n",
      "Epoch 7/500\n"
     ]
    },
    {
     "name": "stderr",
     "output_type": "stream",
     "text": [
      "Loss: -6955.4116: 100%|██████████████████████████████████████████████████████████████| 313/313 [00:36<00:00,  8.46it/s]\n"
     ]
    },
    {
     "name": "stdout",
     "output_type": "stream",
     "text": [
      "✅ Epoch 7 average loss: -6158.1068\n",
      "\n",
      "Epoch 8/500\n"
     ]
    },
    {
     "name": "stderr",
     "output_type": "stream",
     "text": [
      "Loss: -5438.5200: 100%|██████████████████████████████████████████████████████████████| 313/313 [00:37<00:00,  8.31it/s]\n"
     ]
    },
    {
     "name": "stdout",
     "output_type": "stream",
     "text": [
      "✅ Epoch 8 average loss: -6196.1828\n",
      "\n",
      "Epoch 9/500\n"
     ]
    },
    {
     "name": "stderr",
     "output_type": "stream",
     "text": [
      "Loss: -7169.6587: 100%|██████████████████████████████████████████████████████████████| 313/313 [00:36<00:00,  8.46it/s]\n"
     ]
    },
    {
     "name": "stdout",
     "output_type": "stream",
     "text": [
      "✅ Epoch 9 average loss: -6252.4293\n",
      "\n",
      "Epoch 10/500\n"
     ]
    },
    {
     "name": "stderr",
     "output_type": "stream",
     "text": [
      "Loss: -7262.7725: 100%|██████████████████████████████████████████████████████████████| 313/313 [00:36<00:00,  8.50it/s]\n"
     ]
    },
    {
     "name": "stdout",
     "output_type": "stream",
     "text": [
      "✅ Epoch 10 average loss: -6316.0536\n",
      "\n",
      "Epoch 11/500\n"
     ]
    },
    {
     "name": "stderr",
     "output_type": "stream",
     "text": [
      "Loss: -6743.0303: 100%|██████████████████████████████████████████████████████████████| 313/313 [00:38<00:00,  8.08it/s]\n"
     ]
    },
    {
     "name": "stdout",
     "output_type": "stream",
     "text": [
      "✅ Epoch 11 average loss: -6357.6903\n",
      "\n",
      "Epoch 12/500\n"
     ]
    },
    {
     "name": "stderr",
     "output_type": "stream",
     "text": [
      "Loss: -5914.2432: 100%|██████████████████████████████████████████████████████████████| 313/313 [00:36<00:00,  8.55it/s]\n"
     ]
    },
    {
     "name": "stdout",
     "output_type": "stream",
     "text": [
      "✅ Epoch 12 average loss: -6397.9189\n",
      "\n",
      "Epoch 13/500\n"
     ]
    },
    {
     "name": "stderr",
     "output_type": "stream",
     "text": [
      "Loss: -6159.0156: 100%|██████████████████████████████████████████████████████████████| 313/313 [00:36<00:00,  8.48it/s]\n"
     ]
    },
    {
     "name": "stdout",
     "output_type": "stream",
     "text": [
      "✅ Epoch 13 average loss: -6441.1462\n",
      "\n",
      "Epoch 14/500\n"
     ]
    },
    {
     "name": "stderr",
     "output_type": "stream",
     "text": [
      "Loss: -5866.0586: 100%|██████████████████████████████████████████████████████████████| 313/313 [00:36<00:00,  8.46it/s]\n"
     ]
    },
    {
     "name": "stdout",
     "output_type": "stream",
     "text": [
      "✅ Epoch 14 average loss: -6492.6657\n",
      "\n",
      "Epoch 15/500\n"
     ]
    },
    {
     "name": "stderr",
     "output_type": "stream",
     "text": [
      "Loss: -6503.6147: 100%|██████████████████████████████████████████████████████████████| 313/313 [00:37<00:00,  8.35it/s]\n"
     ]
    },
    {
     "name": "stdout",
     "output_type": "stream",
     "text": [
      "✅ Epoch 15 average loss: -6490.6955\n",
      "\n",
      "Epoch 16/500\n"
     ]
    },
    {
     "name": "stderr",
     "output_type": "stream",
     "text": [
      "Loss: -7609.6865: 100%|██████████████████████████████████████████████████████████████| 313/313 [00:35<00:00,  8.76it/s]\n"
     ]
    },
    {
     "name": "stdout",
     "output_type": "stream",
     "text": [
      "✅ Epoch 16 average loss: -6543.9923\n",
      "\n",
      "Epoch 17/500\n"
     ]
    },
    {
     "name": "stderr",
     "output_type": "stream",
     "text": [
      "Loss: -6152.2715: 100%|██████████████████████████████████████████████████████████████| 313/313 [00:36<00:00,  8.57it/s]\n"
     ]
    },
    {
     "name": "stdout",
     "output_type": "stream",
     "text": [
      "✅ Epoch 17 average loss: -6552.1473\n",
      "\n",
      "Epoch 18/500\n"
     ]
    },
    {
     "name": "stderr",
     "output_type": "stream",
     "text": [
      "Loss: -6916.3931: 100%|██████████████████████████████████████████████████████████████| 313/313 [00:39<00:00,  8.02it/s]\n"
     ]
    },
    {
     "name": "stdout",
     "output_type": "stream",
     "text": [
      "✅ Epoch 18 average loss: -6598.1322\n",
      "\n",
      "Epoch 19/500\n"
     ]
    },
    {
     "name": "stderr",
     "output_type": "stream",
     "text": [
      "Loss: -5917.1348: 100%|██████████████████████████████████████████████████████████████| 313/313 [00:38<00:00,  8.18it/s]\n"
     ]
    },
    {
     "name": "stdout",
     "output_type": "stream",
     "text": [
      "✅ Epoch 19 average loss: -6633.8048\n",
      "\n",
      "Epoch 20/500\n"
     ]
    },
    {
     "name": "stderr",
     "output_type": "stream",
     "text": [
      "Loss: -7020.6470: 100%|██████████████████████████████████████████████████████████████| 313/313 [00:36<00:00,  8.63it/s]\n"
     ]
    },
    {
     "name": "stdout",
     "output_type": "stream",
     "text": [
      "✅ Epoch 20 average loss: -6637.9079\n",
      "\n",
      "Epoch 21/500\n"
     ]
    },
    {
     "name": "stderr",
     "output_type": "stream",
     "text": [
      "Loss: -6588.1636: 100%|██████████████████████████████████████████████████████████████| 313/313 [00:38<00:00,  8.19it/s]\n"
     ]
    },
    {
     "name": "stdout",
     "output_type": "stream",
     "text": [
      "✅ Epoch 21 average loss: -6672.5494\n",
      "\n",
      "Epoch 22/500\n"
     ]
    },
    {
     "name": "stderr",
     "output_type": "stream",
     "text": [
      "Loss: -6315.4604: 100%|██████████████████████████████████████████████████████████████| 313/313 [00:35<00:00,  8.80it/s]\n"
     ]
    },
    {
     "name": "stdout",
     "output_type": "stream",
     "text": [
      "✅ Epoch 22 average loss: -6703.7900\n",
      "\n",
      "Epoch 23/500\n"
     ]
    },
    {
     "name": "stderr",
     "output_type": "stream",
     "text": [
      "Loss: -6739.5972: 100%|██████████████████████████████████████████████████████████████| 313/313 [00:34<00:00,  9.13it/s]\n"
     ]
    },
    {
     "name": "stdout",
     "output_type": "stream",
     "text": [
      "✅ Epoch 23 average loss: -6739.8630\n",
      "\n",
      "Epoch 24/500\n"
     ]
    },
    {
     "name": "stderr",
     "output_type": "stream",
     "text": [
      "Loss: -6946.1982: 100%|██████████████████████████████████████████████████████████████| 313/313 [00:37<00:00,  8.42it/s]\n"
     ]
    },
    {
     "name": "stdout",
     "output_type": "stream",
     "text": [
      "✅ Epoch 24 average loss: -6754.7241\n",
      "\n",
      "Epoch 25/500\n"
     ]
    },
    {
     "name": "stderr",
     "output_type": "stream",
     "text": [
      "Loss: -6971.3418: 100%|██████████████████████████████████████████████████████████████| 313/313 [00:37<00:00,  8.40it/s]\n"
     ]
    },
    {
     "name": "stdout",
     "output_type": "stream",
     "text": [
      "✅ Epoch 25 average loss: -6793.1251\n",
      "\n",
      "Epoch 26/500\n"
     ]
    },
    {
     "name": "stderr",
     "output_type": "stream",
     "text": [
      "Loss: -7050.1250: 100%|██████████████████████████████████████████████████████████████| 313/313 [00:38<00:00,  8.07it/s]\n"
     ]
    },
    {
     "name": "stdout",
     "output_type": "stream",
     "text": [
      "✅ Epoch 26 average loss: -6802.8759\n",
      "\n",
      "Epoch 27/500\n"
     ]
    },
    {
     "name": "stderr",
     "output_type": "stream",
     "text": [
      "Loss: -6097.4375: 100%|██████████████████████████████████████████████████████████████| 313/313 [00:37<00:00,  8.39it/s]\n"
     ]
    },
    {
     "name": "stdout",
     "output_type": "stream",
     "text": [
      "✅ Epoch 27 average loss: -6815.0169\n",
      "\n",
      "Epoch 28/500\n"
     ]
    },
    {
     "name": "stderr",
     "output_type": "stream",
     "text": [
      "Loss: -6565.2954: 100%|██████████████████████████████████████████████████████████████| 313/313 [00:36<00:00,  8.57it/s]\n"
     ]
    },
    {
     "name": "stdout",
     "output_type": "stream",
     "text": [
      "✅ Epoch 28 average loss: -6854.2414\n",
      "\n",
      "Epoch 29/500\n"
     ]
    },
    {
     "name": "stderr",
     "output_type": "stream",
     "text": [
      "Loss: -6597.9248: 100%|██████████████████████████████████████████████████████████████| 313/313 [00:36<00:00,  8.61it/s]\n"
     ]
    },
    {
     "name": "stdout",
     "output_type": "stream",
     "text": [
      "✅ Epoch 29 average loss: -6856.0027\n",
      "\n",
      "Epoch 30/500\n"
     ]
    },
    {
     "name": "stderr",
     "output_type": "stream",
     "text": [
      "Loss: -6170.1904: 100%|██████████████████████████████████████████████████████████████| 313/313 [00:35<00:00,  8.81it/s]\n"
     ]
    },
    {
     "name": "stdout",
     "output_type": "stream",
     "text": [
      "✅ Epoch 30 average loss: -6904.7870\n",
      "\n",
      "Epoch 31/500\n"
     ]
    },
    {
     "name": "stderr",
     "output_type": "stream",
     "text": [
      "Loss: -6479.2446: 100%|██████████████████████████████████████████████████████████████| 313/313 [00:38<00:00,  8.20it/s]\n"
     ]
    },
    {
     "name": "stdout",
     "output_type": "stream",
     "text": [
      "✅ Epoch 31 average loss: -6907.2720\n",
      "\n",
      "Epoch 32/500\n"
     ]
    },
    {
     "name": "stderr",
     "output_type": "stream",
     "text": [
      "Loss: -6612.4551: 100%|██████████████████████████████████████████████████████████████| 313/313 [00:38<00:00,  8.22it/s]\n"
     ]
    },
    {
     "name": "stdout",
     "output_type": "stream",
     "text": [
      "✅ Epoch 32 average loss: -6933.6123\n",
      "\n",
      "Epoch 33/500\n"
     ]
    },
    {
     "name": "stderr",
     "output_type": "stream",
     "text": [
      "Loss: -7210.2568: 100%|██████████████████████████████████████████████████████████████| 313/313 [00:36<00:00,  8.62it/s]\n"
     ]
    },
    {
     "name": "stdout",
     "output_type": "stream",
     "text": [
      "✅ Epoch 33 average loss: -6930.9909\n",
      "\n",
      "Epoch 34/500\n"
     ]
    },
    {
     "name": "stderr",
     "output_type": "stream",
     "text": [
      "Loss: -7083.1128: 100%|██████████████████████████████████████████████████████████████| 313/313 [00:38<00:00,  8.13it/s]\n"
     ]
    },
    {
     "name": "stdout",
     "output_type": "stream",
     "text": [
      "✅ Epoch 34 average loss: -6974.1920\n",
      "\n",
      "Epoch 35/500\n"
     ]
    },
    {
     "name": "stderr",
     "output_type": "stream",
     "text": [
      "Loss: -6067.7373: 100%|██████████████████████████████████████████████████████████████| 313/313 [00:35<00:00,  8.74it/s]\n"
     ]
    },
    {
     "name": "stdout",
     "output_type": "stream",
     "text": [
      "✅ Epoch 35 average loss: -6968.8077\n",
      "\n",
      "Epoch 36/500\n"
     ]
    },
    {
     "name": "stderr",
     "output_type": "stream",
     "text": [
      "Loss: -7690.9941: 100%|██████████████████████████████████████████████████████████████| 313/313 [00:35<00:00,  8.86it/s]\n"
     ]
    },
    {
     "name": "stdout",
     "output_type": "stream",
     "text": [
      "✅ Epoch 36 average loss: -7000.4514\n",
      "\n",
      "Epoch 37/500\n"
     ]
    },
    {
     "name": "stderr",
     "output_type": "stream",
     "text": [
      "Loss: -6467.1699: 100%|██████████████████████████████████████████████████████████████| 313/313 [00:37<00:00,  8.24it/s]\n"
     ]
    },
    {
     "name": "stdout",
     "output_type": "stream",
     "text": [
      "✅ Epoch 37 average loss: -7029.3057\n",
      "\n",
      "Epoch 38/500\n"
     ]
    },
    {
     "name": "stderr",
     "output_type": "stream",
     "text": [
      "Loss: -6772.9902: 100%|██████████████████████████████████████████████████████████████| 313/313 [00:37<00:00,  8.38it/s]\n"
     ]
    },
    {
     "name": "stdout",
     "output_type": "stream",
     "text": [
      "✅ Epoch 38 average loss: -7048.5226\n",
      "\n",
      "Epoch 39/500\n"
     ]
    },
    {
     "name": "stderr",
     "output_type": "stream",
     "text": [
      "Loss: -7271.4131: 100%|██████████████████████████████████████████████████████████████| 313/313 [00:38<00:00,  8.11it/s]\n"
     ]
    },
    {
     "name": "stdout",
     "output_type": "stream",
     "text": [
      "✅ Epoch 39 average loss: -7064.7688\n",
      "\n",
      "Epoch 40/500\n"
     ]
    },
    {
     "name": "stderr",
     "output_type": "stream",
     "text": [
      "Loss: -6600.4785: 100%|██████████████████████████████████████████████████████████████| 313/313 [00:37<00:00,  8.28it/s]\n"
     ]
    },
    {
     "name": "stdout",
     "output_type": "stream",
     "text": [
      "✅ Epoch 40 average loss: -7071.7911\n",
      "\n",
      "Epoch 41/500\n"
     ]
    },
    {
     "name": "stderr",
     "output_type": "stream",
     "text": [
      "Loss: -7524.4102: 100%|██████████████████████████████████████████████████████████████| 313/313 [00:37<00:00,  8.38it/s]\n"
     ]
    },
    {
     "name": "stdout",
     "output_type": "stream",
     "text": [
      "✅ Epoch 41 average loss: -7106.2021\n",
      "\n",
      "Epoch 42/500\n"
     ]
    },
    {
     "name": "stderr",
     "output_type": "stream",
     "text": [
      "Loss: -6779.8784: 100%|██████████████████████████████████████████████████████████████| 313/313 [00:35<00:00,  8.81it/s]\n"
     ]
    },
    {
     "name": "stdout",
     "output_type": "stream",
     "text": [
      "✅ Epoch 42 average loss: -7096.2673\n",
      "\n",
      "Epoch 43/500\n"
     ]
    },
    {
     "name": "stderr",
     "output_type": "stream",
     "text": [
      "Loss: -6901.6357: 100%|██████████████████████████████████████████████████████████████| 313/313 [00:35<00:00,  8.78it/s]\n"
     ]
    },
    {
     "name": "stdout",
     "output_type": "stream",
     "text": [
      "✅ Epoch 43 average loss: -7129.2234\n",
      "\n",
      "Epoch 44/500\n"
     ]
    },
    {
     "name": "stderr",
     "output_type": "stream",
     "text": [
      "Loss: -7729.0947: 100%|██████████████████████████████████████████████████████████████| 313/313 [00:39<00:00,  7.89it/s]\n"
     ]
    },
    {
     "name": "stdout",
     "output_type": "stream",
     "text": [
      "✅ Epoch 44 average loss: -7155.9011\n",
      "\n",
      "Epoch 45/500\n"
     ]
    },
    {
     "name": "stderr",
     "output_type": "stream",
     "text": [
      "Loss: -7576.0137: 100%|██████████████████████████████████████████████████████████████| 313/313 [00:38<00:00,  8.10it/s]\n"
     ]
    },
    {
     "name": "stdout",
     "output_type": "stream",
     "text": [
      "✅ Epoch 45 average loss: -7159.3215\n",
      "\n",
      "Epoch 46/500\n"
     ]
    },
    {
     "name": "stderr",
     "output_type": "stream",
     "text": [
      "Loss: -7697.8394: 100%|██████████████████████████████████████████████████████████████| 313/313 [00:39<00:00,  7.90it/s]\n"
     ]
    },
    {
     "name": "stdout",
     "output_type": "stream",
     "text": [
      "✅ Epoch 46 average loss: -7173.0253\n",
      "\n",
      "Epoch 47/500\n"
     ]
    },
    {
     "name": "stderr",
     "output_type": "stream",
     "text": [
      "Loss: -7464.1445: 100%|██████████████████████████████████████████████████████████████| 313/313 [00:38<00:00,  8.17it/s]\n"
     ]
    },
    {
     "name": "stdout",
     "output_type": "stream",
     "text": [
      "✅ Epoch 47 average loss: -7188.1545\n",
      "\n",
      "Epoch 48/500\n"
     ]
    },
    {
     "name": "stderr",
     "output_type": "stream",
     "text": [
      "Loss: -7011.0874: 100%|██████████████████████████████████████████████████████████████| 313/313 [00:35<00:00,  8.89it/s]\n"
     ]
    },
    {
     "name": "stdout",
     "output_type": "stream",
     "text": [
      "✅ Epoch 48 average loss: -7214.8534\n",
      "\n",
      "Epoch 49/500\n"
     ]
    },
    {
     "name": "stderr",
     "output_type": "stream",
     "text": [
      "Loss: -6229.0420: 100%|██████████████████████████████████████████████████████████████| 313/313 [00:35<00:00,  8.76it/s]\n"
     ]
    },
    {
     "name": "stdout",
     "output_type": "stream",
     "text": [
      "✅ Epoch 49 average loss: -7215.6192\n",
      "\n",
      "Epoch 50/500\n"
     ]
    },
    {
     "name": "stderr",
     "output_type": "stream",
     "text": [
      "Loss: -6322.4023: 100%|██████████████████████████████████████████████████████████████| 313/313 [00:39<00:00,  7.93it/s]\n"
     ]
    },
    {
     "name": "stdout",
     "output_type": "stream",
     "text": [
      "✅ Epoch 50 average loss: -7234.4619\n",
      "\n",
      "Epoch 51/500\n"
     ]
    },
    {
     "name": "stderr",
     "output_type": "stream",
     "text": [
      "Loss: -7408.4072: 100%|██████████████████████████████████████████████████████████████| 313/313 [00:37<00:00,  8.24it/s]\n"
     ]
    },
    {
     "name": "stdout",
     "output_type": "stream",
     "text": [
      "✅ Epoch 51 average loss: -7262.7820\n",
      "\n",
      "Epoch 52/500\n"
     ]
    },
    {
     "name": "stderr",
     "output_type": "stream",
     "text": [
      "Loss: -8168.8691: 100%|██████████████████████████████████████████████████████████████| 313/313 [00:37<00:00,  8.40it/s]\n"
     ]
    },
    {
     "name": "stdout",
     "output_type": "stream",
     "text": [
      "✅ Epoch 52 average loss: -7254.7226\n",
      "\n",
      "Epoch 53/500\n"
     ]
    },
    {
     "name": "stderr",
     "output_type": "stream",
     "text": [
      "Loss: -7465.3413: 100%|██████████████████████████████████████████████████████████████| 313/313 [00:39<00:00,  7.98it/s]\n"
     ]
    },
    {
     "name": "stdout",
     "output_type": "stream",
     "text": [
      "✅ Epoch 53 average loss: -7270.8009\n",
      "\n",
      "Epoch 54/500\n"
     ]
    },
    {
     "name": "stderr",
     "output_type": "stream",
     "text": [
      "Loss: -7164.4385: 100%|██████████████████████████████████████████████████████████████| 313/313 [00:35<00:00,  8.84it/s]\n"
     ]
    },
    {
     "name": "stdout",
     "output_type": "stream",
     "text": [
      "✅ Epoch 54 average loss: -7296.4044\n",
      "\n",
      "Epoch 55/500\n"
     ]
    },
    {
     "name": "stderr",
     "output_type": "stream",
     "text": [
      "Loss: -6926.7344: 100%|██████████████████████████████████████████████████████████████| 313/313 [00:37<00:00,  8.45it/s]\n"
     ]
    },
    {
     "name": "stdout",
     "output_type": "stream",
     "text": [
      "✅ Epoch 55 average loss: -7276.9785\n",
      "\n",
      "Epoch 56/500\n"
     ]
    },
    {
     "name": "stderr",
     "output_type": "stream",
     "text": [
      "Loss: -7259.6943: 100%|██████████████████████████████████████████████████████████████| 313/313 [00:38<00:00,  8.03it/s]\n"
     ]
    },
    {
     "name": "stdout",
     "output_type": "stream",
     "text": [
      "✅ Epoch 56 average loss: -7303.5692\n",
      "\n",
      "Epoch 57/500\n"
     ]
    },
    {
     "name": "stderr",
     "output_type": "stream",
     "text": [
      "Loss: -7165.9209: 100%|██████████████████████████████████████████████████████████████| 313/313 [00:37<00:00,  8.25it/s]\n"
     ]
    },
    {
     "name": "stdout",
     "output_type": "stream",
     "text": [
      "✅ Epoch 57 average loss: -7324.8363\n",
      "\n",
      "Epoch 58/500\n"
     ]
    },
    {
     "name": "stderr",
     "output_type": "stream",
     "text": [
      "Loss: -7625.6514: 100%|██████████████████████████████████████████████████████████████| 313/313 [00:38<00:00,  8.11it/s]\n"
     ]
    },
    {
     "name": "stdout",
     "output_type": "stream",
     "text": [
      "✅ Epoch 58 average loss: -7337.8893\n",
      "\n",
      "Epoch 59/500\n"
     ]
    },
    {
     "name": "stderr",
     "output_type": "stream",
     "text": [
      "Loss: -6718.7656: 100%|██████████████████████████████████████████████████████████████| 313/313 [00:39<00:00,  8.00it/s]\n"
     ]
    },
    {
     "name": "stdout",
     "output_type": "stream",
     "text": [
      "✅ Epoch 59 average loss: -7347.3666\n",
      "\n",
      "Epoch 60/500\n"
     ]
    },
    {
     "name": "stderr",
     "output_type": "stream",
     "text": [
      "Loss: -6925.3184: 100%|██████████████████████████████████████████████████████████████| 313/313 [00:37<00:00,  8.32it/s]\n"
     ]
    },
    {
     "name": "stdout",
     "output_type": "stream",
     "text": [
      "✅ Epoch 60 average loss: -7364.4987\n",
      "\n",
      "Epoch 61/500\n"
     ]
    },
    {
     "name": "stderr",
     "output_type": "stream",
     "text": [
      "Loss: -7466.5537: 100%|██████████████████████████████████████████████████████████████| 313/313 [00:36<00:00,  8.63it/s]\n"
     ]
    },
    {
     "name": "stdout",
     "output_type": "stream",
     "text": [
      "✅ Epoch 61 average loss: -7380.1314\n",
      "\n",
      "Epoch 62/500\n"
     ]
    },
    {
     "name": "stderr",
     "output_type": "stream",
     "text": [
      "Loss: -7323.5332: 100%|██████████████████████████████████████████████████████████████| 313/313 [00:34<00:00,  8.95it/s]\n"
     ]
    },
    {
     "name": "stdout",
     "output_type": "stream",
     "text": [
      "✅ Epoch 62 average loss: -7365.7233\n",
      "\n",
      "Epoch 63/500\n"
     ]
    },
    {
     "name": "stderr",
     "output_type": "stream",
     "text": [
      "Loss: -7003.4077: 100%|██████████████████████████████████████████████████████████████| 313/313 [00:38<00:00,  8.15it/s]\n"
     ]
    },
    {
     "name": "stdout",
     "output_type": "stream",
     "text": [
      "✅ Epoch 63 average loss: -7390.0011\n",
      "\n",
      "Epoch 64/500\n"
     ]
    },
    {
     "name": "stderr",
     "output_type": "stream",
     "text": [
      "Loss: -7331.4058: 100%|██████████████████████████████████████████████████████████████| 313/313 [00:38<00:00,  8.05it/s]\n"
     ]
    },
    {
     "name": "stdout",
     "output_type": "stream",
     "text": [
      "✅ Epoch 64 average loss: -7410.9639\n",
      "\n",
      "Epoch 65/500\n"
     ]
    },
    {
     "name": "stderr",
     "output_type": "stream",
     "text": [
      "Loss: -7232.5166: 100%|██████████████████████████████████████████████████████████████| 313/313 [00:36<00:00,  8.68it/s]\n"
     ]
    },
    {
     "name": "stdout",
     "output_type": "stream",
     "text": [
      "✅ Epoch 65 average loss: -7420.1772\n",
      "\n",
      "Epoch 66/500\n"
     ]
    },
    {
     "name": "stderr",
     "output_type": "stream",
     "text": [
      "Loss: -7312.1450: 100%|██████████████████████████████████████████████████████████████| 313/313 [00:38<00:00,  8.19it/s]\n"
     ]
    },
    {
     "name": "stdout",
     "output_type": "stream",
     "text": [
      "✅ Epoch 66 average loss: -7414.2696\n",
      "\n",
      "Epoch 67/500\n"
     ]
    },
    {
     "name": "stderr",
     "output_type": "stream",
     "text": [
      "Loss: -7584.7021: 100%|██████████████████████████████████████████████████████████████| 313/313 [00:35<00:00,  8.72it/s]\n"
     ]
    },
    {
     "name": "stdout",
     "output_type": "stream",
     "text": [
      "✅ Epoch 67 average loss: -7431.8319\n",
      "\n",
      "Epoch 68/500\n"
     ]
    },
    {
     "name": "stderr",
     "output_type": "stream",
     "text": [
      "Loss: -7647.8809: 100%|██████████████████████████████████████████████████████████████| 313/313 [00:35<00:00,  8.79it/s]\n"
     ]
    },
    {
     "name": "stdout",
     "output_type": "stream",
     "text": [
      "✅ Epoch 68 average loss: -7428.7478\n",
      "\n",
      "Epoch 69/500\n"
     ]
    },
    {
     "name": "stderr",
     "output_type": "stream",
     "text": [
      "Loss: -7361.1094: 100%|██████████████████████████████████████████████████████████████| 313/313 [00:38<00:00,  8.08it/s]\n"
     ]
    },
    {
     "name": "stdout",
     "output_type": "stream",
     "text": [
      "✅ Epoch 69 average loss: -7431.7373\n",
      "\n",
      "Epoch 70/500\n"
     ]
    },
    {
     "name": "stderr",
     "output_type": "stream",
     "text": [
      "Loss: -6813.4819: 100%|██████████████████████████████████████████████████████████████| 313/313 [00:37<00:00,  8.37it/s]\n"
     ]
    },
    {
     "name": "stdout",
     "output_type": "stream",
     "text": [
      "✅ Epoch 70 average loss: -7469.0371\n",
      "\n",
      "Epoch 71/500\n"
     ]
    },
    {
     "name": "stderr",
     "output_type": "stream",
     "text": [
      "Loss: -7427.0459: 100%|██████████████████████████████████████████████████████████████| 313/313 [00:37<00:00,  8.40it/s]\n"
     ]
    },
    {
     "name": "stdout",
     "output_type": "stream",
     "text": [
      "✅ Epoch 71 average loss: -7459.1768\n",
      "\n",
      "Epoch 72/500\n"
     ]
    },
    {
     "name": "stderr",
     "output_type": "stream",
     "text": [
      "Loss: -7790.0615: 100%|██████████████████████████████████████████████████████████████| 313/313 [00:37<00:00,  8.33it/s]\n"
     ]
    },
    {
     "name": "stdout",
     "output_type": "stream",
     "text": [
      "✅ Epoch 72 average loss: -7481.9121\n",
      "\n",
      "Epoch 73/500\n"
     ]
    },
    {
     "name": "stderr",
     "output_type": "stream",
     "text": [
      "Loss: -7247.9805: 100%|██████████████████████████████████████████████████████████████| 313/313 [00:38<00:00,  8.09it/s]\n"
     ]
    },
    {
     "name": "stdout",
     "output_type": "stream",
     "text": [
      "✅ Epoch 73 average loss: -7472.4940\n",
      "\n",
      "Epoch 74/500\n"
     ]
    },
    {
     "name": "stderr",
     "output_type": "stream",
     "text": [
      "Loss: -7952.5576: 100%|██████████████████████████████████████████████████████████████| 313/313 [00:36<00:00,  8.64it/s]\n"
     ]
    },
    {
     "name": "stdout",
     "output_type": "stream",
     "text": [
      "✅ Epoch 74 average loss: -7501.0890\n",
      "\n",
      "Epoch 75/500\n"
     ]
    },
    {
     "name": "stderr",
     "output_type": "stream",
     "text": [
      "Loss: -7549.4424: 100%|██████████████████████████████████████████████████████████████| 313/313 [00:36<00:00,  8.52it/s]\n"
     ]
    },
    {
     "name": "stdout",
     "output_type": "stream",
     "text": [
      "✅ Epoch 75 average loss: -7495.1418\n",
      "\n",
      "Epoch 76/500\n"
     ]
    },
    {
     "name": "stderr",
     "output_type": "stream",
     "text": [
      "Loss: -6913.4004: 100%|██████████████████████████████████████████████████████████████| 313/313 [00:39<00:00,  7.95it/s]\n"
     ]
    },
    {
     "name": "stdout",
     "output_type": "stream",
     "text": [
      "✅ Epoch 76 average loss: -7509.7244\n",
      "\n",
      "Epoch 77/500\n"
     ]
    },
    {
     "name": "stderr",
     "output_type": "stream",
     "text": [
      "Loss: -7824.2490: 100%|██████████████████████████████████████████████████████████████| 313/313 [00:40<00:00,  7.81it/s]\n"
     ]
    },
    {
     "name": "stdout",
     "output_type": "stream",
     "text": [
      "✅ Epoch 77 average loss: -7518.6770\n",
      "\n",
      "Epoch 78/500\n"
     ]
    },
    {
     "name": "stderr",
     "output_type": "stream",
     "text": [
      "Loss: -7820.1006: 100%|██████████████████████████████████████████████████████████████| 313/313 [00:36<00:00,  8.48it/s]\n"
     ]
    },
    {
     "name": "stdout",
     "output_type": "stream",
     "text": [
      "✅ Epoch 78 average loss: -7526.2072\n",
      "\n",
      "Epoch 79/500\n"
     ]
    },
    {
     "name": "stderr",
     "output_type": "stream",
     "text": [
      "Loss: -7073.8838: 100%|██████████████████████████████████████████████████████████████| 313/313 [00:37<00:00,  8.30it/s]\n"
     ]
    },
    {
     "name": "stdout",
     "output_type": "stream",
     "text": [
      "✅ Epoch 79 average loss: -7541.3891\n",
      "\n",
      "Epoch 80/500\n"
     ]
    },
    {
     "name": "stderr",
     "output_type": "stream",
     "text": [
      "Loss: -6442.1660: 100%|██████████████████████████████████████████████████████████████| 313/313 [00:36<00:00,  8.63it/s]\n"
     ]
    },
    {
     "name": "stdout",
     "output_type": "stream",
     "text": [
      "✅ Epoch 80 average loss: -7547.4790\n",
      "\n",
      "Epoch 81/500\n"
     ]
    },
    {
     "name": "stderr",
     "output_type": "stream",
     "text": [
      "Loss: -7406.0737: 100%|██████████████████████████████████████████████████████████████| 313/313 [00:34<00:00,  9.05it/s]\n"
     ]
    },
    {
     "name": "stdout",
     "output_type": "stream",
     "text": [
      "✅ Epoch 81 average loss: -7555.0752\n",
      "\n",
      "Epoch 82/500\n"
     ]
    },
    {
     "name": "stderr",
     "output_type": "stream",
     "text": [
      "Loss: -7025.3447: 100%|██████████████████████████████████████████████████████████████| 313/313 [00:39<00:00,  7.89it/s]\n"
     ]
    },
    {
     "name": "stdout",
     "output_type": "stream",
     "text": [
      "✅ Epoch 82 average loss: -7569.2087\n",
      "\n",
      "Epoch 83/500\n"
     ]
    },
    {
     "name": "stderr",
     "output_type": "stream",
     "text": [
      "Loss: -7673.2842: 100%|██████████████████████████████████████████████████████████████| 313/313 [00:38<00:00,  8.03it/s]\n"
     ]
    },
    {
     "name": "stdout",
     "output_type": "stream",
     "text": [
      "✅ Epoch 83 average loss: -7565.3444\n",
      "\n",
      "Epoch 84/500\n"
     ]
    },
    {
     "name": "stderr",
     "output_type": "stream",
     "text": [
      "Loss: -7658.5479: 100%|██████████████████████████████████████████████████████████████| 313/313 [00:37<00:00,  8.28it/s]\n"
     ]
    },
    {
     "name": "stdout",
     "output_type": "stream",
     "text": [
      "✅ Epoch 84 average loss: -7552.7445\n",
      "\n",
      "Epoch 85/500\n"
     ]
    },
    {
     "name": "stderr",
     "output_type": "stream",
     "text": [
      "Loss: -8083.1748: 100%|██████████████████████████████████████████████████████████████| 313/313 [00:38<00:00,  8.20it/s]\n"
     ]
    },
    {
     "name": "stdout",
     "output_type": "stream",
     "text": [
      "✅ Epoch 85 average loss: -7588.4654\n",
      "\n",
      "Epoch 86/500\n"
     ]
    },
    {
     "name": "stderr",
     "output_type": "stream",
     "text": [
      "Loss: -7412.2275: 100%|██████████████████████████████████████████████████████████████| 313/313 [00:37<00:00,  8.46it/s]\n"
     ]
    },
    {
     "name": "stdout",
     "output_type": "stream",
     "text": [
      "✅ Epoch 86 average loss: -7592.9211\n",
      "\n",
      "Epoch 87/500\n"
     ]
    },
    {
     "name": "stderr",
     "output_type": "stream",
     "text": [
      "Loss: -7030.3037: 100%|██████████████████████████████████████████████████████████████| 313/313 [00:35<00:00,  8.76it/s]\n"
     ]
    },
    {
     "name": "stdout",
     "output_type": "stream",
     "text": [
      "✅ Epoch 87 average loss: -7591.8646\n",
      "\n",
      "Epoch 88/500\n"
     ]
    },
    {
     "name": "stderr",
     "output_type": "stream",
     "text": [
      "Loss: -7106.6973: 100%|██████████████████████████████████████████████████████████████| 313/313 [00:38<00:00,  8.19it/s]\n"
     ]
    },
    {
     "name": "stdout",
     "output_type": "stream",
     "text": [
      "✅ Epoch 88 average loss: -7611.4500\n",
      "\n",
      "Epoch 89/500\n"
     ]
    },
    {
     "name": "stderr",
     "output_type": "stream",
     "text": [
      "Loss: -8108.9785: 100%|██████████████████████████████████████████████████████████████| 313/313 [00:38<00:00,  8.20it/s]\n"
     ]
    },
    {
     "name": "stdout",
     "output_type": "stream",
     "text": [
      "✅ Epoch 89 average loss: -7620.3366\n",
      "\n",
      "Epoch 90/500\n"
     ]
    },
    {
     "name": "stderr",
     "output_type": "stream",
     "text": [
      "Loss: -7809.4375: 100%|██████████████████████████████████████████████████████████████| 313/313 [00:40<00:00,  7.82it/s]\n"
     ]
    },
    {
     "name": "stdout",
     "output_type": "stream",
     "text": [
      "✅ Epoch 90 average loss: -7610.6209\n",
      "\n",
      "Epoch 91/500\n"
     ]
    },
    {
     "name": "stderr",
     "output_type": "stream",
     "text": [
      "Loss: -6807.7183: 100%|██████████████████████████████████████████████████████████████| 313/313 [00:39<00:00,  7.94it/s]\n"
     ]
    },
    {
     "name": "stdout",
     "output_type": "stream",
     "text": [
      "✅ Epoch 91 average loss: -7618.8952\n",
      "\n",
      "Epoch 92/500\n"
     ]
    },
    {
     "name": "stderr",
     "output_type": "stream",
     "text": [
      "Loss: -8265.9102: 100%|██████████████████████████████████████████████████████████████| 313/313 [00:55<00:00,  5.60it/s]\n"
     ]
    },
    {
     "name": "stdout",
     "output_type": "stream",
     "text": [
      "✅ Epoch 92 average loss: -7630.1584\n",
      "\n",
      "Epoch 93/500\n"
     ]
    },
    {
     "name": "stderr",
     "output_type": "stream",
     "text": [
      "Loss: -7118.8965: 100%|██████████████████████████████████████████████████████████████| 313/313 [00:41<00:00,  7.63it/s]\n"
     ]
    },
    {
     "name": "stdout",
     "output_type": "stream",
     "text": [
      "✅ Epoch 93 average loss: -7620.0325\n",
      "\n",
      "Epoch 94/500\n"
     ]
    },
    {
     "name": "stderr",
     "output_type": "stream",
     "text": [
      "Loss: -7776.4116: 100%|██████████████████████████████████████████████████████████████| 313/313 [00:40<00:00,  7.80it/s]\n"
     ]
    },
    {
     "name": "stdout",
     "output_type": "stream",
     "text": [
      "✅ Epoch 94 average loss: -7647.5833\n",
      "\n",
      "Epoch 95/500\n"
     ]
    },
    {
     "name": "stderr",
     "output_type": "stream",
     "text": [
      "Loss: -8267.0918: 100%|██████████████████████████████████████████████████████████████| 313/313 [00:39<00:00,  7.93it/s]\n"
     ]
    },
    {
     "name": "stdout",
     "output_type": "stream",
     "text": [
      "✅ Epoch 95 average loss: -7661.8408\n",
      "\n",
      "Epoch 96/500\n"
     ]
    },
    {
     "name": "stderr",
     "output_type": "stream",
     "text": [
      "Loss: -7763.1992: 100%|██████████████████████████████████████████████████████████████| 313/313 [00:37<00:00,  8.26it/s]\n"
     ]
    },
    {
     "name": "stdout",
     "output_type": "stream",
     "text": [
      "✅ Epoch 96 average loss: -7659.7511\n",
      "\n",
      "Epoch 97/500\n"
     ]
    },
    {
     "name": "stderr",
     "output_type": "stream",
     "text": [
      "Loss: -7469.6338: 100%|██████████████████████████████████████████████████████████████| 313/313 [00:38<00:00,  8.16it/s]\n"
     ]
    },
    {
     "name": "stdout",
     "output_type": "stream",
     "text": [
      "✅ Epoch 97 average loss: -7667.2717\n",
      "\n",
      "Epoch 98/500\n"
     ]
    },
    {
     "name": "stderr",
     "output_type": "stream",
     "text": [
      "Loss: -7872.3379: 100%|██████████████████████████████████████████████████████████████| 313/313 [00:37<00:00,  8.44it/s]\n"
     ]
    },
    {
     "name": "stdout",
     "output_type": "stream",
     "text": [
      "✅ Epoch 98 average loss: -7665.8434\n",
      "\n",
      "Epoch 99/500\n"
     ]
    },
    {
     "name": "stderr",
     "output_type": "stream",
     "text": [
      "Loss: -7734.0898: 100%|██████████████████████████████████████████████████████████████| 313/313 [00:36<00:00,  8.62it/s]\n"
     ]
    },
    {
     "name": "stdout",
     "output_type": "stream",
     "text": [
      "✅ Epoch 99 average loss: -7685.7272\n",
      "\n",
      "Epoch 100/500\n"
     ]
    },
    {
     "name": "stderr",
     "output_type": "stream",
     "text": [
      "Loss: -7077.3984: 100%|██████████████████████████████████████████████████████████████| 313/313 [00:37<00:00,  8.29it/s]\n"
     ]
    },
    {
     "name": "stdout",
     "output_type": "stream",
     "text": [
      "✅ Epoch 100 average loss: -7689.3986\n",
      "📦 Saved checkpoint at epoch 100\n",
      "\n",
      "Epoch 101/500\n"
     ]
    },
    {
     "name": "stderr",
     "output_type": "stream",
     "text": [
      "Loss: -7962.0977: 100%|██████████████████████████████████████████████████████████████| 313/313 [00:39<00:00,  7.90it/s]\n"
     ]
    },
    {
     "name": "stdout",
     "output_type": "stream",
     "text": [
      "✅ Epoch 101 average loss: -7693.6138\n",
      "\n",
      "Epoch 102/500\n"
     ]
    },
    {
     "name": "stderr",
     "output_type": "stream",
     "text": [
      "Loss: -8026.1553: 100%|██████████████████████████████████████████████████████████████| 313/313 [00:39<00:00,  7.99it/s]\n"
     ]
    },
    {
     "name": "stdout",
     "output_type": "stream",
     "text": [
      "✅ Epoch 102 average loss: -7697.9461\n",
      "\n",
      "Epoch 103/500\n"
     ]
    },
    {
     "name": "stderr",
     "output_type": "stream",
     "text": [
      "Loss: -7316.0908: 100%|██████████████████████████████████████████████████████████████| 313/313 [00:38<00:00,  8.22it/s]\n"
     ]
    },
    {
     "name": "stdout",
     "output_type": "stream",
     "text": [
      "✅ Epoch 103 average loss: -7706.7849\n",
      "\n",
      "Epoch 104/500\n"
     ]
    },
    {
     "name": "stderr",
     "output_type": "stream",
     "text": [
      "Loss: -7457.3594: 100%|██████████████████████████████████████████████████████████████| 313/313 [00:36<00:00,  8.55it/s]\n"
     ]
    },
    {
     "name": "stdout",
     "output_type": "stream",
     "text": [
      "✅ Epoch 104 average loss: -7700.3028\n",
      "\n",
      "Epoch 105/500\n"
     ]
    },
    {
     "name": "stderr",
     "output_type": "stream",
     "text": [
      "Loss: -8046.3496: 100%|██████████████████████████████████████████████████████████████| 313/313 [00:35<00:00,  8.87it/s]\n"
     ]
    },
    {
     "name": "stdout",
     "output_type": "stream",
     "text": [
      "✅ Epoch 105 average loss: -7702.3087\n",
      "\n",
      "Epoch 106/500\n"
     ]
    },
    {
     "name": "stderr",
     "output_type": "stream",
     "text": [
      "Loss: -8686.8691: 100%|██████████████████████████████████████████████████████████████| 313/313 [00:38<00:00,  8.22it/s]\n"
     ]
    },
    {
     "name": "stdout",
     "output_type": "stream",
     "text": [
      "✅ Epoch 106 average loss: -7732.7484\n",
      "\n",
      "Epoch 107/500\n"
     ]
    },
    {
     "name": "stderr",
     "output_type": "stream",
     "text": [
      "Loss: -7249.8711: 100%|██████████████████████████████████████████████████████████████| 313/313 [00:38<00:00,  8.09it/s]\n"
     ]
    },
    {
     "name": "stdout",
     "output_type": "stream",
     "text": [
      "✅ Epoch 107 average loss: -7714.2038\n",
      "\n",
      "Epoch 108/500\n"
     ]
    },
    {
     "name": "stderr",
     "output_type": "stream",
     "text": [
      "Loss: -7726.7148: 100%|██████████████████████████████████████████████████████████████| 313/313 [00:39<00:00,  7.90it/s]\n"
     ]
    },
    {
     "name": "stdout",
     "output_type": "stream",
     "text": [
      "✅ Epoch 108 average loss: -7743.4522\n",
      "\n",
      "Epoch 109/500\n"
     ]
    },
    {
     "name": "stderr",
     "output_type": "stream",
     "text": [
      "Loss: -7233.6353: 100%|██████████████████████████████████████████████████████████████| 313/313 [00:38<00:00,  8.21it/s]\n"
     ]
    },
    {
     "name": "stdout",
     "output_type": "stream",
     "text": [
      "✅ Epoch 109 average loss: -7725.8127\n",
      "\n",
      "Epoch 110/500\n"
     ]
    },
    {
     "name": "stderr",
     "output_type": "stream",
     "text": [
      "Loss: -7811.3491: 100%|██████████████████████████████████████████████████████████████| 313/313 [00:37<00:00,  8.30it/s]\n"
     ]
    },
    {
     "name": "stdout",
     "output_type": "stream",
     "text": [
      "✅ Epoch 110 average loss: -7757.3964\n",
      "\n",
      "Epoch 111/500\n"
     ]
    },
    {
     "name": "stderr",
     "output_type": "stream",
     "text": [
      "Loss: -7821.0962: 100%|██████████████████████████████████████████████████████████████| 313/313 [00:36<00:00,  8.69it/s]\n"
     ]
    },
    {
     "name": "stdout",
     "output_type": "stream",
     "text": [
      "✅ Epoch 111 average loss: -7763.1956\n",
      "\n",
      "Epoch 112/500\n"
     ]
    },
    {
     "name": "stderr",
     "output_type": "stream",
     "text": [
      "Loss: -8278.9141: 100%|██████████████████████████████████████████████████████████████| 313/313 [00:34<00:00,  8.95it/s]\n"
     ]
    },
    {
     "name": "stdout",
     "output_type": "stream",
     "text": [
      "✅ Epoch 112 average loss: -7752.4525\n",
      "\n",
      "Epoch 113/500\n"
     ]
    },
    {
     "name": "stderr",
     "output_type": "stream",
     "text": [
      "Loss: -8161.9707: 100%|██████████████████████████████████████████████████████████████| 313/313 [00:39<00:00,  7.87it/s]\n"
     ]
    },
    {
     "name": "stdout",
     "output_type": "stream",
     "text": [
      "✅ Epoch 113 average loss: -7773.1005\n",
      "\n",
      "Epoch 114/500\n"
     ]
    },
    {
     "name": "stderr",
     "output_type": "stream",
     "text": [
      "Loss: -7057.7822: 100%|██████████████████████████████████████████████████████████████| 313/313 [00:38<00:00,  8.18it/s]\n"
     ]
    },
    {
     "name": "stdout",
     "output_type": "stream",
     "text": [
      "✅ Epoch 114 average loss: -7755.5070\n",
      "\n",
      "Epoch 115/500\n"
     ]
    },
    {
     "name": "stderr",
     "output_type": "stream",
     "text": [
      "Loss: -8557.3232: 100%|██████████████████████████████████████████████████████████████| 313/313 [00:37<00:00,  8.33it/s]\n"
     ]
    },
    {
     "name": "stdout",
     "output_type": "stream",
     "text": [
      "✅ Epoch 115 average loss: -7775.0612\n",
      "\n",
      "Epoch 116/500\n"
     ]
    },
    {
     "name": "stderr",
     "output_type": "stream",
     "text": [
      "Loss: -7766.4307: 100%|██████████████████████████████████████████████████████████████| 313/313 [00:37<00:00,  8.31it/s]\n"
     ]
    },
    {
     "name": "stdout",
     "output_type": "stream",
     "text": [
      "✅ Epoch 116 average loss: -7778.3997\n",
      "\n",
      "Epoch 117/500\n"
     ]
    },
    {
     "name": "stderr",
     "output_type": "stream",
     "text": [
      "Loss: -7885.8818: 100%|██████████████████████████████████████████████████████████████| 313/313 [00:35<00:00,  8.71it/s]\n"
     ]
    },
    {
     "name": "stdout",
     "output_type": "stream",
     "text": [
      "✅ Epoch 117 average loss: -7778.2833\n",
      "\n",
      "Epoch 118/500\n"
     ]
    },
    {
     "name": "stderr",
     "output_type": "stream",
     "text": [
      "Loss: -7698.8125: 100%|██████████████████████████████████████████████████████████████| 313/313 [00:35<00:00,  8.88it/s]\n"
     ]
    },
    {
     "name": "stdout",
     "output_type": "stream",
     "text": [
      "✅ Epoch 118 average loss: -7794.2795\n",
      "\n",
      "Epoch 119/500\n"
     ]
    },
    {
     "name": "stderr",
     "output_type": "stream",
     "text": [
      "Loss: -8188.7549: 100%|██████████████████████████████████████████████████████████████| 313/313 [00:37<00:00,  8.36it/s]\n"
     ]
    },
    {
     "name": "stdout",
     "output_type": "stream",
     "text": [
      "✅ Epoch 119 average loss: -7793.1531\n",
      "\n",
      "Epoch 120/500\n"
     ]
    },
    {
     "name": "stderr",
     "output_type": "stream",
     "text": [
      "Loss: -7894.1899: 100%|██████████████████████████████████████████████████████████████| 313/313 [00:38<00:00,  8.21it/s]\n"
     ]
    },
    {
     "name": "stdout",
     "output_type": "stream",
     "text": [
      "✅ Epoch 120 average loss: -7810.2616\n",
      "\n",
      "Epoch 121/500\n"
     ]
    },
    {
     "name": "stderr",
     "output_type": "stream",
     "text": [
      "Loss: -7686.5859: 100%|██████████████████████████████████████████████████████████████| 313/313 [00:38<00:00,  8.08it/s]\n"
     ]
    },
    {
     "name": "stdout",
     "output_type": "stream",
     "text": [
      "✅ Epoch 121 average loss: -7804.9629\n",
      "\n",
      "Epoch 122/500\n"
     ]
    },
    {
     "name": "stderr",
     "output_type": "stream",
     "text": [
      "Loss: -7983.1670: 100%|██████████████████████████████████████████████████████████████| 313/313 [00:36<00:00,  8.55it/s]\n"
     ]
    },
    {
     "name": "stdout",
     "output_type": "stream",
     "text": [
      "✅ Epoch 122 average loss: -7795.8501\n",
      "\n",
      "Epoch 123/500\n"
     ]
    },
    {
     "name": "stderr",
     "output_type": "stream",
     "text": [
      "Loss: -8160.8105: 100%|██████████████████████████████████████████████████████████████| 313/313 [00:37<00:00,  8.33it/s]\n"
     ]
    },
    {
     "name": "stdout",
     "output_type": "stream",
     "text": [
      "✅ Epoch 123 average loss: -7813.1384\n",
      "\n",
      "Epoch 124/500\n"
     ]
    },
    {
     "name": "stderr",
     "output_type": "stream",
     "text": [
      "Loss: -7509.6611: 100%|██████████████████████████████████████████████████████████████| 313/313 [00:36<00:00,  8.63it/s]\n"
     ]
    },
    {
     "name": "stdout",
     "output_type": "stream",
     "text": [
      "✅ Epoch 124 average loss: -7824.2679\n",
      "\n",
      "Epoch 125/500\n"
     ]
    },
    {
     "name": "stderr",
     "output_type": "stream",
     "text": [
      "Loss: -7502.3838: 100%|██████████████████████████████████████████████████████████████| 313/313 [00:34<00:00,  9.01it/s]\n"
     ]
    },
    {
     "name": "stdout",
     "output_type": "stream",
     "text": [
      "✅ Epoch 125 average loss: -7817.0055\n",
      "\n",
      "Epoch 126/500\n"
     ]
    },
    {
     "name": "stderr",
     "output_type": "stream",
     "text": [
      "Loss: -7602.5762: 100%|██████████████████████████████████████████████████████████████| 313/313 [00:40<00:00,  7.76it/s]\n"
     ]
    },
    {
     "name": "stdout",
     "output_type": "stream",
     "text": [
      "✅ Epoch 126 average loss: -7841.0516\n",
      "\n",
      "Epoch 127/500\n"
     ]
    },
    {
     "name": "stderr",
     "output_type": "stream",
     "text": [
      "Loss: -7271.3901: 100%|██████████████████████████████████████████████████████████████| 313/313 [00:39<00:00,  7.96it/s]\n"
     ]
    },
    {
     "name": "stdout",
     "output_type": "stream",
     "text": [
      "✅ Epoch 127 average loss: -7831.5327\n",
      "\n",
      "Epoch 128/500\n"
     ]
    },
    {
     "name": "stderr",
     "output_type": "stream",
     "text": [
      "Loss: -8571.8887: 100%|██████████████████████████████████████████████████████████████| 313/313 [00:38<00:00,  8.17it/s]\n"
     ]
    },
    {
     "name": "stdout",
     "output_type": "stream",
     "text": [
      "✅ Epoch 128 average loss: -7848.8048\n",
      "\n",
      "Epoch 129/500\n"
     ]
    },
    {
     "name": "stderr",
     "output_type": "stream",
     "text": [
      "Loss: -8015.6475: 100%|██████████████████████████████████████████████████████████████| 313/313 [00:38<00:00,  8.04it/s]\n"
     ]
    },
    {
     "name": "stdout",
     "output_type": "stream",
     "text": [
      "✅ Epoch 129 average loss: -7848.9182\n",
      "\n",
      "Epoch 130/500\n"
     ]
    },
    {
     "name": "stderr",
     "output_type": "stream",
     "text": [
      "Loss: -7811.6143: 100%|██████████████████████████████████████████████████████████████| 313/313 [00:36<00:00,  8.57it/s]\n"
     ]
    },
    {
     "name": "stdout",
     "output_type": "stream",
     "text": [
      "✅ Epoch 130 average loss: -7847.5900\n",
      "\n",
      "Epoch 131/500\n"
     ]
    },
    {
     "name": "stderr",
     "output_type": "stream",
     "text": [
      "Loss: -7120.5713: 100%|██████████████████████████████████████████████████████████████| 313/313 [00:35<00:00,  8.82it/s]\n"
     ]
    },
    {
     "name": "stdout",
     "output_type": "stream",
     "text": [
      "✅ Epoch 131 average loss: -7840.6215\n",
      "\n",
      "Epoch 132/500\n"
     ]
    },
    {
     "name": "stderr",
     "output_type": "stream",
     "text": [
      "Loss: -7895.0356: 100%|██████████████████████████████████████████████████████████████| 313/313 [00:38<00:00,  8.18it/s]\n"
     ]
    },
    {
     "name": "stdout",
     "output_type": "stream",
     "text": [
      "✅ Epoch 132 average loss: -7870.2288\n",
      "\n",
      "Epoch 133/500\n"
     ]
    },
    {
     "name": "stderr",
     "output_type": "stream",
     "text": [
      "Loss: -7797.9209: 100%|██████████████████████████████████████████████████████████████| 313/313 [00:37<00:00,  8.24it/s]\n"
     ]
    },
    {
     "name": "stdout",
     "output_type": "stream",
     "text": [
      "✅ Epoch 133 average loss: -7854.9964\n",
      "\n",
      "Epoch 134/500\n"
     ]
    },
    {
     "name": "stderr",
     "output_type": "stream",
     "text": [
      "Loss: -8354.2861: 100%|██████████████████████████████████████████████████████████████| 313/313 [00:38<00:00,  8.18it/s]\n"
     ]
    },
    {
     "name": "stdout",
     "output_type": "stream",
     "text": [
      "✅ Epoch 134 average loss: -7875.1542\n",
      "\n",
      "Epoch 135/500\n"
     ]
    },
    {
     "name": "stderr",
     "output_type": "stream",
     "text": [
      "Loss: -8154.8682: 100%|██████████████████████████████████████████████████████████████| 313/313 [00:37<00:00,  8.26it/s]\n"
     ]
    },
    {
     "name": "stdout",
     "output_type": "stream",
     "text": [
      "✅ Epoch 135 average loss: -7883.5654\n",
      "\n",
      "Epoch 136/500\n"
     ]
    },
    {
     "name": "stderr",
     "output_type": "stream",
     "text": [
      "Loss: -6790.6768: 100%|██████████████████████████████████████████████████████████████| 313/313 [00:37<00:00,  8.35it/s]\n"
     ]
    },
    {
     "name": "stdout",
     "output_type": "stream",
     "text": [
      "✅ Epoch 136 average loss: -7883.4616\n",
      "\n",
      "Epoch 137/500\n"
     ]
    },
    {
     "name": "stderr",
     "output_type": "stream",
     "text": [
      "Loss: -8148.1484: 100%|██████████████████████████████████████████████████████████████| 313/313 [00:36<00:00,  8.57it/s]\n"
     ]
    },
    {
     "name": "stdout",
     "output_type": "stream",
     "text": [
      "✅ Epoch 137 average loss: -7875.2813\n",
      "\n",
      "Epoch 138/500\n"
     ]
    },
    {
     "name": "stderr",
     "output_type": "stream",
     "text": [
      "Loss: -8178.3994: 100%|██████████████████████████████████████████████████████████████| 313/313 [00:36<00:00,  8.64it/s]\n"
     ]
    },
    {
     "name": "stdout",
     "output_type": "stream",
     "text": [
      "✅ Epoch 138 average loss: -7884.6522\n",
      "\n",
      "Epoch 139/500\n"
     ]
    },
    {
     "name": "stderr",
     "output_type": "stream",
     "text": [
      "Loss: -7892.3193: 100%|██████████████████████████████████████████████████████████████| 313/313 [00:38<00:00,  8.04it/s]\n"
     ]
    },
    {
     "name": "stdout",
     "output_type": "stream",
     "text": [
      "✅ Epoch 139 average loss: -7894.3701\n",
      "\n",
      "Epoch 140/500\n"
     ]
    },
    {
     "name": "stderr",
     "output_type": "stream",
     "text": [
      "Loss: -8056.4233: 100%|██████████████████████████████████████████████████████████████| 313/313 [00:39<00:00,  8.03it/s]\n"
     ]
    },
    {
     "name": "stdout",
     "output_type": "stream",
     "text": [
      "✅ Epoch 140 average loss: -7900.1053\n",
      "\n",
      "Epoch 141/500\n"
     ]
    },
    {
     "name": "stderr",
     "output_type": "stream",
     "text": [
      "Loss: -7412.9106: 100%|██████████████████████████████████████████████████████████████| 313/313 [00:37<00:00,  8.30it/s]\n"
     ]
    },
    {
     "name": "stdout",
     "output_type": "stream",
     "text": [
      "✅ Epoch 141 average loss: -7899.9632\n",
      "\n",
      "Epoch 142/500\n"
     ]
    },
    {
     "name": "stderr",
     "output_type": "stream",
     "text": [
      "Loss: -7471.4180: 100%|██████████████████████████████████████████████████████████████| 313/313 [00:37<00:00,  8.35it/s]\n"
     ]
    },
    {
     "name": "stdout",
     "output_type": "stream",
     "text": [
      "✅ Epoch 142 average loss: -7892.7743\n",
      "\n",
      "Epoch 143/500\n"
     ]
    },
    {
     "name": "stderr",
     "output_type": "stream",
     "text": [
      "Loss: -8001.6392: 100%|██████████████████████████████████████████████████████████████| 313/313 [00:36<00:00,  8.50it/s]\n"
     ]
    },
    {
     "name": "stdout",
     "output_type": "stream",
     "text": [
      "✅ Epoch 143 average loss: -7917.1845\n",
      "\n",
      "Epoch 144/500\n"
     ]
    },
    {
     "name": "stderr",
     "output_type": "stream",
     "text": [
      "Loss: -8277.1172: 100%|██████████████████████████████████████████████████████████████| 313/313 [00:35<00:00,  8.94it/s]\n"
     ]
    },
    {
     "name": "stdout",
     "output_type": "stream",
     "text": [
      "✅ Epoch 144 average loss: -7922.3400\n",
      "\n",
      "Epoch 145/500\n"
     ]
    },
    {
     "name": "stderr",
     "output_type": "stream",
     "text": [
      "Loss: -7892.8589: 100%|██████████████████████████████████████████████████████████████| 313/313 [00:39<00:00,  7.97it/s]\n"
     ]
    },
    {
     "name": "stdout",
     "output_type": "stream",
     "text": [
      "✅ Epoch 145 average loss: -7926.6197\n",
      "\n",
      "Epoch 146/500\n"
     ]
    },
    {
     "name": "stderr",
     "output_type": "stream",
     "text": [
      "Loss: -7522.1748: 100%|██████████████████████████████████████████████████████████████| 313/313 [00:37<00:00,  8.30it/s]\n"
     ]
    },
    {
     "name": "stdout",
     "output_type": "stream",
     "text": [
      "✅ Epoch 146 average loss: -7917.5264\n",
      "\n",
      "Epoch 147/500\n"
     ]
    },
    {
     "name": "stderr",
     "output_type": "stream",
     "text": [
      "Loss: -8912.6055: 100%|██████████████████████████████████████████████████████████████| 313/313 [00:38<00:00,  8.18it/s]\n"
     ]
    },
    {
     "name": "stdout",
     "output_type": "stream",
     "text": [
      "✅ Epoch 147 average loss: -7909.0635\n",
      "\n",
      "Epoch 148/500\n"
     ]
    },
    {
     "name": "stderr",
     "output_type": "stream",
     "text": [
      "Loss: -7799.1123: 100%|██████████████████████████████████████████████████████████████| 313/313 [00:38<00:00,  8.06it/s]\n"
     ]
    },
    {
     "name": "stdout",
     "output_type": "stream",
     "text": [
      "✅ Epoch 148 average loss: -7941.3192\n",
      "\n",
      "Epoch 149/500\n"
     ]
    },
    {
     "name": "stderr",
     "output_type": "stream",
     "text": [
      "Loss: -7811.4111: 100%|██████████████████████████████████████████████████████████████| 313/313 [00:36<00:00,  8.61it/s]\n"
     ]
    },
    {
     "name": "stdout",
     "output_type": "stream",
     "text": [
      "✅ Epoch 149 average loss: -7937.4725\n",
      "\n",
      "Epoch 150/500\n"
     ]
    },
    {
     "name": "stderr",
     "output_type": "stream",
     "text": [
      "Loss: -7768.5347: 100%|██████████████████████████████████████████████████████████████| 313/313 [00:36<00:00,  8.62it/s]\n"
     ]
    },
    {
     "name": "stdout",
     "output_type": "stream",
     "text": [
      "✅ Epoch 150 average loss: -7936.0468\n",
      "\n",
      "Epoch 151/500\n"
     ]
    },
    {
     "name": "stderr",
     "output_type": "stream",
     "text": [
      "Loss: -7701.9756: 100%|██████████████████████████████████████████████████████████████| 313/313 [00:38<00:00,  8.18it/s]\n"
     ]
    },
    {
     "name": "stdout",
     "output_type": "stream",
     "text": [
      "✅ Epoch 151 average loss: -7955.9337\n",
      "\n",
      "Epoch 152/500\n"
     ]
    },
    {
     "name": "stderr",
     "output_type": "stream",
     "text": [
      "Loss: -8060.8950: 100%|██████████████████████████████████████████████████████████████| 313/313 [00:39<00:00,  7.94it/s]\n"
     ]
    },
    {
     "name": "stdout",
     "output_type": "stream",
     "text": [
      "✅ Epoch 152 average loss: -7941.0311\n",
      "\n",
      "Epoch 153/500\n"
     ]
    },
    {
     "name": "stderr",
     "output_type": "stream",
     "text": [
      "Loss: -7848.9805: 100%|██████████████████████████████████████████████████████████████| 313/313 [00:38<00:00,  8.06it/s]\n"
     ]
    },
    {
     "name": "stdout",
     "output_type": "stream",
     "text": [
      "✅ Epoch 153 average loss: -7958.7689\n",
      "\n",
      "Epoch 154/500\n"
     ]
    },
    {
     "name": "stderr",
     "output_type": "stream",
     "text": [
      "Loss: -7387.1777: 100%|██████████████████████████████████████████████████████████████| 313/313 [00:37<00:00,  8.27it/s]\n"
     ]
    },
    {
     "name": "stdout",
     "output_type": "stream",
     "text": [
      "✅ Epoch 154 average loss: -7963.7554\n",
      "\n",
      "Epoch 155/500\n"
     ]
    },
    {
     "name": "stderr",
     "output_type": "stream",
     "text": [
      "Loss: -8042.2026: 100%|██████████████████████████████████████████████████████████████| 313/313 [00:36<00:00,  8.47it/s]\n"
     ]
    },
    {
     "name": "stdout",
     "output_type": "stream",
     "text": [
      "✅ Epoch 155 average loss: -7967.9659\n",
      "\n",
      "Epoch 156/500\n"
     ]
    },
    {
     "name": "stderr",
     "output_type": "stream",
     "text": [
      "Loss: -7972.5151: 100%|██████████████████████████████████████████████████████████████| 313/313 [00:36<00:00,  8.64it/s]\n"
     ]
    },
    {
     "name": "stdout",
     "output_type": "stream",
     "text": [
      "✅ Epoch 156 average loss: -7963.6577\n",
      "\n",
      "Epoch 157/500\n"
     ]
    },
    {
     "name": "stderr",
     "output_type": "stream",
     "text": [
      "Loss: -7641.8672: 100%|██████████████████████████████████████████████████████████████| 313/313 [00:35<00:00,  8.79it/s]\n"
     ]
    },
    {
     "name": "stdout",
     "output_type": "stream",
     "text": [
      "✅ Epoch 157 average loss: -7974.5350\n",
      "\n",
      "Epoch 158/500\n"
     ]
    },
    {
     "name": "stderr",
     "output_type": "stream",
     "text": [
      "Loss: -7684.6743: 100%|██████████████████████████████████████████████████████████████| 313/313 [00:39<00:00,  7.87it/s]\n"
     ]
    },
    {
     "name": "stdout",
     "output_type": "stream",
     "text": [
      "✅ Epoch 158 average loss: -7966.3283\n",
      "\n",
      "Epoch 159/500\n"
     ]
    },
    {
     "name": "stderr",
     "output_type": "stream",
     "text": [
      "Loss: -7566.8735: 100%|██████████████████████████████████████████████████████████████| 313/313 [00:39<00:00,  7.89it/s]\n"
     ]
    },
    {
     "name": "stdout",
     "output_type": "stream",
     "text": [
      "✅ Epoch 159 average loss: -7985.7818\n",
      "\n",
      "Epoch 160/500\n"
     ]
    },
    {
     "name": "stderr",
     "output_type": "stream",
     "text": [
      "Loss: -7838.4355: 100%|██████████████████████████████████████████████████████████████| 313/313 [00:37<00:00,  8.41it/s]\n"
     ]
    },
    {
     "name": "stdout",
     "output_type": "stream",
     "text": [
      "✅ Epoch 160 average loss: -7970.6860\n",
      "\n",
      "Epoch 161/500\n"
     ]
    },
    {
     "name": "stderr",
     "output_type": "stream",
     "text": [
      "Loss: -7994.1968: 100%|██████████████████████████████████████████████████████████████| 313/313 [00:38<00:00,  8.17it/s]\n"
     ]
    },
    {
     "name": "stdout",
     "output_type": "stream",
     "text": [
      "✅ Epoch 161 average loss: -7985.7893\n",
      "\n",
      "Epoch 162/500\n"
     ]
    },
    {
     "name": "stderr",
     "output_type": "stream",
     "text": [
      "Loss: -7757.4395: 100%|██████████████████████████████████████████████████████████████| 313/313 [00:36<00:00,  8.63it/s]\n"
     ]
    },
    {
     "name": "stdout",
     "output_type": "stream",
     "text": [
      "✅ Epoch 162 average loss: -7996.1782\n",
      "\n",
      "Epoch 163/500\n"
     ]
    },
    {
     "name": "stderr",
     "output_type": "stream",
     "text": [
      "Loss: -8528.4951: 100%|██████████████████████████████████████████████████████████████| 313/313 [00:35<00:00,  8.84it/s]\n"
     ]
    },
    {
     "name": "stdout",
     "output_type": "stream",
     "text": [
      "✅ Epoch 163 average loss: -7989.7541\n",
      "\n",
      "Epoch 164/500\n"
     ]
    },
    {
     "name": "stderr",
     "output_type": "stream",
     "text": [
      "Loss: -8562.6670: 100%|██████████████████████████████████████████████████████████████| 313/313 [00:39<00:00,  7.96it/s]\n"
     ]
    },
    {
     "name": "stdout",
     "output_type": "stream",
     "text": [
      "✅ Epoch 164 average loss: -7999.9092\n",
      "\n",
      "Epoch 165/500\n"
     ]
    },
    {
     "name": "stderr",
     "output_type": "stream",
     "text": [
      "Loss: -7894.3628: 100%|██████████████████████████████████████████████████████████████| 313/313 [00:38<00:00,  8.13it/s]\n"
     ]
    },
    {
     "name": "stdout",
     "output_type": "stream",
     "text": [
      "✅ Epoch 165 average loss: -8008.1982\n",
      "\n",
      "Epoch 166/500\n"
     ]
    },
    {
     "name": "stderr",
     "output_type": "stream",
     "text": [
      "Loss: -7927.6782: 100%|██████████████████████████████████████████████████████████████| 313/313 [00:37<00:00,  8.36it/s]\n"
     ]
    },
    {
     "name": "stdout",
     "output_type": "stream",
     "text": [
      "✅ Epoch 166 average loss: -8004.2000\n",
      "\n",
      "Epoch 167/500\n"
     ]
    },
    {
     "name": "stderr",
     "output_type": "stream",
     "text": [
      "Loss: -8555.8594: 100%|██████████████████████████████████████████████████████████████| 313/313 [00:38<00:00,  8.20it/s]\n"
     ]
    },
    {
     "name": "stdout",
     "output_type": "stream",
     "text": [
      "✅ Epoch 167 average loss: -8019.7349\n",
      "\n",
      "Epoch 168/500\n"
     ]
    },
    {
     "name": "stderr",
     "output_type": "stream",
     "text": [
      "Loss: -7926.2964: 100%|██████████████████████████████████████████████████████████████| 313/313 [00:36<00:00,  8.48it/s]\n"
     ]
    },
    {
     "name": "stdout",
     "output_type": "stream",
     "text": [
      "✅ Epoch 168 average loss: -8021.1549\n",
      "\n",
      "Epoch 169/500\n"
     ]
    },
    {
     "name": "stderr",
     "output_type": "stream",
     "text": [
      "Loss: -8173.2915: 100%|██████████████████████████████████████████████████████████████| 313/313 [00:35<00:00,  8.69it/s]\n"
     ]
    },
    {
     "name": "stdout",
     "output_type": "stream",
     "text": [
      "✅ Epoch 169 average loss: -8013.5961\n",
      "\n",
      "Epoch 170/500\n"
     ]
    },
    {
     "name": "stderr",
     "output_type": "stream",
     "text": [
      "Loss: -7435.3799: 100%|██████████████████████████████████████████████████████████████| 313/313 [00:36<00:00,  8.59it/s]\n"
     ]
    },
    {
     "name": "stdout",
     "output_type": "stream",
     "text": [
      "✅ Epoch 170 average loss: -8022.8829\n",
      "\n",
      "Epoch 171/500\n"
     ]
    },
    {
     "name": "stderr",
     "output_type": "stream",
     "text": [
      "Loss: -7477.3154: 100%|██████████████████████████████████████████████████████████████| 313/313 [00:39<00:00,  8.00it/s]\n"
     ]
    },
    {
     "name": "stdout",
     "output_type": "stream",
     "text": [
      "✅ Epoch 171 average loss: -8026.7814\n",
      "\n",
      "Epoch 172/500\n"
     ]
    },
    {
     "name": "stderr",
     "output_type": "stream",
     "text": [
      "Loss: -7390.9238: 100%|██████████████████████████████████████████████████████████████| 313/313 [00:39<00:00,  7.95it/s]\n"
     ]
    },
    {
     "name": "stdout",
     "output_type": "stream",
     "text": [
      "✅ Epoch 172 average loss: -8021.0452\n",
      "\n",
      "Epoch 173/500\n"
     ]
    },
    {
     "name": "stderr",
     "output_type": "stream",
     "text": [
      "Loss: -8238.9961: 100%|██████████████████████████████████████████████████████████████| 313/313 [00:36<00:00,  8.56it/s]\n"
     ]
    },
    {
     "name": "stdout",
     "output_type": "stream",
     "text": [
      "✅ Epoch 173 average loss: -8044.9036\n",
      "\n",
      "Epoch 174/500\n"
     ]
    },
    {
     "name": "stderr",
     "output_type": "stream",
     "text": [
      "Loss: -8481.3789: 100%|██████████████████████████████████████████████████████████████| 313/313 [00:37<00:00,  8.35it/s]\n"
     ]
    },
    {
     "name": "stdout",
     "output_type": "stream",
     "text": [
      "✅ Epoch 174 average loss: -8039.4626\n",
      "\n",
      "Epoch 175/500\n"
     ]
    },
    {
     "name": "stderr",
     "output_type": "stream",
     "text": [
      "Loss: -8135.4639: 100%|██████████████████████████████████████████████████████████████| 313/313 [00:37<00:00,  8.37it/s]\n"
     ]
    },
    {
     "name": "stdout",
     "output_type": "stream",
     "text": [
      "✅ Epoch 175 average loss: -8040.7823\n",
      "\n",
      "Epoch 176/500\n"
     ]
    },
    {
     "name": "stderr",
     "output_type": "stream",
     "text": [
      "Loss: -7833.6074: 100%|██████████████████████████████████████████████████████████████| 313/313 [00:35<00:00,  8.82it/s]\n"
     ]
    },
    {
     "name": "stdout",
     "output_type": "stream",
     "text": [
      "✅ Epoch 176 average loss: -8033.7160\n",
      "\n",
      "Epoch 177/500\n"
     ]
    },
    {
     "name": "stderr",
     "output_type": "stream",
     "text": [
      "Loss: -7777.0039: 100%|██████████████████████████████████████████████████████████████| 313/313 [00:39<00:00,  7.89it/s]\n"
     ]
    },
    {
     "name": "stdout",
     "output_type": "stream",
     "text": [
      "✅ Epoch 177 average loss: -8050.9628\n",
      "\n",
      "Epoch 178/500\n"
     ]
    },
    {
     "name": "stderr",
     "output_type": "stream",
     "text": [
      "Loss: -7727.6035: 100%|██████████████████████████████████████████████████████████████| 313/313 [00:39<00:00,  7.98it/s]\n"
     ]
    },
    {
     "name": "stdout",
     "output_type": "stream",
     "text": [
      "✅ Epoch 178 average loss: -8042.5894\n",
      "\n",
      "Epoch 179/500\n"
     ]
    },
    {
     "name": "stderr",
     "output_type": "stream",
     "text": [
      "Loss: -8130.6270: 100%|██████████████████████████████████████████████████████████████| 313/313 [00:39<00:00,  7.92it/s]\n"
     ]
    },
    {
     "name": "stdout",
     "output_type": "stream",
     "text": [
      "✅ Epoch 179 average loss: -8060.8579\n",
      "\n",
      "Epoch 180/500\n"
     ]
    },
    {
     "name": "stderr",
     "output_type": "stream",
     "text": [
      "Loss: -7906.2769: 100%|██████████████████████████████████████████████████████████████| 313/313 [00:38<00:00,  8.15it/s]\n"
     ]
    },
    {
     "name": "stdout",
     "output_type": "stream",
     "text": [
      "✅ Epoch 180 average loss: -8055.7364\n",
      "\n",
      "Epoch 181/500\n"
     ]
    },
    {
     "name": "stderr",
     "output_type": "stream",
     "text": [
      "Loss: -8000.7231: 100%|██████████████████████████████████████████████████████████████| 313/313 [00:36<00:00,  8.65it/s]\n"
     ]
    },
    {
     "name": "stdout",
     "output_type": "stream",
     "text": [
      "✅ Epoch 181 average loss: -8064.3102\n",
      "\n",
      "Epoch 182/500\n"
     ]
    },
    {
     "name": "stderr",
     "output_type": "stream",
     "text": [
      "Loss: -7901.2793: 100%|██████████████████████████████████████████████████████████████| 313/313 [00:35<00:00,  8.70it/s]\n"
     ]
    },
    {
     "name": "stdout",
     "output_type": "stream",
     "text": [
      "✅ Epoch 182 average loss: -8066.8737\n",
      "\n",
      "Epoch 183/500\n"
     ]
    },
    {
     "name": "stderr",
     "output_type": "stream",
     "text": [
      "Loss: -8174.2783: 100%|██████████████████████████████████████████████████████████████| 313/313 [00:39<00:00,  8.00it/s]\n"
     ]
    },
    {
     "name": "stdout",
     "output_type": "stream",
     "text": [
      "✅ Epoch 183 average loss: -8068.1895\n",
      "\n",
      "Epoch 184/500\n"
     ]
    },
    {
     "name": "stderr",
     "output_type": "stream",
     "text": [
      "Loss: -7790.7793: 100%|██████████████████████████████████████████████████████████████| 313/313 [00:38<00:00,  8.04it/s]\n"
     ]
    },
    {
     "name": "stdout",
     "output_type": "stream",
     "text": [
      "✅ Epoch 184 average loss: -8070.9178\n",
      "\n",
      "Epoch 185/500\n"
     ]
    },
    {
     "name": "stderr",
     "output_type": "stream",
     "text": [
      "Loss: -8039.5239: 100%|██████████████████████████████████████████████████████████████| 313/313 [00:38<00:00,  8.08it/s]\n"
     ]
    },
    {
     "name": "stdout",
     "output_type": "stream",
     "text": [
      "✅ Epoch 185 average loss: -8072.8803\n",
      "\n",
      "Epoch 186/500\n"
     ]
    },
    {
     "name": "stderr",
     "output_type": "stream",
     "text": [
      "Loss: -7637.4561: 100%|██████████████████████████████████████████████████████████████| 313/313 [00:37<00:00,  8.29it/s]\n"
     ]
    },
    {
     "name": "stdout",
     "output_type": "stream",
     "text": [
      "✅ Epoch 186 average loss: -8067.4106\n",
      "\n",
      "Epoch 187/500\n"
     ]
    },
    {
     "name": "stderr",
     "output_type": "stream",
     "text": [
      "Loss: -7674.3936: 100%|██████████████████████████████████████████████████████████████| 313/313 [00:36<00:00,  8.49it/s]\n"
     ]
    },
    {
     "name": "stdout",
     "output_type": "stream",
     "text": [
      "✅ Epoch 187 average loss: -8092.0892\n",
      "\n",
      "Epoch 188/500\n"
     ]
    },
    {
     "name": "stderr",
     "output_type": "stream",
     "text": [
      "Loss: -8551.1445: 100%|██████████████████████████████████████████████████████████████| 313/313 [00:35<00:00,  8.82it/s]\n"
     ]
    },
    {
     "name": "stdout",
     "output_type": "stream",
     "text": [
      "✅ Epoch 188 average loss: -8094.5921\n",
      "\n",
      "Epoch 189/500\n"
     ]
    },
    {
     "name": "stderr",
     "output_type": "stream",
     "text": [
      "Loss: -8212.3574: 100%|██████████████████████████████████████████████████████████████| 313/313 [00:36<00:00,  8.51it/s]\n"
     ]
    },
    {
     "name": "stdout",
     "output_type": "stream",
     "text": [
      "✅ Epoch 189 average loss: -8099.1439\n",
      "\n",
      "Epoch 190/500\n"
     ]
    },
    {
     "name": "stderr",
     "output_type": "stream",
     "text": [
      "Loss: -8534.0078: 100%|██████████████████████████████████████████████████████████████| 313/313 [00:39<00:00,  7.83it/s]\n"
     ]
    },
    {
     "name": "stdout",
     "output_type": "stream",
     "text": [
      "✅ Epoch 190 average loss: -8077.7333\n",
      "\n",
      "Epoch 191/500\n"
     ]
    },
    {
     "name": "stderr",
     "output_type": "stream",
     "text": [
      "Loss: -8424.5889: 100%|██████████████████████████████████████████████████████████████| 313/313 [00:40<00:00,  7.80it/s]\n"
     ]
    },
    {
     "name": "stdout",
     "output_type": "stream",
     "text": [
      "✅ Epoch 191 average loss: -8095.3762\n",
      "\n",
      "Epoch 192/500\n"
     ]
    },
    {
     "name": "stderr",
     "output_type": "stream",
     "text": [
      "Loss: -8561.5176: 100%|██████████████████████████████████████████████████████████████| 313/313 [00:37<00:00,  8.46it/s]\n"
     ]
    },
    {
     "name": "stdout",
     "output_type": "stream",
     "text": [
      "✅ Epoch 192 average loss: -8093.6994\n",
      "\n",
      "Epoch 193/500\n"
     ]
    },
    {
     "name": "stderr",
     "output_type": "stream",
     "text": [
      "Loss: -8014.2217: 100%|██████████████████████████████████████████████████████████████| 313/313 [00:36<00:00,  8.46it/s]\n"
     ]
    },
    {
     "name": "stdout",
     "output_type": "stream",
     "text": [
      "✅ Epoch 193 average loss: -8113.2330\n",
      "\n",
      "Epoch 194/500\n"
     ]
    },
    {
     "name": "stderr",
     "output_type": "stream",
     "text": [
      "Loss: -7954.8276: 100%|██████████████████████████████████████████████████████████████| 313/313 [00:36<00:00,  8.63it/s]\n"
     ]
    },
    {
     "name": "stdout",
     "output_type": "stream",
     "text": [
      "✅ Epoch 194 average loss: -8111.1946\n",
      "\n",
      "Epoch 195/500\n"
     ]
    },
    {
     "name": "stderr",
     "output_type": "stream",
     "text": [
      "Loss: -8085.4385: 100%|██████████████████████████████████████████████████████████████| 313/313 [00:34<00:00,  9.12it/s]\n"
     ]
    },
    {
     "name": "stdout",
     "output_type": "stream",
     "text": [
      "✅ Epoch 195 average loss: -8104.0267\n",
      "\n",
      "Epoch 196/500\n"
     ]
    },
    {
     "name": "stderr",
     "output_type": "stream",
     "text": [
      "Loss: -8358.9756: 100%|██████████████████████████████████████████████████████████████| 313/313 [00:39<00:00,  7.86it/s]\n"
     ]
    },
    {
     "name": "stdout",
     "output_type": "stream",
     "text": [
      "✅ Epoch 196 average loss: -8117.5478\n",
      "\n",
      "Epoch 197/500\n"
     ]
    },
    {
     "name": "stderr",
     "output_type": "stream",
     "text": [
      "Loss: -8304.3213: 100%|██████████████████████████████████████████████████████████████| 313/313 [00:38<00:00,  8.10it/s]\n"
     ]
    },
    {
     "name": "stdout",
     "output_type": "stream",
     "text": [
      "✅ Epoch 197 average loss: -8119.4314\n",
      "\n",
      "Epoch 198/500\n"
     ]
    },
    {
     "name": "stderr",
     "output_type": "stream",
     "text": [
      "Loss: -8260.8652: 100%|██████████████████████████████████████████████████████████████| 313/313 [00:36<00:00,  8.47it/s]\n"
     ]
    },
    {
     "name": "stdout",
     "output_type": "stream",
     "text": [
      "✅ Epoch 198 average loss: -8109.6867\n",
      "\n",
      "Epoch 199/500\n"
     ]
    },
    {
     "name": "stderr",
     "output_type": "stream",
     "text": [
      "Loss: -7906.2378: 100%|██████████████████████████████████████████████████████████████| 313/313 [00:38<00:00,  8.04it/s]\n"
     ]
    },
    {
     "name": "stdout",
     "output_type": "stream",
     "text": [
      "✅ Epoch 199 average loss: -8121.0610\n",
      "\n",
      "Epoch 200/500\n"
     ]
    },
    {
     "name": "stderr",
     "output_type": "stream",
     "text": [
      "Loss: -8021.6763: 100%|██████████████████████████████████████████████████████████████| 313/313 [00:36<00:00,  8.65it/s]\n"
     ]
    },
    {
     "name": "stdout",
     "output_type": "stream",
     "text": [
      "✅ Epoch 200 average loss: -8116.1970\n",
      "📦 Saved checkpoint at epoch 200\n",
      "\n",
      "Epoch 201/500\n"
     ]
    },
    {
     "name": "stderr",
     "output_type": "stream",
     "text": [
      "Loss: -8791.2988: 100%|██████████████████████████████████████████████████████████████| 313/313 [00:36<00:00,  8.48it/s]\n"
     ]
    },
    {
     "name": "stdout",
     "output_type": "stream",
     "text": [
      "✅ Epoch 201 average loss: -8127.0711\n",
      "\n",
      "Epoch 202/500\n"
     ]
    },
    {
     "name": "stderr",
     "output_type": "stream",
     "text": [
      "Loss: -9164.6113: 100%|██████████████████████████████████████████████████████████████| 313/313 [00:37<00:00,  8.29it/s]\n"
     ]
    },
    {
     "name": "stdout",
     "output_type": "stream",
     "text": [
      "✅ Epoch 202 average loss: -8132.5672\n",
      "\n",
      "Epoch 203/500\n"
     ]
    },
    {
     "name": "stderr",
     "output_type": "stream",
     "text": [
      "Loss: -8882.3867: 100%|██████████████████████████████████████████████████████████████| 313/313 [00:38<00:00,  8.17it/s]\n"
     ]
    },
    {
     "name": "stdout",
     "output_type": "stream",
     "text": [
      "✅ Epoch 203 average loss: -8136.1319\n",
      "\n",
      "Epoch 204/500\n"
     ]
    },
    {
     "name": "stderr",
     "output_type": "stream",
     "text": [
      "Loss: -8072.3784: 100%|██████████████████████████████████████████████████████████████| 313/313 [00:38<00:00,  8.21it/s]\n"
     ]
    },
    {
     "name": "stdout",
     "output_type": "stream",
     "text": [
      "✅ Epoch 204 average loss: -8142.5857\n",
      "\n",
      "Epoch 205/500\n"
     ]
    },
    {
     "name": "stderr",
     "output_type": "stream",
     "text": [
      "Loss: -8790.8613: 100%|██████████████████████████████████████████████████████████████| 313/313 [00:37<00:00,  8.33it/s]\n"
     ]
    },
    {
     "name": "stdout",
     "output_type": "stream",
     "text": [
      "✅ Epoch 205 average loss: -8147.2439\n",
      "\n",
      "Epoch 206/500\n"
     ]
    },
    {
     "name": "stderr",
     "output_type": "stream",
     "text": [
      "Loss: -8264.5127: 100%|██████████████████████████████████████████████████████████████| 313/313 [00:37<00:00,  8.34it/s]\n"
     ]
    },
    {
     "name": "stdout",
     "output_type": "stream",
     "text": [
      "✅ Epoch 206 average loss: -8133.5847\n",
      "\n",
      "Epoch 207/500\n"
     ]
    },
    {
     "name": "stderr",
     "output_type": "stream",
     "text": [
      "Loss: -8437.8799: 100%|██████████████████████████████████████████████████████████████| 313/313 [00:36<00:00,  8.57it/s]\n"
     ]
    },
    {
     "name": "stdout",
     "output_type": "stream",
     "text": [
      "✅ Epoch 207 average loss: -8151.1289\n",
      "\n",
      "Epoch 208/500\n"
     ]
    },
    {
     "name": "stderr",
     "output_type": "stream",
     "text": [
      "Loss: -8439.4023: 100%|██████████████████████████████████████████████████████████████| 313/313 [00:36<00:00,  8.53it/s]\n"
     ]
    },
    {
     "name": "stdout",
     "output_type": "stream",
     "text": [
      "✅ Epoch 208 average loss: -8144.9453\n",
      "\n",
      "Epoch 209/500\n"
     ]
    },
    {
     "name": "stderr",
     "output_type": "stream",
     "text": [
      "Loss: -8456.4629: 100%|██████████████████████████████████████████████████████████████| 313/313 [00:39<00:00,  7.94it/s]\n"
     ]
    },
    {
     "name": "stdout",
     "output_type": "stream",
     "text": [
      "✅ Epoch 209 average loss: -8160.8185\n",
      "\n",
      "Epoch 210/500\n"
     ]
    },
    {
     "name": "stderr",
     "output_type": "stream",
     "text": [
      "Loss: -8456.6396: 100%|██████████████████████████████████████████████████████████████| 313/313 [00:38<00:00,  8.05it/s]\n"
     ]
    },
    {
     "name": "stdout",
     "output_type": "stream",
     "text": [
      "✅ Epoch 210 average loss: -8158.0903\n",
      "\n",
      "Epoch 211/500\n"
     ]
    },
    {
     "name": "stderr",
     "output_type": "stream",
     "text": [
      "Loss: -8599.1211: 100%|██████████████████████████████████████████████████████████████| 313/313 [00:37<00:00,  8.44it/s]\n"
     ]
    },
    {
     "name": "stdout",
     "output_type": "stream",
     "text": [
      "✅ Epoch 211 average loss: -8165.3796\n",
      "\n",
      "Epoch 212/500\n"
     ]
    },
    {
     "name": "stderr",
     "output_type": "stream",
     "text": [
      "Loss: -7796.5508: 100%|██████████████████████████████████████████████████████████████| 313/313 [00:37<00:00,  8.25it/s]\n"
     ]
    },
    {
     "name": "stdout",
     "output_type": "stream",
     "text": [
      "✅ Epoch 212 average loss: -8165.1356\n",
      "\n",
      "Epoch 213/500\n"
     ]
    },
    {
     "name": "stderr",
     "output_type": "stream",
     "text": [
      "Loss: -8163.8223: 100%|██████████████████████████████████████████████████████████████| 313/313 [00:36<00:00,  8.64it/s]\n"
     ]
    },
    {
     "name": "stdout",
     "output_type": "stream",
     "text": [
      "✅ Epoch 213 average loss: -8158.8611\n",
      "\n",
      "Epoch 214/500\n"
     ]
    },
    {
     "name": "stderr",
     "output_type": "stream",
     "text": [
      "Loss: -8646.9277: 100%|██████████████████████████████████████████████████████████████| 313/313 [00:35<00:00,  8.86it/s]\n"
     ]
    },
    {
     "name": "stdout",
     "output_type": "stream",
     "text": [
      "✅ Epoch 214 average loss: -8179.8498\n",
      "\n",
      "Epoch 215/500\n"
     ]
    },
    {
     "name": "stderr",
     "output_type": "stream",
     "text": [
      "Loss: -7841.5146: 100%|██████████████████████████████████████████████████████████████| 313/313 [00:39<00:00,  7.95it/s]\n"
     ]
    },
    {
     "name": "stdout",
     "output_type": "stream",
     "text": [
      "✅ Epoch 215 average loss: -8163.2536\n",
      "\n",
      "Epoch 216/500\n"
     ]
    },
    {
     "name": "stderr",
     "output_type": "stream",
     "text": [
      "Loss: -8609.9424: 100%|██████████████████████████████████████████████████████████████| 313/313 [00:38<00:00,  8.17it/s]\n"
     ]
    },
    {
     "name": "stdout",
     "output_type": "stream",
     "text": [
      "✅ Epoch 216 average loss: -8185.7736\n",
      "\n",
      "Epoch 217/500\n"
     ]
    },
    {
     "name": "stderr",
     "output_type": "stream",
     "text": [
      "Loss: -8509.3672: 100%|██████████████████████████████████████████████████████████████| 313/313 [00:40<00:00,  7.76it/s]\n"
     ]
    },
    {
     "name": "stdout",
     "output_type": "stream",
     "text": [
      "✅ Epoch 217 average loss: -8192.7787\n",
      "\n",
      "Epoch 218/500\n"
     ]
    },
    {
     "name": "stderr",
     "output_type": "stream",
     "text": [
      "Loss: -8446.0625: 100%|██████████████████████████████████████████████████████████████| 313/313 [00:39<00:00,  8.00it/s]\n"
     ]
    },
    {
     "name": "stdout",
     "output_type": "stream",
     "text": [
      "✅ Epoch 218 average loss: -8181.4475\n",
      "\n",
      "Epoch 219/500\n"
     ]
    },
    {
     "name": "stderr",
     "output_type": "stream",
     "text": [
      "Loss: -8175.7080: 100%|██████████████████████████████████████████████████████████████| 313/313 [00:35<00:00,  8.69it/s]\n"
     ]
    },
    {
     "name": "stdout",
     "output_type": "stream",
     "text": [
      "✅ Epoch 219 average loss: -8189.7241\n",
      "\n",
      "Epoch 220/500\n"
     ]
    },
    {
     "name": "stderr",
     "output_type": "stream",
     "text": [
      "Loss: -7773.5654: 100%|██████████████████████████████████████████████████████████████| 313/313 [00:34<00:00,  9.02it/s]\n"
     ]
    },
    {
     "name": "stdout",
     "output_type": "stream",
     "text": [
      "✅ Epoch 220 average loss: -8206.3004\n",
      "\n",
      "Epoch 221/500\n"
     ]
    },
    {
     "name": "stderr",
     "output_type": "stream",
     "text": [
      "Loss: -7935.5518: 100%|██████████████████████████████████████████████████████████████| 313/313 [00:37<00:00,  8.37it/s]\n"
     ]
    },
    {
     "name": "stdout",
     "output_type": "stream",
     "text": [
      "✅ Epoch 221 average loss: -8191.1622\n",
      "\n",
      "Epoch 222/500\n"
     ]
    },
    {
     "name": "stderr",
     "output_type": "stream",
     "text": [
      "Loss: -8197.0596: 100%|██████████████████████████████████████████████████████████████| 313/313 [00:38<00:00,  8.11it/s]\n"
     ]
    },
    {
     "name": "stdout",
     "output_type": "stream",
     "text": [
      "✅ Epoch 222 average loss: -8212.8269\n",
      "\n",
      "Epoch 223/500\n"
     ]
    },
    {
     "name": "stderr",
     "output_type": "stream",
     "text": [
      "Loss: -8879.1035: 100%|██████████████████████████████████████████████████████████████| 313/313 [00:39<00:00,  7.85it/s]\n"
     ]
    },
    {
     "name": "stdout",
     "output_type": "stream",
     "text": [
      "✅ Epoch 223 average loss: -8195.2131\n",
      "\n",
      "Epoch 224/500\n"
     ]
    },
    {
     "name": "stderr",
     "output_type": "stream",
     "text": [
      "Loss: -7427.0176: 100%|██████████████████████████████████████████████████████████████| 313/313 [00:37<00:00,  8.26it/s]\n"
     ]
    },
    {
     "name": "stdout",
     "output_type": "stream",
     "text": [
      "✅ Epoch 224 average loss: -8202.1035\n",
      "\n",
      "Epoch 225/500\n"
     ]
    },
    {
     "name": "stderr",
     "output_type": "stream",
     "text": [
      "Loss: -8369.1064: 100%|██████████████████████████████████████████████████████████████| 313/313 [00:37<00:00,  8.30it/s]\n"
     ]
    },
    {
     "name": "stdout",
     "output_type": "stream",
     "text": [
      "✅ Epoch 225 average loss: -8204.6583\n",
      "\n",
      "Epoch 226/500\n"
     ]
    },
    {
     "name": "stderr",
     "output_type": "stream",
     "text": [
      "Loss: -8769.9512: 100%|██████████████████████████████████████████████████████████████| 313/313 [00:36<00:00,  8.66it/s]\n"
     ]
    },
    {
     "name": "stdout",
     "output_type": "stream",
     "text": [
      "✅ Epoch 226 average loss: -8218.6575\n",
      "\n",
      "Epoch 227/500\n"
     ]
    },
    {
     "name": "stderr",
     "output_type": "stream",
     "text": [
      "Loss: -8641.9570: 100%|██████████████████████████████████████████████████████████████| 313/313 [00:35<00:00,  8.86it/s]\n"
     ]
    },
    {
     "name": "stdout",
     "output_type": "stream",
     "text": [
      "✅ Epoch 227 average loss: -8210.8758\n",
      "\n",
      "Epoch 228/500\n"
     ]
    },
    {
     "name": "stderr",
     "output_type": "stream",
     "text": [
      "Loss: -8346.5244: 100%|██████████████████████████████████████████████████████████████| 313/313 [00:39<00:00,  7.99it/s]\n"
     ]
    },
    {
     "name": "stdout",
     "output_type": "stream",
     "text": [
      "✅ Epoch 228 average loss: -8209.0068\n",
      "\n",
      "Epoch 229/500\n"
     ]
    },
    {
     "name": "stderr",
     "output_type": "stream",
     "text": [
      "Loss: -8164.1343: 100%|██████████████████████████████████████████████████████████████| 313/313 [00:37<00:00,  8.24it/s]\n"
     ]
    },
    {
     "name": "stdout",
     "output_type": "stream",
     "text": [
      "✅ Epoch 229 average loss: -8210.7874\n",
      "\n",
      "Epoch 230/500\n"
     ]
    },
    {
     "name": "stderr",
     "output_type": "stream",
     "text": [
      "Loss: -8133.1924: 100%|██████████████████████████████████████████████████████████████| 313/313 [00:36<00:00,  8.64it/s]\n"
     ]
    },
    {
     "name": "stdout",
     "output_type": "stream",
     "text": [
      "✅ Epoch 230 average loss: -8222.2729\n",
      "\n",
      "Epoch 231/500\n"
     ]
    },
    {
     "name": "stderr",
     "output_type": "stream",
     "text": [
      "Loss: -7953.2676: 100%|██████████████████████████████████████████████████████████████| 313/313 [00:39<00:00,  8.01it/s]\n"
     ]
    },
    {
     "name": "stdout",
     "output_type": "stream",
     "text": [
      "✅ Epoch 231 average loss: -8221.6025\n",
      "\n",
      "Epoch 232/500\n"
     ]
    },
    {
     "name": "stderr",
     "output_type": "stream",
     "text": [
      "Loss: -7708.7622: 100%|██████████████████████████████████████████████████████████████| 313/313 [00:37<00:00,  8.25it/s]\n"
     ]
    },
    {
     "name": "stdout",
     "output_type": "stream",
     "text": [
      "✅ Epoch 232 average loss: -8216.0990\n",
      "\n",
      "Epoch 233/500\n"
     ]
    },
    {
     "name": "stderr",
     "output_type": "stream",
     "text": [
      "Loss: -8132.9346: 100%|██████████████████████████████████████████████████████████████| 313/313 [00:35<00:00,  8.85it/s]\n"
     ]
    },
    {
     "name": "stdout",
     "output_type": "stream",
     "text": [
      "✅ Epoch 233 average loss: -8224.8824\n",
      "\n",
      "Epoch 234/500\n"
     ]
    },
    {
     "name": "stderr",
     "output_type": "stream",
     "text": [
      "Loss: -8372.7217: 100%|██████████████████████████████████████████████████████████████| 313/313 [00:38<00:00,  8.03it/s]\n"
     ]
    },
    {
     "name": "stdout",
     "output_type": "stream",
     "text": [
      "✅ Epoch 234 average loss: -8229.9152\n",
      "\n",
      "Epoch 235/500\n"
     ]
    },
    {
     "name": "stderr",
     "output_type": "stream",
     "text": [
      "Loss: -7191.6187: 100%|██████████████████████████████████████████████████████████████| 313/313 [00:37<00:00,  8.35it/s]\n"
     ]
    },
    {
     "name": "stdout",
     "output_type": "stream",
     "text": [
      "✅ Epoch 235 average loss: -8215.7257\n",
      "\n",
      "Epoch 236/500\n"
     ]
    },
    {
     "name": "stderr",
     "output_type": "stream",
     "text": [
      "Loss: -8318.0244: 100%|██████████████████████████████████████████████████████████████| 313/313 [00:38<00:00,  8.19it/s]\n"
     ]
    },
    {
     "name": "stdout",
     "output_type": "stream",
     "text": [
      "✅ Epoch 236 average loss: -8243.0928\n",
      "\n",
      "Epoch 237/500\n"
     ]
    },
    {
     "name": "stderr",
     "output_type": "stream",
     "text": [
      "Loss: -8308.7549: 100%|██████████████████████████████████████████████████████████████| 313/313 [00:37<00:00,  8.26it/s]\n"
     ]
    },
    {
     "name": "stdout",
     "output_type": "stream",
     "text": [
      "✅ Epoch 237 average loss: -8225.4752\n",
      "\n",
      "Epoch 238/500\n"
     ]
    },
    {
     "name": "stderr",
     "output_type": "stream",
     "text": [
      "Loss: -7777.8408: 100%|██████████████████████████████████████████████████████████████| 313/313 [00:37<00:00,  8.30it/s]\n"
     ]
    },
    {
     "name": "stdout",
     "output_type": "stream",
     "text": [
      "✅ Epoch 238 average loss: -8238.4918\n",
      "\n",
      "Epoch 239/500\n"
     ]
    },
    {
     "name": "stderr",
     "output_type": "stream",
     "text": [
      "Loss: -8955.7012: 100%|██████████████████████████████████████████████████████████████| 313/313 [00:37<00:00,  8.45it/s]\n"
     ]
    },
    {
     "name": "stdout",
     "output_type": "stream",
     "text": [
      "✅ Epoch 239 average loss: -8251.5307\n",
      "\n",
      "Epoch 240/500\n"
     ]
    },
    {
     "name": "stderr",
     "output_type": "stream",
     "text": [
      "Loss: -7969.2080: 100%|██████████████████████████████████████████████████████████████| 313/313 [00:39<00:00,  7.98it/s]\n"
     ]
    },
    {
     "name": "stdout",
     "output_type": "stream",
     "text": [
      "✅ Epoch 240 average loss: -8248.7524\n",
      "\n",
      "Epoch 241/500\n"
     ]
    },
    {
     "name": "stderr",
     "output_type": "stream",
     "text": [
      "Loss: -8100.7139: 100%|██████████████████████████████████████████████████████████████| 313/313 [00:39<00:00,  7.99it/s]\n"
     ]
    },
    {
     "name": "stdout",
     "output_type": "stream",
     "text": [
      "✅ Epoch 241 average loss: -8247.5847\n",
      "\n",
      "Epoch 242/500\n"
     ]
    },
    {
     "name": "stderr",
     "output_type": "stream",
     "text": [
      "Loss: -8150.9199: 100%|██████████████████████████████████████████████████████████████| 313/313 [00:38<00:00,  8.13it/s]\n"
     ]
    },
    {
     "name": "stdout",
     "output_type": "stream",
     "text": [
      "✅ Epoch 242 average loss: -8254.4623\n",
      "\n",
      "Epoch 243/500\n"
     ]
    },
    {
     "name": "stderr",
     "output_type": "stream",
     "text": [
      "Loss: -8484.5449: 100%|██████████████████████████████████████████████████████████████| 313/313 [00:37<00:00,  8.40it/s]\n"
     ]
    },
    {
     "name": "stdout",
     "output_type": "stream",
     "text": [
      "✅ Epoch 243 average loss: -8264.3476\n",
      "\n",
      "Epoch 244/500\n"
     ]
    },
    {
     "name": "stderr",
     "output_type": "stream",
     "text": [
      "Loss: -8598.8662: 100%|██████████████████████████████████████████████████████████████| 313/313 [00:38<00:00,  8.21it/s]\n"
     ]
    },
    {
     "name": "stdout",
     "output_type": "stream",
     "text": [
      "✅ Epoch 244 average loss: -8259.8375\n",
      "\n",
      "Epoch 245/500\n"
     ]
    },
    {
     "name": "stderr",
     "output_type": "stream",
     "text": [
      "Loss: -8591.4688: 100%|██████████████████████████████████████████████████████████████| 313/313 [00:36<00:00,  8.69it/s]\n"
     ]
    },
    {
     "name": "stdout",
     "output_type": "stream",
     "text": [
      "✅ Epoch 245 average loss: -8260.3701\n",
      "\n",
      "Epoch 246/500\n"
     ]
    },
    {
     "name": "stderr",
     "output_type": "stream",
     "text": [
      "Loss: -8237.6406: 100%|██████████████████████████████████████████████████████████████| 313/313 [00:34<00:00,  9.03it/s]\n"
     ]
    },
    {
     "name": "stdout",
     "output_type": "stream",
     "text": [
      "✅ Epoch 246 average loss: -8262.8710\n",
      "\n",
      "Epoch 247/500\n"
     ]
    },
    {
     "name": "stderr",
     "output_type": "stream",
     "text": [
      "Loss: -8148.2114: 100%|██████████████████████████████████████████████████████████████| 313/313 [00:40<00:00,  7.78it/s]\n"
     ]
    },
    {
     "name": "stdout",
     "output_type": "stream",
     "text": [
      "✅ Epoch 247 average loss: -8266.1631\n",
      "\n",
      "Epoch 248/500\n"
     ]
    },
    {
     "name": "stderr",
     "output_type": "stream",
     "text": [
      "Loss: -8021.0093: 100%|██████████████████████████████████████████████████████████████| 313/313 [00:39<00:00,  8.01it/s]\n"
     ]
    },
    {
     "name": "stdout",
     "output_type": "stream",
     "text": [
      "✅ Epoch 248 average loss: -8275.2531\n",
      "\n",
      "Epoch 249/500\n"
     ]
    },
    {
     "name": "stderr",
     "output_type": "stream",
     "text": [
      "Loss: -7585.2334: 100%|██████████████████████████████████████████████████████████████| 313/313 [00:38<00:00,  8.10it/s]\n"
     ]
    },
    {
     "name": "stdout",
     "output_type": "stream",
     "text": [
      "✅ Epoch 249 average loss: -8258.1593\n",
      "\n",
      "Epoch 250/500\n"
     ]
    },
    {
     "name": "stderr",
     "output_type": "stream",
     "text": [
      "Loss: -8028.0283: 100%|██████████████████████████████████████████████████████████████| 313/313 [00:38<00:00,  8.13it/s]\n"
     ]
    },
    {
     "name": "stdout",
     "output_type": "stream",
     "text": [
      "✅ Epoch 250 average loss: -8276.6992\n",
      "\n",
      "Epoch 251/500\n"
     ]
    },
    {
     "name": "stderr",
     "output_type": "stream",
     "text": [
      "Loss: -8275.6523: 100%|██████████████████████████████████████████████████████████████| 313/313 [00:36<00:00,  8.66it/s]\n"
     ]
    },
    {
     "name": "stdout",
     "output_type": "stream",
     "text": [
      "✅ Epoch 251 average loss: -8282.1476\n",
      "\n",
      "Epoch 252/500\n"
     ]
    },
    {
     "name": "stderr",
     "output_type": "stream",
     "text": [
      "Loss: -7429.3447: 100%|██████████████████████████████████████████████████████████████| 313/313 [00:37<00:00,  8.34it/s]\n"
     ]
    },
    {
     "name": "stdout",
     "output_type": "stream",
     "text": [
      "✅ Epoch 252 average loss: -8282.2519\n",
      "\n",
      "Epoch 253/500\n"
     ]
    },
    {
     "name": "stderr",
     "output_type": "stream",
     "text": [
      "Loss: -8605.3350: 100%|██████████████████████████████████████████████████████████████| 313/313 [00:39<00:00,  8.00it/s]\n"
     ]
    },
    {
     "name": "stdout",
     "output_type": "stream",
     "text": [
      "✅ Epoch 253 average loss: -8273.0897\n",
      "\n",
      "Epoch 254/500\n"
     ]
    },
    {
     "name": "stderr",
     "output_type": "stream",
     "text": [
      "Loss: -8536.4980: 100%|██████████████████████████████████████████████████████████████| 313/313 [00:37<00:00,  8.42it/s]\n"
     ]
    },
    {
     "name": "stdout",
     "output_type": "stream",
     "text": [
      "✅ Epoch 254 average loss: -8286.4930\n",
      "\n",
      "Epoch 255/500\n"
     ]
    },
    {
     "name": "stderr",
     "output_type": "stream",
     "text": [
      "Loss: -7607.8354: 100%|██████████████████████████████████████████████████████████████| 313/313 [00:39<00:00,  7.83it/s]\n"
     ]
    },
    {
     "name": "stdout",
     "output_type": "stream",
     "text": [
      "✅ Epoch 255 average loss: -8293.8764\n",
      "\n",
      "Epoch 256/500\n"
     ]
    },
    {
     "name": "stderr",
     "output_type": "stream",
     "text": [
      "Loss: -8371.8828: 100%|██████████████████████████████████████████████████████████████| 313/313 [00:39<00:00,  7.92it/s]\n"
     ]
    },
    {
     "name": "stdout",
     "output_type": "stream",
     "text": [
      "✅ Epoch 256 average loss: -8289.8215\n",
      "\n",
      "Epoch 257/500\n"
     ]
    },
    {
     "name": "stderr",
     "output_type": "stream",
     "text": [
      "Loss: -8702.1172: 100%|██████████████████████████████████████████████████████████████| 313/313 [00:36<00:00,  8.68it/s]\n"
     ]
    },
    {
     "name": "stdout",
     "output_type": "stream",
     "text": [
      "✅ Epoch 257 average loss: -8290.9275\n",
      "\n",
      "Epoch 258/500\n"
     ]
    },
    {
     "name": "stderr",
     "output_type": "stream",
     "text": [
      "Loss: -8642.4707: 100%|██████████████████████████████████████████████████████████████| 313/313 [00:36<00:00,  8.67it/s]\n"
     ]
    },
    {
     "name": "stdout",
     "output_type": "stream",
     "text": [
      "✅ Epoch 258 average loss: -8286.2625\n",
      "\n",
      "Epoch 259/500\n"
     ]
    },
    {
     "name": "stderr",
     "output_type": "stream",
     "text": [
      "Loss: -7952.9414: 100%|██████████████████████████████████████████████████████████████| 313/313 [00:37<00:00,  8.27it/s]\n"
     ]
    },
    {
     "name": "stdout",
     "output_type": "stream",
     "text": [
      "✅ Epoch 259 average loss: -8310.9518\n",
      "\n",
      "Epoch 260/500\n"
     ]
    },
    {
     "name": "stderr",
     "output_type": "stream",
     "text": [
      "Loss: -7686.7520: 100%|██████████████████████████████████████████████████████████████| 313/313 [00:37<00:00,  8.31it/s]\n"
     ]
    },
    {
     "name": "stdout",
     "output_type": "stream",
     "text": [
      "✅ Epoch 260 average loss: -8300.8557\n",
      "\n",
      "Epoch 261/500\n"
     ]
    },
    {
     "name": "stderr",
     "output_type": "stream",
     "text": [
      "Loss: -7823.2168: 100%|██████████████████████████████████████████████████████████████| 313/313 [00:39<00:00,  7.88it/s]\n"
     ]
    },
    {
     "name": "stdout",
     "output_type": "stream",
     "text": [
      "✅ Epoch 261 average loss: -8307.7857\n",
      "\n",
      "Epoch 262/500\n"
     ]
    },
    {
     "name": "stderr",
     "output_type": "stream",
     "text": [
      "Loss: -8754.3359: 100%|██████████████████████████████████████████████████████████████| 313/313 [00:39<00:00,  7.85it/s]\n"
     ]
    },
    {
     "name": "stdout",
     "output_type": "stream",
     "text": [
      "✅ Epoch 262 average loss: -8317.2697\n",
      "\n",
      "Epoch 263/500\n"
     ]
    },
    {
     "name": "stderr",
     "output_type": "stream",
     "text": [
      "Loss: -8256.7188: 100%|██████████████████████████████████████████████████████████████| 313/313 [00:38<00:00,  8.11it/s]\n"
     ]
    },
    {
     "name": "stdout",
     "output_type": "stream",
     "text": [
      "✅ Epoch 263 average loss: -8310.3993\n",
      "\n",
      "Epoch 264/500\n"
     ]
    },
    {
     "name": "stderr",
     "output_type": "stream",
     "text": [
      "Loss: -8083.2578: 100%|██████████████████████████████████████████████████████████████| 313/313 [00:37<00:00,  8.44it/s]\n"
     ]
    },
    {
     "name": "stdout",
     "output_type": "stream",
     "text": [
      "✅ Epoch 264 average loss: -8311.5137\n",
      "\n",
      "Epoch 265/500\n"
     ]
    },
    {
     "name": "stderr",
     "output_type": "stream",
     "text": [
      "Loss: -8680.6973: 100%|██████████████████████████████████████████████████████████████| 313/313 [00:36<00:00,  8.56it/s]\n"
     ]
    },
    {
     "name": "stdout",
     "output_type": "stream",
     "text": [
      "✅ Epoch 265 average loss: -8308.8910\n",
      "\n",
      "Epoch 266/500\n"
     ]
    },
    {
     "name": "stderr",
     "output_type": "stream",
     "text": [
      "Loss: -8163.6265: 100%|██████████████████████████████████████████████████████████████| 313/313 [00:39<00:00,  7.96it/s]\n"
     ]
    },
    {
     "name": "stdout",
     "output_type": "stream",
     "text": [
      "✅ Epoch 266 average loss: -8327.4372\n",
      "\n",
      "Epoch 267/500\n"
     ]
    },
    {
     "name": "stderr",
     "output_type": "stream",
     "text": [
      "Loss: -8423.7422: 100%|██████████████████████████████████████████████████████████████| 313/313 [00:39<00:00,  7.95it/s]\n"
     ]
    },
    {
     "name": "stdout",
     "output_type": "stream",
     "text": [
      "✅ Epoch 267 average loss: -8311.3572\n",
      "\n",
      "Epoch 268/500\n"
     ]
    },
    {
     "name": "stderr",
     "output_type": "stream",
     "text": [
      "Loss: -8105.3584: 100%|██████████████████████████████████████████████████████████████| 313/313 [00:36<00:00,  8.62it/s]\n"
     ]
    },
    {
     "name": "stdout",
     "output_type": "stream",
     "text": [
      "✅ Epoch 268 average loss: -8321.3390\n",
      "\n",
      "Epoch 269/500\n"
     ]
    },
    {
     "name": "stderr",
     "output_type": "stream",
     "text": [
      "Loss: -8991.3242: 100%|██████████████████████████████████████████████████████████████| 313/313 [00:38<00:00,  8.14it/s]\n"
     ]
    },
    {
     "name": "stdout",
     "output_type": "stream",
     "text": [
      "✅ Epoch 269 average loss: -8322.3275\n",
      "\n",
      "Epoch 270/500\n"
     ]
    },
    {
     "name": "stderr",
     "output_type": "stream",
     "text": [
      "Loss: -8693.9893: 100%|██████████████████████████████████████████████████████████████| 313/313 [00:36<00:00,  8.66it/s]\n"
     ]
    },
    {
     "name": "stdout",
     "output_type": "stream",
     "text": [
      "✅ Epoch 270 average loss: -8322.5792\n",
      "\n",
      "Epoch 271/500\n"
     ]
    },
    {
     "name": "stderr",
     "output_type": "stream",
     "text": [
      "Loss: -8425.8281: 100%|██████████████████████████████████████████████████████████████| 313/313 [00:35<00:00,  8.74it/s]\n"
     ]
    },
    {
     "name": "stdout",
     "output_type": "stream",
     "text": [
      "✅ Epoch 271 average loss: -8341.1890\n",
      "\n",
      "Epoch 272/500\n"
     ]
    },
    {
     "name": "stderr",
     "output_type": "stream",
     "text": [
      "Loss: -9172.3701: 100%|██████████████████████████████████████████████████████████████| 313/313 [00:39<00:00,  7.85it/s]\n"
     ]
    },
    {
     "name": "stdout",
     "output_type": "stream",
     "text": [
      "✅ Epoch 272 average loss: -8332.3544\n",
      "\n",
      "Epoch 273/500\n"
     ]
    },
    {
     "name": "stderr",
     "output_type": "stream",
     "text": [
      "Loss: -7617.2959: 100%|██████████████████████████████████████████████████████████████| 313/313 [00:38<00:00,  8.13it/s]\n"
     ]
    },
    {
     "name": "stdout",
     "output_type": "stream",
     "text": [
      "✅ Epoch 273 average loss: -8341.9001\n",
      "\n",
      "Epoch 274/500\n"
     ]
    },
    {
     "name": "stderr",
     "output_type": "stream",
     "text": [
      "Loss: -7575.8340: 100%|██████████████████████████████████████████████████████████████| 313/313 [00:37<00:00,  8.44it/s]\n"
     ]
    },
    {
     "name": "stdout",
     "output_type": "stream",
     "text": [
      "✅ Epoch 274 average loss: -8343.3613\n",
      "\n",
      "Epoch 275/500\n"
     ]
    },
    {
     "name": "stderr",
     "output_type": "stream",
     "text": [
      "Loss: -8007.3257: 100%|██████████████████████████████████████████████████████████████| 313/313 [00:38<00:00,  8.19it/s]\n"
     ]
    },
    {
     "name": "stdout",
     "output_type": "stream",
     "text": [
      "✅ Epoch 275 average loss: -8341.0309\n",
      "\n",
      "Epoch 276/500\n"
     ]
    },
    {
     "name": "stderr",
     "output_type": "stream",
     "text": [
      "Loss: -8525.0566: 100%|██████████████████████████████████████████████████████████████| 313/313 [00:36<00:00,  8.56it/s]\n"
     ]
    },
    {
     "name": "stdout",
     "output_type": "stream",
     "text": [
      "✅ Epoch 276 average loss: -8344.9664\n",
      "\n",
      "Epoch 277/500\n"
     ]
    },
    {
     "name": "stderr",
     "output_type": "stream",
     "text": [
      "Loss: -8334.8945: 100%|██████████████████████████████████████████████████████████████| 313/313 [00:36<00:00,  8.68it/s]\n"
     ]
    },
    {
     "name": "stdout",
     "output_type": "stream",
     "text": [
      "✅ Epoch 277 average loss: -8351.7395\n",
      "\n",
      "Epoch 278/500\n"
     ]
    },
    {
     "name": "stderr",
     "output_type": "stream",
     "text": [
      "Loss: -8941.4102: 100%|██████████████████████████████████████████████████████████████| 313/313 [00:36<00:00,  8.47it/s]\n"
     ]
    },
    {
     "name": "stdout",
     "output_type": "stream",
     "text": [
      "✅ Epoch 278 average loss: -8343.1001\n",
      "\n",
      "Epoch 279/500\n"
     ]
    },
    {
     "name": "stderr",
     "output_type": "stream",
     "text": [
      "Loss: -8301.5020: 100%|██████████████████████████████████████████████████████████████| 313/313 [00:39<00:00,  7.87it/s]\n"
     ]
    },
    {
     "name": "stdout",
     "output_type": "stream",
     "text": [
      "✅ Epoch 279 average loss: -8349.0124\n",
      "\n",
      "Epoch 280/500\n"
     ]
    },
    {
     "name": "stderr",
     "output_type": "stream",
     "text": [
      "Loss: -8472.6289: 100%|██████████████████████████████████████████████████████████████| 313/313 [00:40<00:00,  7.75it/s]\n"
     ]
    },
    {
     "name": "stdout",
     "output_type": "stream",
     "text": [
      "✅ Epoch 280 average loss: -8352.8383\n",
      "\n",
      "Epoch 281/500\n"
     ]
    },
    {
     "name": "stderr",
     "output_type": "stream",
     "text": [
      "Loss: -8663.8906: 100%|██████████████████████████████████████████████████████████████| 313/313 [00:39<00:00,  7.94it/s]\n"
     ]
    },
    {
     "name": "stdout",
     "output_type": "stream",
     "text": [
      "✅ Epoch 281 average loss: -8350.7871\n",
      "\n",
      "Epoch 282/500\n"
     ]
    },
    {
     "name": "stderr",
     "output_type": "stream",
     "text": [
      "Loss: -9047.7070: 100%|██████████████████████████████████████████████████████████████| 313/313 [00:37<00:00,  8.30it/s]\n"
     ]
    },
    {
     "name": "stdout",
     "output_type": "stream",
     "text": [
      "✅ Epoch 282 average loss: -8352.1053\n",
      "\n",
      "Epoch 283/500\n"
     ]
    },
    {
     "name": "stderr",
     "output_type": "stream",
     "text": [
      "Loss: -7923.6133: 100%|██████████████████████████████████████████████████████████████| 313/313 [00:36<00:00,  8.58it/s]\n"
     ]
    },
    {
     "name": "stdout",
     "output_type": "stream",
     "text": [
      "✅ Epoch 283 average loss: -8359.4782\n",
      "\n",
      "Epoch 284/500\n"
     ]
    },
    {
     "name": "stderr",
     "output_type": "stream",
     "text": [
      "Loss: -8933.2021: 100%|██████████████████████████████████████████████████████████████| 313/313 [00:36<00:00,  8.61it/s]\n"
     ]
    },
    {
     "name": "stdout",
     "output_type": "stream",
     "text": [
      "✅ Epoch 284 average loss: -8362.7202\n",
      "\n",
      "Epoch 285/500\n"
     ]
    },
    {
     "name": "stderr",
     "output_type": "stream",
     "text": [
      "Loss: -9025.9375: 100%|██████████████████████████████████████████████████████████████| 313/313 [00:39<00:00,  7.84it/s]\n"
     ]
    },
    {
     "name": "stdout",
     "output_type": "stream",
     "text": [
      "✅ Epoch 285 average loss: -8366.3770\n",
      "\n",
      "Epoch 286/500\n"
     ]
    },
    {
     "name": "stderr",
     "output_type": "stream",
     "text": [
      "Loss: -7761.5991: 100%|██████████████████████████████████████████████████████████████| 313/313 [00:39<00:00,  7.83it/s]\n"
     ]
    },
    {
     "name": "stdout",
     "output_type": "stream",
     "text": [
      "✅ Epoch 286 average loss: -8361.4309\n",
      "\n",
      "Epoch 287/500\n"
     ]
    },
    {
     "name": "stderr",
     "output_type": "stream",
     "text": [
      "Loss: -8909.7832: 100%|██████████████████████████████████████████████████████████████| 313/313 [00:37<00:00,  8.30it/s]\n"
     ]
    },
    {
     "name": "stdout",
     "output_type": "stream",
     "text": [
      "✅ Epoch 287 average loss: -8356.1222\n",
      "\n",
      "Epoch 288/500\n"
     ]
    },
    {
     "name": "stderr",
     "output_type": "stream",
     "text": [
      "Loss: -7811.8569: 100%|██████████████████████████████████████████████████████████████| 313/313 [00:37<00:00,  8.31it/s]\n"
     ]
    },
    {
     "name": "stdout",
     "output_type": "stream",
     "text": [
      "✅ Epoch 288 average loss: -8374.4986\n",
      "\n",
      "Epoch 289/500\n"
     ]
    },
    {
     "name": "stderr",
     "output_type": "stream",
     "text": [
      "Loss: -8445.6680: 100%|██████████████████████████████████████████████████████████████| 313/313 [00:35<00:00,  8.75it/s]\n"
     ]
    },
    {
     "name": "stdout",
     "output_type": "stream",
     "text": [
      "✅ Epoch 289 average loss: -8370.4354\n",
      "\n",
      "Epoch 290/500\n"
     ]
    },
    {
     "name": "stderr",
     "output_type": "stream",
     "text": [
      "Loss: -8068.2549: 100%|██████████████████████████████████████████████████████████████| 313/313 [00:35<00:00,  8.75it/s]\n"
     ]
    },
    {
     "name": "stdout",
     "output_type": "stream",
     "text": [
      "✅ Epoch 290 average loss: -8372.9242\n",
      "\n",
      "Epoch 291/500\n"
     ]
    },
    {
     "name": "stderr",
     "output_type": "stream",
     "text": [
      "Loss: -8426.1094: 100%|██████████████████████████████████████████████████████████████| 313/313 [00:38<00:00,  8.06it/s]\n"
     ]
    },
    {
     "name": "stdout",
     "output_type": "stream",
     "text": [
      "✅ Epoch 291 average loss: -8383.8270\n",
      "\n",
      "Epoch 292/500\n"
     ]
    },
    {
     "name": "stderr",
     "output_type": "stream",
     "text": [
      "Loss: -8514.0469: 100%|██████████████████████████████████████████████████████████████| 313/313 [00:38<00:00,  8.23it/s]\n"
     ]
    },
    {
     "name": "stdout",
     "output_type": "stream",
     "text": [
      "✅ Epoch 292 average loss: -8366.6144\n",
      "\n",
      "Epoch 293/500\n"
     ]
    },
    {
     "name": "stderr",
     "output_type": "stream",
     "text": [
      "Loss: -8763.7246: 100%|██████████████████████████████████████████████████████████████| 313/313 [00:37<00:00,  8.26it/s]\n"
     ]
    },
    {
     "name": "stdout",
     "output_type": "stream",
     "text": [
      "✅ Epoch 293 average loss: -8377.8204\n",
      "\n",
      "Epoch 294/500\n"
     ]
    },
    {
     "name": "stderr",
     "output_type": "stream",
     "text": [
      "Loss: -8032.4146: 100%|██████████████████████████████████████████████████████████████| 313/313 [00:38<00:00,  8.23it/s]\n"
     ]
    },
    {
     "name": "stdout",
     "output_type": "stream",
     "text": [
      "✅ Epoch 294 average loss: -8388.5901\n",
      "\n",
      "Epoch 295/500\n"
     ]
    },
    {
     "name": "stderr",
     "output_type": "stream",
     "text": [
      "Loss: -8467.7246: 100%|██████████████████████████████████████████████████████████████| 313/313 [00:36<00:00,  8.64it/s]\n"
     ]
    },
    {
     "name": "stdout",
     "output_type": "stream",
     "text": [
      "✅ Epoch 295 average loss: -8366.8722\n",
      "\n",
      "Epoch 296/500\n"
     ]
    },
    {
     "name": "stderr",
     "output_type": "stream",
     "text": [
      "Loss: -8544.3770: 100%|██████████████████████████████████████████████████████████████| 313/313 [00:35<00:00,  8.79it/s]\n"
     ]
    },
    {
     "name": "stdout",
     "output_type": "stream",
     "text": [
      "✅ Epoch 296 average loss: -8396.6087\n",
      "\n",
      "Epoch 297/500\n"
     ]
    },
    {
     "name": "stderr",
     "output_type": "stream",
     "text": [
      "Loss: -8865.3076: 100%|██████████████████████████████████████████████████████████████| 313/313 [00:37<00:00,  8.44it/s]\n"
     ]
    },
    {
     "name": "stdout",
     "output_type": "stream",
     "text": [
      "✅ Epoch 297 average loss: -8398.4911\n",
      "\n",
      "Epoch 298/500\n"
     ]
    },
    {
     "name": "stderr",
     "output_type": "stream",
     "text": [
      "Loss: -8226.7285: 100%|██████████████████████████████████████████████████████████████| 313/313 [00:39<00:00,  7.90it/s]\n"
     ]
    },
    {
     "name": "stdout",
     "output_type": "stream",
     "text": [
      "✅ Epoch 298 average loss: -8387.8593\n",
      "\n",
      "Epoch 299/500\n"
     ]
    },
    {
     "name": "stderr",
     "output_type": "stream",
     "text": [
      "Loss: -9708.4844: 100%|██████████████████████████████████████████████████████████████| 313/313 [00:37<00:00,  8.25it/s]\n"
     ]
    },
    {
     "name": "stdout",
     "output_type": "stream",
     "text": [
      "✅ Epoch 299 average loss: -8398.8107\n",
      "\n",
      "Epoch 300/500\n"
     ]
    },
    {
     "name": "stderr",
     "output_type": "stream",
     "text": [
      "Loss: -8882.1328: 100%|██████████████████████████████████████████████████████████████| 313/313 [00:37<00:00,  8.38it/s]\n"
     ]
    },
    {
     "name": "stdout",
     "output_type": "stream",
     "text": [
      "✅ Epoch 300 average loss: -8398.9222\n",
      "📦 Saved checkpoint at epoch 300\n",
      "\n",
      "Epoch 301/500\n"
     ]
    },
    {
     "name": "stderr",
     "output_type": "stream",
     "text": [
      "Loss: -8255.9619: 100%|██████████████████████████████████████████████████████████████| 313/313 [00:37<00:00,  8.33it/s]\n"
     ]
    },
    {
     "name": "stdout",
     "output_type": "stream",
     "text": [
      "✅ Epoch 301 average loss: -8406.6956\n",
      "\n",
      "Epoch 302/500\n"
     ]
    },
    {
     "name": "stderr",
     "output_type": "stream",
     "text": [
      "Loss: -8336.8223: 100%|██████████████████████████████████████████████████████████████| 313/313 [00:35<00:00,  8.75it/s]\n"
     ]
    },
    {
     "name": "stdout",
     "output_type": "stream",
     "text": [
      "✅ Epoch 302 average loss: -8401.1214\n",
      "\n",
      "Epoch 303/500\n"
     ]
    },
    {
     "name": "stderr",
     "output_type": "stream",
     "text": [
      "Loss: -8939.7041: 100%|██████████████████████████████████████████████████████████████| 313/313 [00:36<00:00,  8.66it/s]\n"
     ]
    },
    {
     "name": "stdout",
     "output_type": "stream",
     "text": [
      "✅ Epoch 303 average loss: -8409.3253\n",
      "\n",
      "Epoch 304/500\n"
     ]
    },
    {
     "name": "stderr",
     "output_type": "stream",
     "text": [
      "Loss: -8476.2402: 100%|██████████████████████████████████████████████████████████████| 313/313 [00:39<00:00,  7.89it/s]\n"
     ]
    },
    {
     "name": "stdout",
     "output_type": "stream",
     "text": [
      "✅ Epoch 304 average loss: -8404.2544\n",
      "\n",
      "Epoch 305/500\n"
     ]
    },
    {
     "name": "stderr",
     "output_type": "stream",
     "text": [
      "Loss: -7919.2754: 100%|██████████████████████████████████████████████████████████████| 313/313 [00:39<00:00,  8.02it/s]\n"
     ]
    },
    {
     "name": "stdout",
     "output_type": "stream",
     "text": [
      "✅ Epoch 305 average loss: -8419.1931\n",
      "\n",
      "Epoch 306/500\n"
     ]
    },
    {
     "name": "stderr",
     "output_type": "stream",
     "text": [
      "Loss: -8298.1221: 100%|██████████████████████████████████████████████████████████████| 313/313 [00:38<00:00,  8.21it/s]\n"
     ]
    },
    {
     "name": "stdout",
     "output_type": "stream",
     "text": [
      "✅ Epoch 306 average loss: -8410.3431\n",
      "\n",
      "Epoch 307/500\n"
     ]
    },
    {
     "name": "stderr",
     "output_type": "stream",
     "text": [
      "Loss: -8651.6543: 100%|██████████████████████████████████████████████████████████████| 313/313 [00:37<00:00,  8.33it/s]\n"
     ]
    },
    {
     "name": "stdout",
     "output_type": "stream",
     "text": [
      "✅ Epoch 307 average loss: -8414.2072\n",
      "\n",
      "Epoch 308/500\n"
     ]
    },
    {
     "name": "stderr",
     "output_type": "stream",
     "text": [
      "Loss: -8949.0635: 100%|██████████████████████████████████████████████████████████████| 313/313 [00:36<00:00,  8.58it/s]\n"
     ]
    },
    {
     "name": "stdout",
     "output_type": "stream",
     "text": [
      "✅ Epoch 308 average loss: -8421.0533\n",
      "\n",
      "Epoch 309/500\n"
     ]
    },
    {
     "name": "stderr",
     "output_type": "stream",
     "text": [
      "Loss: -8361.3320: 100%|██████████████████████████████████████████████████████████████| 313/313 [00:35<00:00,  8.75it/s]\n"
     ]
    },
    {
     "name": "stdout",
     "output_type": "stream",
     "text": [
      "✅ Epoch 309 average loss: -8427.4161\n",
      "\n",
      "Epoch 310/500\n"
     ]
    },
    {
     "name": "stderr",
     "output_type": "stream",
     "text": [
      "Loss: -8935.4258: 100%|██████████████████████████████████████████████████████████████| 313/313 [00:38<00:00,  8.12it/s]\n"
     ]
    },
    {
     "name": "stdout",
     "output_type": "stream",
     "text": [
      "✅ Epoch 310 average loss: -8424.6359\n",
      "\n",
      "Epoch 311/500\n"
     ]
    },
    {
     "name": "stderr",
     "output_type": "stream",
     "text": [
      "Loss: -8298.5547: 100%|██████████████████████████████████████████████████████████████| 313/313 [00:39<00:00,  7.95it/s]\n"
     ]
    },
    {
     "name": "stdout",
     "output_type": "stream",
     "text": [
      "✅ Epoch 311 average loss: -8419.9285\n",
      "\n",
      "Epoch 312/500\n"
     ]
    },
    {
     "name": "stderr",
     "output_type": "stream",
     "text": [
      "Loss: -8023.7021: 100%|██████████████████████████████████████████████████████████████| 313/313 [00:39<00:00,  7.94it/s]\n"
     ]
    },
    {
     "name": "stdout",
     "output_type": "stream",
     "text": [
      "✅ Epoch 312 average loss: -8432.1751\n",
      "\n",
      "Epoch 313/500\n"
     ]
    },
    {
     "name": "stderr",
     "output_type": "stream",
     "text": [
      "Loss: -8063.4458: 100%|██████████████████████████████████████████████████████████████| 313/313 [00:38<00:00,  8.19it/s]\n"
     ]
    },
    {
     "name": "stdout",
     "output_type": "stream",
     "text": [
      "✅ Epoch 313 average loss: -8423.8398\n",
      "\n",
      "Epoch 314/500\n"
     ]
    },
    {
     "name": "stderr",
     "output_type": "stream",
     "text": [
      "Loss: -8684.0566: 100%|██████████████████████████████████████████████████████████████| 313/313 [00:36<00:00,  8.53it/s]\n"
     ]
    },
    {
     "name": "stdout",
     "output_type": "stream",
     "text": [
      "✅ Epoch 314 average loss: -8433.1872\n",
      "\n",
      "Epoch 315/500\n"
     ]
    },
    {
     "name": "stderr",
     "output_type": "stream",
     "text": [
      "Loss: -8866.8047: 100%|██████████████████████████████████████████████████████████████| 313/313 [00:36<00:00,  8.51it/s]\n"
     ]
    },
    {
     "name": "stdout",
     "output_type": "stream",
     "text": [
      "✅ Epoch 315 average loss: -8429.9420\n",
      "\n",
      "Epoch 316/500\n"
     ]
    },
    {
     "name": "stderr",
     "output_type": "stream",
     "text": [
      "Loss: -8315.0605: 100%|██████████████████████████████████████████████████████████████| 313/313 [00:36<00:00,  8.57it/s]\n"
     ]
    },
    {
     "name": "stdout",
     "output_type": "stream",
     "text": [
      "✅ Epoch 316 average loss: -8430.0727\n",
      "\n",
      "Epoch 317/500\n"
     ]
    },
    {
     "name": "stderr",
     "output_type": "stream",
     "text": [
      "Loss: -8089.5947: 100%|██████████████████████████████████████████████████████████████| 313/313 [00:38<00:00,  8.24it/s]\n"
     ]
    },
    {
     "name": "stdout",
     "output_type": "stream",
     "text": [
      "✅ Epoch 317 average loss: -8433.6160\n",
      "\n",
      "Epoch 318/500\n"
     ]
    },
    {
     "name": "stderr",
     "output_type": "stream",
     "text": [
      "Loss: -7894.6494: 100%|██████████████████████████████████████████████████████████████| 313/313 [00:39<00:00,  7.90it/s]\n"
     ]
    },
    {
     "name": "stdout",
     "output_type": "stream",
     "text": [
      "✅ Epoch 318 average loss: -8434.2919\n",
      "\n",
      "Epoch 319/500\n"
     ]
    },
    {
     "name": "stderr",
     "output_type": "stream",
     "text": [
      "Loss: -8050.2471: 100%|██████████████████████████████████████████████████████████████| 313/313 [00:37<00:00,  8.36it/s]\n"
     ]
    },
    {
     "name": "stdout",
     "output_type": "stream",
     "text": [
      "✅ Epoch 319 average loss: -8435.6696\n",
      "\n",
      "Epoch 320/500\n"
     ]
    },
    {
     "name": "stderr",
     "output_type": "stream",
     "text": [
      "Loss: -8323.7412: 100%|██████████████████████████████████████████████████████████████| 313/313 [00:37<00:00,  8.29it/s]\n"
     ]
    },
    {
     "name": "stdout",
     "output_type": "stream",
     "text": [
      "✅ Epoch 320 average loss: -8456.0990\n",
      "\n",
      "Epoch 321/500\n"
     ]
    },
    {
     "name": "stderr",
     "output_type": "stream",
     "text": [
      "Loss: -8622.4531: 100%|██████████████████████████████████████████████████████████████| 313/313 [00:35<00:00,  8.73it/s]\n"
     ]
    },
    {
     "name": "stdout",
     "output_type": "stream",
     "text": [
      "✅ Epoch 321 average loss: -8451.1010\n",
      "\n",
      "Epoch 322/500\n"
     ]
    },
    {
     "name": "stderr",
     "output_type": "stream",
     "text": [
      "Loss: -8517.6270: 100%|██████████████████████████████████████████████████████████████| 313/313 [00:36<00:00,  8.46it/s]\n"
     ]
    },
    {
     "name": "stdout",
     "output_type": "stream",
     "text": [
      "✅ Epoch 322 average loss: -8458.8402\n",
      "\n",
      "Epoch 323/500\n"
     ]
    },
    {
     "name": "stderr",
     "output_type": "stream",
     "text": [
      "Loss: -8813.9219: 100%|██████████████████████████████████████████████████████████████| 313/313 [00:39<00:00,  7.85it/s]\n"
     ]
    },
    {
     "name": "stdout",
     "output_type": "stream",
     "text": [
      "✅ Epoch 323 average loss: -8456.0215\n",
      "\n",
      "Epoch 324/500\n"
     ]
    },
    {
     "name": "stderr",
     "output_type": "stream",
     "text": [
      "Loss: -8478.9072: 100%|██████████████████████████████████████████████████████████████| 313/313 [00:38<00:00,  8.06it/s]\n"
     ]
    },
    {
     "name": "stdout",
     "output_type": "stream",
     "text": [
      "✅ Epoch 324 average loss: -8445.8740\n",
      "\n",
      "Epoch 325/500\n"
     ]
    },
    {
     "name": "stderr",
     "output_type": "stream",
     "text": [
      "Loss: -8112.1494: 100%|██████████████████████████████████████████████████████████████| 313/313 [00:38<00:00,  8.07it/s]\n"
     ]
    },
    {
     "name": "stdout",
     "output_type": "stream",
     "text": [
      "✅ Epoch 325 average loss: -8455.3496\n",
      "\n",
      "Epoch 326/500\n"
     ]
    },
    {
     "name": "stderr",
     "output_type": "stream",
     "text": [
      "Loss: -7970.3022: 100%|██████████████████████████████████████████████████████████████| 313/313 [00:38<00:00,  8.05it/s]\n"
     ]
    },
    {
     "name": "stdout",
     "output_type": "stream",
     "text": [
      "✅ Epoch 326 average loss: -8450.0237\n",
      "\n",
      "Epoch 327/500\n"
     ]
    },
    {
     "name": "stderr",
     "output_type": "stream",
     "text": [
      "Loss: -7946.1191: 100%|██████████████████████████████████████████████████████████████| 313/313 [00:36<00:00,  8.46it/s]\n"
     ]
    },
    {
     "name": "stdout",
     "output_type": "stream",
     "text": [
      "✅ Epoch 327 average loss: -8469.9795\n",
      "\n",
      "Epoch 328/500\n"
     ]
    },
    {
     "name": "stderr",
     "output_type": "stream",
     "text": [
      "Loss: -8647.9355: 100%|██████████████████████████████████████████████████████████████| 313/313 [00:37<00:00,  8.38it/s]\n"
     ]
    },
    {
     "name": "stdout",
     "output_type": "stream",
     "text": [
      "✅ Epoch 328 average loss: -8472.9586\n",
      "\n",
      "Epoch 329/500\n"
     ]
    },
    {
     "name": "stderr",
     "output_type": "stream",
     "text": [
      "Loss: -8315.4805: 100%|██████████████████████████████████████████████████████████████| 313/313 [00:39<00:00,  8.01it/s]\n"
     ]
    },
    {
     "name": "stdout",
     "output_type": "stream",
     "text": [
      "✅ Epoch 329 average loss: -8441.0163\n",
      "\n",
      "Epoch 330/500\n"
     ]
    },
    {
     "name": "stderr",
     "output_type": "stream",
     "text": [
      "Loss: -8652.1035: 100%|██████████████████████████████████████████████████████████████| 313/313 [00:38<00:00,  8.06it/s]\n"
     ]
    },
    {
     "name": "stdout",
     "output_type": "stream",
     "text": [
      "✅ Epoch 330 average loss: -8479.9412\n",
      "\n",
      "Epoch 331/500\n"
     ]
    },
    {
     "name": "stderr",
     "output_type": "stream",
     "text": [
      "Loss: -8631.1641: 100%|██████████████████████████████████████████████████████████████| 313/313 [00:38<00:00,  8.22it/s]\n"
     ]
    },
    {
     "name": "stdout",
     "output_type": "stream",
     "text": [
      "✅ Epoch 331 average loss: -8455.9436\n",
      "\n",
      "Epoch 332/500\n"
     ]
    },
    {
     "name": "stderr",
     "output_type": "stream",
     "text": [
      "Loss: -8718.4629: 100%|██████████████████████████████████████████████████████████████| 313/313 [00:37<00:00,  8.29it/s]\n"
     ]
    },
    {
     "name": "stdout",
     "output_type": "stream",
     "text": [
      "✅ Epoch 332 average loss: -8466.6378\n",
      "\n",
      "Epoch 333/500\n"
     ]
    },
    {
     "name": "stderr",
     "output_type": "stream",
     "text": [
      "Loss: -9363.0957: 100%|██████████████████████████████████████████████████████████████| 313/313 [00:36<00:00,  8.57it/s]\n"
     ]
    },
    {
     "name": "stdout",
     "output_type": "stream",
     "text": [
      "✅ Epoch 333 average loss: -8476.6975\n",
      "\n",
      "Epoch 334/500\n"
     ]
    },
    {
     "name": "stderr",
     "output_type": "stream",
     "text": [
      "Loss: -8085.7578: 100%|██████████████████████████████████████████████████████████████| 313/313 [00:36<00:00,  8.69it/s]\n"
     ]
    },
    {
     "name": "stdout",
     "output_type": "stream",
     "text": [
      "✅ Epoch 334 average loss: -8472.5298\n",
      "\n",
      "Epoch 335/500\n"
     ]
    },
    {
     "name": "stderr",
     "output_type": "stream",
     "text": [
      "Loss: -8359.1582: 100%|██████████████████████████████████████████████████████████████| 313/313 [00:37<00:00,  8.44it/s]\n"
     ]
    },
    {
     "name": "stdout",
     "output_type": "stream",
     "text": [
      "✅ Epoch 335 average loss: -8483.9878\n",
      "\n",
      "Epoch 336/500\n"
     ]
    },
    {
     "name": "stderr",
     "output_type": "stream",
     "text": [
      "Loss: -7857.1030: 100%|██████████████████████████████████████████████████████████████| 313/313 [00:39<00:00,  7.94it/s]\n"
     ]
    },
    {
     "name": "stdout",
     "output_type": "stream",
     "text": [
      "✅ Epoch 336 average loss: -8469.0508\n",
      "\n",
      "Epoch 337/500\n"
     ]
    },
    {
     "name": "stderr",
     "output_type": "stream",
     "text": [
      "Loss: -7987.5869: 100%|██████████████████████████████████████████████████████████████| 313/313 [00:39<00:00,  7.91it/s]\n"
     ]
    },
    {
     "name": "stdout",
     "output_type": "stream",
     "text": [
      "✅ Epoch 337 average loss: -8478.6217\n",
      "\n",
      "Epoch 338/500\n"
     ]
    },
    {
     "name": "stderr",
     "output_type": "stream",
     "text": [
      "Loss: -8485.4326: 100%|██████████████████████████████████████████████████████████████| 313/313 [00:37<00:00,  8.43it/s]\n"
     ]
    },
    {
     "name": "stdout",
     "output_type": "stream",
     "text": [
      "✅ Epoch 338 average loss: -8478.0064\n",
      "\n",
      "Epoch 339/500\n"
     ]
    },
    {
     "name": "stderr",
     "output_type": "stream",
     "text": [
      "Loss: -9739.2852: 100%|██████████████████████████████████████████████████████████████| 313/313 [00:37<00:00,  8.30it/s]\n"
     ]
    },
    {
     "name": "stdout",
     "output_type": "stream",
     "text": [
      "✅ Epoch 339 average loss: -8487.1213\n",
      "\n",
      "Epoch 340/500\n"
     ]
    },
    {
     "name": "stderr",
     "output_type": "stream",
     "text": [
      "Loss: -7727.9204: 100%|██████████████████████████████████████████████████████████████| 313/313 [00:35<00:00,  8.87it/s]\n"
     ]
    },
    {
     "name": "stdout",
     "output_type": "stream",
     "text": [
      "✅ Epoch 340 average loss: -8473.6180\n",
      "\n",
      "Epoch 341/500\n"
     ]
    },
    {
     "name": "stderr",
     "output_type": "stream",
     "text": [
      "Loss: -7925.5449: 100%|██████████████████████████████████████████████████████████████| 313/313 [00:37<00:00,  8.46it/s]\n"
     ]
    },
    {
     "name": "stdout",
     "output_type": "stream",
     "text": [
      "✅ Epoch 341 average loss: -8473.7873\n",
      "\n",
      "Epoch 342/500\n"
     ]
    },
    {
     "name": "stderr",
     "output_type": "stream",
     "text": [
      "Loss: -8600.2490: 100%|██████████████████████████████████████████████████████████████| 313/313 [00:39<00:00,  7.90it/s]\n"
     ]
    },
    {
     "name": "stdout",
     "output_type": "stream",
     "text": [
      "✅ Epoch 342 average loss: -8491.6478\n",
      "\n",
      "Epoch 343/500\n"
     ]
    },
    {
     "name": "stderr",
     "output_type": "stream",
     "text": [
      "Loss: -8620.5840: 100%|██████████████████████████████████████████████████████████████| 313/313 [00:38<00:00,  8.13it/s]\n"
     ]
    },
    {
     "name": "stdout",
     "output_type": "stream",
     "text": [
      "✅ Epoch 343 average loss: -8492.0696\n",
      "\n",
      "Epoch 344/500\n"
     ]
    },
    {
     "name": "stderr",
     "output_type": "stream",
     "text": [
      "Loss: -8504.0586: 100%|██████████████████████████████████████████████████████████████| 313/313 [00:39<00:00,  7.98it/s]\n"
     ]
    },
    {
     "name": "stdout",
     "output_type": "stream",
     "text": [
      "✅ Epoch 344 average loss: -8487.5802\n",
      "\n",
      "Epoch 345/500\n"
     ]
    },
    {
     "name": "stderr",
     "output_type": "stream",
     "text": [
      "Loss: -8603.4023: 100%|██████████████████████████████████████████████████████████████| 313/313 [00:38<00:00,  8.15it/s]\n"
     ]
    },
    {
     "name": "stdout",
     "output_type": "stream",
     "text": [
      "✅ Epoch 345 average loss: -8487.2773\n",
      "\n",
      "Epoch 346/500\n"
     ]
    },
    {
     "name": "stderr",
     "output_type": "stream",
     "text": [
      "Loss: -8986.2275: 100%|██████████████████████████████████████████████████████████████| 313/313 [00:36<00:00,  8.61it/s]\n"
     ]
    },
    {
     "name": "stdout",
     "output_type": "stream",
     "text": [
      "✅ Epoch 346 average loss: -8499.8162\n",
      "\n",
      "Epoch 347/500\n"
     ]
    },
    {
     "name": "stderr",
     "output_type": "stream",
     "text": [
      "Loss: -8154.8750: 100%|██████████████████████████████████████████████████████████████| 313/313 [00:35<00:00,  8.87it/s]\n"
     ]
    },
    {
     "name": "stdout",
     "output_type": "stream",
     "text": [
      "✅ Epoch 347 average loss: -8498.7757\n",
      "\n",
      "Epoch 348/500\n"
     ]
    },
    {
     "name": "stderr",
     "output_type": "stream",
     "text": [
      "Loss: -7780.2808: 100%|██████████████████████████████████████████████████████████████| 313/313 [00:38<00:00,  8.16it/s]\n"
     ]
    },
    {
     "name": "stdout",
     "output_type": "stream",
     "text": [
      "✅ Epoch 348 average loss: -8501.9685\n",
      "\n",
      "Epoch 349/500\n"
     ]
    },
    {
     "name": "stderr",
     "output_type": "stream",
     "text": [
      "Loss: -8666.2598: 100%|██████████████████████████████████████████████████████████████| 313/313 [00:39<00:00,  7.99it/s]\n"
     ]
    },
    {
     "name": "stdout",
     "output_type": "stream",
     "text": [
      "✅ Epoch 349 average loss: -8499.0058\n",
      "\n",
      "Epoch 350/500\n"
     ]
    },
    {
     "name": "stderr",
     "output_type": "stream",
     "text": [
      "Loss: -8439.4814: 100%|██████████████████████████████████████████████████████████████| 313/313 [00:39<00:00,  7.84it/s]\n"
     ]
    },
    {
     "name": "stdout",
     "output_type": "stream",
     "text": [
      "✅ Epoch 350 average loss: -8509.1025\n",
      "\n",
      "Epoch 351/500\n"
     ]
    },
    {
     "name": "stderr",
     "output_type": "stream",
     "text": [
      "Loss: -9011.0000: 100%|██████████████████████████████████████████████████████████████| 313/313 [00:38<00:00,  8.19it/s]\n"
     ]
    },
    {
     "name": "stdout",
     "output_type": "stream",
     "text": [
      "✅ Epoch 351 average loss: -8507.2910\n",
      "\n",
      "Epoch 352/500\n"
     ]
    },
    {
     "name": "stderr",
     "output_type": "stream",
     "text": [
      "Loss: -8467.7295: 100%|██████████████████████████████████████████████████████████████| 313/313 [00:37<00:00,  8.41it/s]\n"
     ]
    },
    {
     "name": "stdout",
     "output_type": "stream",
     "text": [
      "✅ Epoch 352 average loss: -8502.4290\n",
      "\n",
      "Epoch 353/500\n"
     ]
    },
    {
     "name": "stderr",
     "output_type": "stream",
     "text": [
      "Loss: -8722.1602: 100%|██████████████████████████████████████████████████████████████| 313/313 [00:35<00:00,  8.70it/s]\n"
     ]
    },
    {
     "name": "stdout",
     "output_type": "stream",
     "text": [
      "✅ Epoch 353 average loss: -8510.8500\n",
      "\n",
      "Epoch 354/500\n"
     ]
    },
    {
     "name": "stderr",
     "output_type": "stream",
     "text": [
      "Loss: -8355.9043: 100%|██████████████████████████████████████████████████████████████| 313/313 [00:38<00:00,  8.19it/s]\n"
     ]
    },
    {
     "name": "stdout",
     "output_type": "stream",
     "text": [
      "✅ Epoch 354 average loss: -8511.6497\n",
      "\n",
      "Epoch 355/500\n"
     ]
    },
    {
     "name": "stderr",
     "output_type": "stream",
     "text": [
      "Loss: -8149.0039: 100%|██████████████████████████████████████████████████████████████| 313/313 [00:39<00:00,  7.98it/s]\n"
     ]
    },
    {
     "name": "stdout",
     "output_type": "stream",
     "text": [
      "✅ Epoch 355 average loss: -8509.9718\n",
      "\n",
      "Epoch 356/500\n"
     ]
    },
    {
     "name": "stderr",
     "output_type": "stream",
     "text": [
      "Loss: -8134.1709: 100%|██████████████████████████████████████████████████████████████| 313/313 [00:38<00:00,  8.04it/s]\n"
     ]
    },
    {
     "name": "stdout",
     "output_type": "stream",
     "text": [
      "✅ Epoch 356 average loss: -8510.4944\n",
      "\n",
      "Epoch 357/500\n"
     ]
    },
    {
     "name": "stderr",
     "output_type": "stream",
     "text": [
      "Loss: -9156.2734: 100%|██████████████████████████████████████████████████████████████| 313/313 [00:37<00:00,  8.29it/s]\n"
     ]
    },
    {
     "name": "stdout",
     "output_type": "stream",
     "text": [
      "✅ Epoch 357 average loss: -8526.3400\n",
      "\n",
      "Epoch 358/500\n"
     ]
    },
    {
     "name": "stderr",
     "output_type": "stream",
     "text": [
      "Loss: -8282.9385: 100%|██████████████████████████████████████████████████████████████| 313/313 [00:37<00:00,  8.30it/s]\n"
     ]
    },
    {
     "name": "stdout",
     "output_type": "stream",
     "text": [
      "✅ Epoch 358 average loss: -8517.4983\n",
      "\n",
      "Epoch 359/500\n"
     ]
    },
    {
     "name": "stderr",
     "output_type": "stream",
     "text": [
      "Loss: -9569.9492: 100%|██████████████████████████████████████████████████████████████| 313/313 [00:35<00:00,  8.74it/s]\n"
     ]
    },
    {
     "name": "stdout",
     "output_type": "stream",
     "text": [
      "✅ Epoch 359 average loss: -8522.4738\n",
      "\n",
      "Epoch 360/500\n"
     ]
    },
    {
     "name": "stderr",
     "output_type": "stream",
     "text": [
      "Loss: -8189.6846: 100%|██████████████████████████████████████████████████████████████| 313/313 [00:35<00:00,  8.69it/s]\n"
     ]
    },
    {
     "name": "stdout",
     "output_type": "stream",
     "text": [
      "✅ Epoch 360 average loss: -8533.6030\n",
      "\n",
      "Epoch 361/500\n"
     ]
    },
    {
     "name": "stderr",
     "output_type": "stream",
     "text": [
      "Loss: -7932.0078: 100%|██████████████████████████████████████████████████████████████| 313/313 [00:40<00:00,  7.73it/s]\n"
     ]
    },
    {
     "name": "stdout",
     "output_type": "stream",
     "text": [
      "✅ Epoch 361 average loss: -8517.7017\n",
      "\n",
      "Epoch 362/500\n"
     ]
    },
    {
     "name": "stderr",
     "output_type": "stream",
     "text": [
      "Loss: -8809.3955: 100%|██████████████████████████████████████████████████████████████| 313/313 [00:38<00:00,  8.18it/s]\n"
     ]
    },
    {
     "name": "stdout",
     "output_type": "stream",
     "text": [
      "✅ Epoch 362 average loss: -8523.5663\n",
      "\n",
      "Epoch 363/500\n"
     ]
    },
    {
     "name": "stderr",
     "output_type": "stream",
     "text": [
      "Loss: -8927.1914: 100%|██████████████████████████████████████████████████████████████| 313/313 [00:37<00:00,  8.30it/s]\n"
     ]
    },
    {
     "name": "stdout",
     "output_type": "stream",
     "text": [
      "✅ Epoch 363 average loss: -8540.8824\n",
      "\n",
      "Epoch 364/500\n"
     ]
    },
    {
     "name": "stderr",
     "output_type": "stream",
     "text": [
      "Loss: -8222.3066: 100%|██████████████████████████████████████████████████████████████| 313/313 [00:38<00:00,  8.21it/s]\n"
     ]
    },
    {
     "name": "stdout",
     "output_type": "stream",
     "text": [
      "✅ Epoch 364 average loss: -8525.0117\n",
      "\n",
      "Epoch 365/500\n"
     ]
    },
    {
     "name": "stderr",
     "output_type": "stream",
     "text": [
      "Loss: -7977.4990: 100%|██████████████████████████████████████████████████████████████| 313/313 [00:36<00:00,  8.52it/s]\n"
     ]
    },
    {
     "name": "stdout",
     "output_type": "stream",
     "text": [
      "✅ Epoch 365 average loss: -8536.2901\n",
      "\n",
      "Epoch 366/500\n"
     ]
    },
    {
     "name": "stderr",
     "output_type": "stream",
     "text": [
      "Loss: -8949.5322: 100%|██████████████████████████████████████████████████████████████| 313/313 [00:36<00:00,  8.65it/s]\n"
     ]
    },
    {
     "name": "stdout",
     "output_type": "stream",
     "text": [
      "✅ Epoch 366 average loss: -8546.7058\n",
      "\n",
      "Epoch 367/500\n"
     ]
    },
    {
     "name": "stderr",
     "output_type": "stream",
     "text": [
      "Loss: -9301.0029: 100%|██████████████████████████████████████████████████████████████| 313/313 [00:38<00:00,  8.11it/s]\n"
     ]
    },
    {
     "name": "stdout",
     "output_type": "stream",
     "text": [
      "✅ Epoch 367 average loss: -8547.1035\n",
      "\n",
      "Epoch 368/500\n"
     ]
    },
    {
     "name": "stderr",
     "output_type": "stream",
     "text": [
      "Loss: -8098.4648: 100%|██████████████████████████████████████████████████████████████| 313/313 [00:38<00:00,  8.07it/s]\n"
     ]
    },
    {
     "name": "stdout",
     "output_type": "stream",
     "text": [
      "✅ Epoch 368 average loss: -8539.7541\n",
      "\n",
      "Epoch 369/500\n"
     ]
    },
    {
     "name": "stderr",
     "output_type": "stream",
     "text": [
      "Loss: -8514.0117: 100%|██████████████████████████████████████████████████████████████| 313/313 [00:39<00:00,  7.99it/s]\n"
     ]
    },
    {
     "name": "stdout",
     "output_type": "stream",
     "text": [
      "✅ Epoch 369 average loss: -8538.2909\n",
      "\n",
      "Epoch 370/500\n"
     ]
    },
    {
     "name": "stderr",
     "output_type": "stream",
     "text": [
      "Loss: -8520.3398: 100%|██████████████████████████████████████████████████████████████| 313/313 [00:37<00:00,  8.28it/s]\n"
     ]
    },
    {
     "name": "stdout",
     "output_type": "stream",
     "text": [
      "✅ Epoch 370 average loss: -8533.8969\n",
      "\n",
      "Epoch 371/500\n"
     ]
    },
    {
     "name": "stderr",
     "output_type": "stream",
     "text": [
      "Loss: -8494.5361: 100%|██████████████████████████████████████████████████████████████| 313/313 [00:36<00:00,  8.58it/s]\n"
     ]
    },
    {
     "name": "stdout",
     "output_type": "stream",
     "text": [
      "✅ Epoch 371 average loss: -8538.3363\n",
      "\n",
      "Epoch 372/500\n"
     ]
    },
    {
     "name": "stderr",
     "output_type": "stream",
     "text": [
      "Loss: -8577.3184: 100%|██████████████████████████████████████████████████████████████| 313/313 [00:36<00:00,  8.58it/s]\n"
     ]
    },
    {
     "name": "stdout",
     "output_type": "stream",
     "text": [
      "✅ Epoch 372 average loss: -8530.6741\n",
      "\n",
      "Epoch 373/500\n"
     ]
    },
    {
     "name": "stderr",
     "output_type": "stream",
     "text": [
      "Loss: -7946.1094: 100%|██████████████████████████████████████████████████████████████| 313/313 [00:36<00:00,  8.67it/s]\n"
     ]
    },
    {
     "name": "stdout",
     "output_type": "stream",
     "text": [
      "✅ Epoch 373 average loss: -8551.9240\n",
      "\n",
      "Epoch 374/500\n"
     ]
    },
    {
     "name": "stderr",
     "output_type": "stream",
     "text": [
      "Loss: -8572.5430: 100%|██████████████████████████████████████████████████████████████| 313/313 [00:38<00:00,  8.11it/s]\n"
     ]
    },
    {
     "name": "stdout",
     "output_type": "stream",
     "text": [
      "✅ Epoch 374 average loss: -8561.8940\n",
      "\n",
      "Epoch 375/500\n"
     ]
    },
    {
     "name": "stderr",
     "output_type": "stream",
     "text": [
      "Loss: -8852.2520: 100%|██████████████████████████████████████████████████████████████| 313/313 [00:39<00:00,  8.02it/s]\n"
     ]
    },
    {
     "name": "stdout",
     "output_type": "stream",
     "text": [
      "✅ Epoch 375 average loss: -8544.8553\n",
      "\n",
      "Epoch 376/500\n"
     ]
    },
    {
     "name": "stderr",
     "output_type": "stream",
     "text": [
      "Loss: -8622.2266: 100%|██████████████████████████████████████████████████████████████| 313/313 [00:38<00:00,  8.24it/s]\n"
     ]
    },
    {
     "name": "stdout",
     "output_type": "stream",
     "text": [
      "✅ Epoch 376 average loss: -8551.0665\n",
      "\n",
      "Epoch 377/500\n"
     ]
    },
    {
     "name": "stderr",
     "output_type": "stream",
     "text": [
      "Loss: -8014.5908: 100%|██████████████████████████████████████████████████████████████| 313/313 [00:38<00:00,  8.23it/s]\n"
     ]
    },
    {
     "name": "stdout",
     "output_type": "stream",
     "text": [
      "✅ Epoch 377 average loss: -8549.8509\n",
      "\n",
      "Epoch 378/500\n"
     ]
    },
    {
     "name": "stderr",
     "output_type": "stream",
     "text": [
      "Loss: -7836.8921: 100%|██████████████████████████████████████████████████████████████| 313/313 [00:36<00:00,  8.65it/s]\n"
     ]
    },
    {
     "name": "stdout",
     "output_type": "stream",
     "text": [
      "✅ Epoch 378 average loss: -8563.8745\n",
      "\n",
      "Epoch 379/500\n"
     ]
    },
    {
     "name": "stderr",
     "output_type": "stream",
     "text": [
      "Loss: -8211.7666: 100%|██████████████████████████████████████████████████████████████| 313/313 [00:35<00:00,  8.76it/s]\n"
     ]
    },
    {
     "name": "stdout",
     "output_type": "stream",
     "text": [
      "✅ Epoch 379 average loss: -8555.6150\n",
      "\n",
      "Epoch 380/500\n"
     ]
    },
    {
     "name": "stderr",
     "output_type": "stream",
     "text": [
      "Loss: -8157.2354: 100%|██████████████████████████████████████████████████████████████| 313/313 [00:39<00:00,  8.02it/s]\n"
     ]
    },
    {
     "name": "stdout",
     "output_type": "stream",
     "text": [
      "✅ Epoch 380 average loss: -8564.2939\n",
      "\n",
      "Epoch 381/500\n"
     ]
    },
    {
     "name": "stderr",
     "output_type": "stream",
     "text": [
      "Loss: -7672.0859: 100%|██████████████████████████████████████████████████████████████| 313/313 [00:38<00:00,  8.18it/s]\n"
     ]
    },
    {
     "name": "stdout",
     "output_type": "stream",
     "text": [
      "✅ Epoch 381 average loss: -8568.4282\n",
      "\n",
      "Epoch 382/500\n"
     ]
    },
    {
     "name": "stderr",
     "output_type": "stream",
     "text": [
      "Loss: -8375.8105: 100%|██████████████████████████████████████████████████████████████| 313/313 [00:38<00:00,  8.14it/s]\n"
     ]
    },
    {
     "name": "stdout",
     "output_type": "stream",
     "text": [
      "✅ Epoch 382 average loss: -8559.5877\n",
      "\n",
      "Epoch 383/500\n"
     ]
    },
    {
     "name": "stderr",
     "output_type": "stream",
     "text": [
      "Loss: -9030.9336: 100%|██████████████████████████████████████████████████████████████| 313/313 [00:38<00:00,  8.10it/s]\n"
     ]
    },
    {
     "name": "stdout",
     "output_type": "stream",
     "text": [
      "✅ Epoch 383 average loss: -8571.9365\n",
      "\n",
      "Epoch 384/500\n"
     ]
    },
    {
     "name": "stderr",
     "output_type": "stream",
     "text": [
      "Loss: -8777.2031: 100%|██████████████████████████████████████████████████████████████| 313/313 [00:35<00:00,  8.72it/s]\n"
     ]
    },
    {
     "name": "stdout",
     "output_type": "stream",
     "text": [
      "✅ Epoch 384 average loss: -8565.3443\n",
      "\n",
      "Epoch 385/500\n"
     ]
    },
    {
     "name": "stderr",
     "output_type": "stream",
     "text": [
      "Loss: -8568.3555: 100%|██████████████████████████████████████████████████████████████| 313/313 [00:36<00:00,  8.54it/s]\n"
     ]
    },
    {
     "name": "stdout",
     "output_type": "stream",
     "text": [
      "✅ Epoch 385 average loss: -8577.2377\n",
      "\n",
      "Epoch 386/500\n"
     ]
    },
    {
     "name": "stderr",
     "output_type": "stream",
     "text": [
      "Loss: -7887.7817: 100%|██████████████████████████████████████████████████████████████| 313/313 [00:37<00:00,  8.37it/s]\n"
     ]
    },
    {
     "name": "stdout",
     "output_type": "stream",
     "text": [
      "✅ Epoch 386 average loss: -8569.1073\n",
      "\n",
      "Epoch 387/500\n"
     ]
    },
    {
     "name": "stderr",
     "output_type": "stream",
     "text": [
      "Loss: -8513.3047: 100%|██████████████████████████████████████████████████████████████| 313/313 [00:38<00:00,  8.20it/s]\n"
     ]
    },
    {
     "name": "stdout",
     "output_type": "stream",
     "text": [
      "✅ Epoch 387 average loss: -8584.3025\n",
      "\n",
      "Epoch 388/500\n"
     ]
    },
    {
     "name": "stderr",
     "output_type": "stream",
     "text": [
      "Loss: -8884.2305: 100%|██████████████████████████████████████████████████████████████| 313/313 [00:39<00:00,  8.01it/s]\n"
     ]
    },
    {
     "name": "stdout",
     "output_type": "stream",
     "text": [
      "✅ Epoch 388 average loss: -8559.0146\n",
      "\n",
      "Epoch 389/500\n"
     ]
    },
    {
     "name": "stderr",
     "output_type": "stream",
     "text": [
      "Loss: -9337.0244: 100%|██████████████████████████████████████████████████████████████| 313/313 [00:37<00:00,  8.32it/s]\n"
     ]
    },
    {
     "name": "stdout",
     "output_type": "stream",
     "text": [
      "✅ Epoch 389 average loss: -8591.3341\n",
      "\n",
      "Epoch 390/500\n"
     ]
    },
    {
     "name": "stderr",
     "output_type": "stream",
     "text": [
      "Loss: -9020.1299: 100%|██████████████████████████████████████████████████████████████| 313/313 [00:37<00:00,  8.45it/s]\n"
     ]
    },
    {
     "name": "stdout",
     "output_type": "stream",
     "text": [
      "✅ Epoch 390 average loss: -8570.2073\n",
      "\n",
      "Epoch 391/500\n"
     ]
    },
    {
     "name": "stderr",
     "output_type": "stream",
     "text": [
      "Loss: -8391.8193: 100%|██████████████████████████████████████████████████████████████| 313/313 [00:36<00:00,  8.64it/s]\n"
     ]
    },
    {
     "name": "stdout",
     "output_type": "stream",
     "text": [
      "✅ Epoch 391 average loss: -8573.3533\n",
      "\n",
      "Epoch 392/500\n"
     ]
    },
    {
     "name": "stderr",
     "output_type": "stream",
     "text": [
      "Loss: -8534.0430: 100%|██████████████████████████████████████████████████████████████| 313/313 [00:37<00:00,  8.36it/s]\n"
     ]
    },
    {
     "name": "stdout",
     "output_type": "stream",
     "text": [
      "✅ Epoch 392 average loss: -8589.0274\n",
      "\n",
      "Epoch 393/500\n"
     ]
    },
    {
     "name": "stderr",
     "output_type": "stream",
     "text": [
      "Loss: -8509.9355: 100%|██████████████████████████████████████████████████████████████| 313/313 [00:39<00:00,  7.86it/s]\n"
     ]
    },
    {
     "name": "stdout",
     "output_type": "stream",
     "text": [
      "✅ Epoch 393 average loss: -8596.2576\n",
      "\n",
      "Epoch 394/500\n"
     ]
    },
    {
     "name": "stderr",
     "output_type": "stream",
     "text": [
      "Loss: -8442.5859: 100%|██████████████████████████████████████████████████████████████| 313/313 [00:38<00:00,  8.22it/s]\n"
     ]
    },
    {
     "name": "stdout",
     "output_type": "stream",
     "text": [
      "✅ Epoch 394 average loss: -8586.8312\n",
      "\n",
      "Epoch 395/500\n"
     ]
    },
    {
     "name": "stderr",
     "output_type": "stream",
     "text": [
      "Loss: -9052.0293: 100%|██████████████████████████████████████████████████████████████| 313/313 [00:38<00:00,  8.08it/s]\n"
     ]
    },
    {
     "name": "stdout",
     "output_type": "stream",
     "text": [
      "✅ Epoch 395 average loss: -8582.9076\n",
      "\n",
      "Epoch 396/500\n"
     ]
    },
    {
     "name": "stderr",
     "output_type": "stream",
     "text": [
      "Loss: -8860.5957: 100%|██████████████████████████████████████████████████████████████| 313/313 [00:37<00:00,  8.30it/s]\n"
     ]
    },
    {
     "name": "stdout",
     "output_type": "stream",
     "text": [
      "✅ Epoch 396 average loss: -8583.7787\n",
      "\n",
      "Epoch 397/500\n"
     ]
    },
    {
     "name": "stderr",
     "output_type": "stream",
     "text": [
      "Loss: -9059.9883: 100%|██████████████████████████████████████████████████████████████| 313/313 [00:36<00:00,  8.64it/s]\n"
     ]
    },
    {
     "name": "stdout",
     "output_type": "stream",
     "text": [
      "✅ Epoch 397 average loss: -8602.4576\n",
      "\n",
      "Epoch 398/500\n"
     ]
    },
    {
     "name": "stderr",
     "output_type": "stream",
     "text": [
      "Loss: -9110.6709: 100%|██████████████████████████████████████████████████████████████| 313/313 [00:35<00:00,  8.72it/s]\n"
     ]
    },
    {
     "name": "stdout",
     "output_type": "stream",
     "text": [
      "✅ Epoch 398 average loss: -8604.5660\n",
      "\n",
      "Epoch 399/500\n"
     ]
    },
    {
     "name": "stderr",
     "output_type": "stream",
     "text": [
      "Loss: -8933.3965: 100%|██████████████████████████████████████████████████████████████| 313/313 [00:38<00:00,  8.04it/s]\n"
     ]
    },
    {
     "name": "stdout",
     "output_type": "stream",
     "text": [
      "✅ Epoch 399 average loss: -8596.7656\n",
      "\n",
      "Epoch 400/500\n"
     ]
    },
    {
     "name": "stderr",
     "output_type": "stream",
     "text": [
      "Loss: -8519.6914: 100%|██████████████████████████████████████████████████████████████| 313/313 [00:38<00:00,  8.15it/s]\n"
     ]
    },
    {
     "name": "stdout",
     "output_type": "stream",
     "text": [
      "✅ Epoch 400 average loss: -8595.9115\n",
      "📦 Saved checkpoint at epoch 400\n",
      "\n",
      "Epoch 401/500\n"
     ]
    },
    {
     "name": "stderr",
     "output_type": "stream",
     "text": [
      "Loss: -8482.1787: 100%|██████████████████████████████████████████████████████████████| 313/313 [00:39<00:00,  7.97it/s]\n"
     ]
    },
    {
     "name": "stdout",
     "output_type": "stream",
     "text": [
      "✅ Epoch 401 average loss: -8603.4354\n",
      "\n",
      "Epoch 402/500\n"
     ]
    },
    {
     "name": "stderr",
     "output_type": "stream",
     "text": [
      "Loss: -9246.9258: 100%|██████████████████████████████████████████████████████████████| 313/313 [00:37<00:00,  8.33it/s]\n"
     ]
    },
    {
     "name": "stdout",
     "output_type": "stream",
     "text": [
      "✅ Epoch 402 average loss: -8603.2196\n",
      "\n",
      "Epoch 403/500\n"
     ]
    },
    {
     "name": "stderr",
     "output_type": "stream",
     "text": [
      "Loss: -8824.8809: 100%|██████████████████████████████████████████████████████████████| 313/313 [00:36<00:00,  8.53it/s]\n"
     ]
    },
    {
     "name": "stdout",
     "output_type": "stream",
     "text": [
      "✅ Epoch 403 average loss: -8596.5615\n",
      "\n",
      "Epoch 404/500\n"
     ]
    },
    {
     "name": "stderr",
     "output_type": "stream",
     "text": [
      "Loss: -8199.9062: 100%|██████████████████████████████████████████████████████████████| 313/313 [00:35<00:00,  8.72it/s]\n"
     ]
    },
    {
     "name": "stdout",
     "output_type": "stream",
     "text": [
      "✅ Epoch 404 average loss: -8601.4566\n",
      "\n",
      "Epoch 405/500\n"
     ]
    },
    {
     "name": "stderr",
     "output_type": "stream",
     "text": [
      "Loss: -8223.2227: 100%|██████████████████████████████████████████████████████████████| 313/313 [00:37<00:00,  8.39it/s]\n"
     ]
    },
    {
     "name": "stdout",
     "output_type": "stream",
     "text": [
      "✅ Epoch 405 average loss: -8598.5234\n",
      "\n",
      "Epoch 406/500\n"
     ]
    },
    {
     "name": "stderr",
     "output_type": "stream",
     "text": [
      "Loss: -8361.4541: 100%|██████████████████████████████████████████████████████████████| 313/313 [00:38<00:00,  8.11it/s]\n"
     ]
    },
    {
     "name": "stdout",
     "output_type": "stream",
     "text": [
      "✅ Epoch 406 average loss: -8622.9588\n",
      "\n",
      "Epoch 407/500\n"
     ]
    },
    {
     "name": "stderr",
     "output_type": "stream",
     "text": [
      "Loss: -8379.8154: 100%|██████████████████████████████████████████████████████████████| 313/313 [00:38<00:00,  8.07it/s]\n"
     ]
    },
    {
     "name": "stdout",
     "output_type": "stream",
     "text": [
      "✅ Epoch 407 average loss: -8612.6118\n",
      "\n",
      "Epoch 408/500\n"
     ]
    },
    {
     "name": "stderr",
     "output_type": "stream",
     "text": [
      "Loss: -8836.4277: 100%|██████████████████████████████████████████████████████████████| 313/313 [00:37<00:00,  8.28it/s]\n"
     ]
    },
    {
     "name": "stdout",
     "output_type": "stream",
     "text": [
      "✅ Epoch 408 average loss: -8608.9926\n",
      "\n",
      "Epoch 409/500\n"
     ]
    },
    {
     "name": "stderr",
     "output_type": "stream",
     "text": [
      "Loss: -8699.5234: 100%|██████████████████████████████████████████████████████████████| 313/313 [00:37<00:00,  8.32it/s]\n"
     ]
    },
    {
     "name": "stdout",
     "output_type": "stream",
     "text": [
      "✅ Epoch 409 average loss: -8615.6652\n",
      "\n",
      "Epoch 410/500\n"
     ]
    },
    {
     "name": "stderr",
     "output_type": "stream",
     "text": [
      "Loss: -8426.8184: 100%|██████████████████████████████████████████████████████████████| 313/313 [00:36<00:00,  8.63it/s]\n"
     ]
    },
    {
     "name": "stdout",
     "output_type": "stream",
     "text": [
      "✅ Epoch 410 average loss: -8600.4604\n",
      "\n",
      "Epoch 411/500\n"
     ]
    },
    {
     "name": "stderr",
     "output_type": "stream",
     "text": [
      "Loss: -9001.9648: 100%|██████████████████████████████████████████████████████████████| 313/313 [00:35<00:00,  8.77it/s]\n"
     ]
    },
    {
     "name": "stdout",
     "output_type": "stream",
     "text": [
      "✅ Epoch 411 average loss: -8628.8164\n",
      "\n",
      "Epoch 412/500\n"
     ]
    },
    {
     "name": "stderr",
     "output_type": "stream",
     "text": [
      "Loss: -9085.0078: 100%|██████████████████████████████████████████████████████████████| 313/313 [00:39<00:00,  7.89it/s]\n"
     ]
    },
    {
     "name": "stdout",
     "output_type": "stream",
     "text": [
      "✅ Epoch 412 average loss: -8612.8197\n",
      "\n",
      "Epoch 413/500\n"
     ]
    },
    {
     "name": "stderr",
     "output_type": "stream",
     "text": [
      "Loss: -7958.8623: 100%|██████████████████████████████████████████████████████████████| 313/313 [00:38<00:00,  8.21it/s]\n"
     ]
    },
    {
     "name": "stdout",
     "output_type": "stream",
     "text": [
      "✅ Epoch 413 average loss: -8635.9182\n",
      "\n",
      "Epoch 414/500\n"
     ]
    },
    {
     "name": "stderr",
     "output_type": "stream",
     "text": [
      "Loss: -8960.6943: 100%|██████████████████████████████████████████████████████████████| 313/313 [00:37<00:00,  8.36it/s]\n"
     ]
    },
    {
     "name": "stdout",
     "output_type": "stream",
     "text": [
      "✅ Epoch 414 average loss: -8620.7938\n",
      "\n",
      "Epoch 415/500\n"
     ]
    },
    {
     "name": "stderr",
     "output_type": "stream",
     "text": [
      "Loss: -8299.2969: 100%|██████████████████████████████████████████████████████████████| 313/313 [00:37<00:00,  8.26it/s]\n"
     ]
    },
    {
     "name": "stdout",
     "output_type": "stream",
     "text": [
      "✅ Epoch 415 average loss: -8637.9616\n",
      "\n",
      "Epoch 416/500\n"
     ]
    },
    {
     "name": "stderr",
     "output_type": "stream",
     "text": [
      "Loss: -8531.1484: 100%|██████████████████████████████████████████████████████████████| 313/313 [00:35<00:00,  8.80it/s]\n"
     ]
    },
    {
     "name": "stdout",
     "output_type": "stream",
     "text": [
      "✅ Epoch 416 average loss: -8625.2861\n",
      "\n",
      "Epoch 417/500\n"
     ]
    },
    {
     "name": "stderr",
     "output_type": "stream",
     "text": [
      "Loss: -8593.8535: 100%|██████████████████████████████████████████████████████████████| 313/313 [00:35<00:00,  8.76it/s]\n"
     ]
    },
    {
     "name": "stdout",
     "output_type": "stream",
     "text": [
      "✅ Epoch 417 average loss: -8626.6778\n",
      "\n",
      "Epoch 418/500\n"
     ]
    },
    {
     "name": "stderr",
     "output_type": "stream",
     "text": [
      "Loss: -8153.9443: 100%|██████████████████████████████████████████████████████████████| 313/313 [00:37<00:00,  8.24it/s]\n"
     ]
    },
    {
     "name": "stdout",
     "output_type": "stream",
     "text": [
      "✅ Epoch 418 average loss: -8645.1783\n",
      "\n",
      "Epoch 419/500\n"
     ]
    },
    {
     "name": "stderr",
     "output_type": "stream",
     "text": [
      "Loss: -8939.2773: 100%|██████████████████████████████████████████████████████████████| 313/313 [00:38<00:00,  8.03it/s]\n"
     ]
    },
    {
     "name": "stdout",
     "output_type": "stream",
     "text": [
      "✅ Epoch 419 average loss: -8625.2904\n",
      "\n",
      "Epoch 420/500\n"
     ]
    },
    {
     "name": "stderr",
     "output_type": "stream",
     "text": [
      "Loss: -9440.5449: 100%|██████████████████████████████████████████████████████████████| 313/313 [00:38<00:00,  8.13it/s]\n"
     ]
    },
    {
     "name": "stdout",
     "output_type": "stream",
     "text": [
      "✅ Epoch 420 average loss: -8631.5277\n",
      "\n",
      "Epoch 421/500\n"
     ]
    },
    {
     "name": "stderr",
     "output_type": "stream",
     "text": [
      "Loss: -8366.8467: 100%|██████████████████████████████████████████████████████████████| 313/313 [00:37<00:00,  8.26it/s]\n"
     ]
    },
    {
     "name": "stdout",
     "output_type": "stream",
     "text": [
      "✅ Epoch 421 average loss: -8635.9607\n",
      "\n",
      "Epoch 422/500\n"
     ]
    },
    {
     "name": "stderr",
     "output_type": "stream",
     "text": [
      "Loss: -8910.8877: 100%|██████████████████████████████████████████████████████████████| 313/313 [00:36<00:00,  8.55it/s]\n"
     ]
    },
    {
     "name": "stdout",
     "output_type": "stream",
     "text": [
      "✅ Epoch 422 average loss: -8633.7851\n",
      "\n",
      "Epoch 423/500\n"
     ]
    },
    {
     "name": "stderr",
     "output_type": "stream",
     "text": [
      "Loss: -9016.2793: 100%|██████████████████████████████████████████████████████████████| 313/313 [00:36<00:00,  8.65it/s]\n"
     ]
    },
    {
     "name": "stdout",
     "output_type": "stream",
     "text": [
      "✅ Epoch 423 average loss: -8636.9225\n",
      "\n",
      "Epoch 424/500\n"
     ]
    },
    {
     "name": "stderr",
     "output_type": "stream",
     "text": [
      "Loss: -7667.2119: 100%|██████████████████████████████████████████████████████████████| 313/313 [00:36<00:00,  8.50it/s]\n"
     ]
    },
    {
     "name": "stdout",
     "output_type": "stream",
     "text": [
      "✅ Epoch 424 average loss: -8626.7750\n",
      "\n",
      "Epoch 425/500\n"
     ]
    },
    {
     "name": "stderr",
     "output_type": "stream",
     "text": [
      "Loss: -8962.8301: 100%|██████████████████████████████████████████████████████████████| 313/313 [00:39<00:00,  7.89it/s]\n"
     ]
    },
    {
     "name": "stdout",
     "output_type": "stream",
     "text": [
      "✅ Epoch 425 average loss: -8651.6427\n",
      "\n",
      "Epoch 426/500\n"
     ]
    },
    {
     "name": "stderr",
     "output_type": "stream",
     "text": [
      "Loss: -9081.7695: 100%|██████████████████████████████████████████████████████████████| 313/313 [00:38<00:00,  8.10it/s]\n"
     ]
    },
    {
     "name": "stdout",
     "output_type": "stream",
     "text": [
      "✅ Epoch 426 average loss: -8650.1072\n",
      "\n",
      "Epoch 427/500\n"
     ]
    },
    {
     "name": "stderr",
     "output_type": "stream",
     "text": [
      "Loss: -9261.9199: 100%|██████████████████████████████████████████████████████████████| 313/313 [00:37<00:00,  8.28it/s]\n"
     ]
    },
    {
     "name": "stdout",
     "output_type": "stream",
     "text": [
      "✅ Epoch 427 average loss: -8633.2713\n",
      "\n",
      "Epoch 428/500\n"
     ]
    },
    {
     "name": "stderr",
     "output_type": "stream",
     "text": [
      "Loss: -9201.5996: 100%|██████████████████████████████████████████████████████████████| 313/313 [00:37<00:00,  8.24it/s]\n"
     ]
    },
    {
     "name": "stdout",
     "output_type": "stream",
     "text": [
      "✅ Epoch 428 average loss: -8633.7418\n",
      "\n",
      "Epoch 429/500\n"
     ]
    },
    {
     "name": "stderr",
     "output_type": "stream",
     "text": [
      "Loss: -8783.5029: 100%|██████████████████████████████████████████████████████████████| 313/313 [00:36<00:00,  8.68it/s]\n"
     ]
    },
    {
     "name": "stdout",
     "output_type": "stream",
     "text": [
      "✅ Epoch 429 average loss: -8654.1539\n",
      "\n",
      "Epoch 430/500\n"
     ]
    },
    {
     "name": "stderr",
     "output_type": "stream",
     "text": [
      "Loss: -8206.6953: 100%|██████████████████████████████████████████████████████████████| 313/313 [00:35<00:00,  8.72it/s]\n"
     ]
    },
    {
     "name": "stdout",
     "output_type": "stream",
     "text": [
      "✅ Epoch 430 average loss: -8646.1227\n",
      "\n",
      "Epoch 431/500\n"
     ]
    },
    {
     "name": "stderr",
     "output_type": "stream",
     "text": [
      "Loss: -9195.0371: 100%|██████████████████████████████████████████████████████████████| 313/313 [00:39<00:00,  8.02it/s]\n"
     ]
    },
    {
     "name": "stdout",
     "output_type": "stream",
     "text": [
      "✅ Epoch 431 average loss: -8645.1783\n",
      "\n",
      "Epoch 432/500\n"
     ]
    },
    {
     "name": "stderr",
     "output_type": "stream",
     "text": [
      "Loss: -8122.3311: 100%|██████████████████████████████████████████████████████████████| 313/313 [00:38<00:00,  8.08it/s]\n"
     ]
    },
    {
     "name": "stdout",
     "output_type": "stream",
     "text": [
      "✅ Epoch 432 average loss: -8653.6977\n",
      "\n",
      "Epoch 433/500\n"
     ]
    },
    {
     "name": "stderr",
     "output_type": "stream",
     "text": [
      "Loss: -8122.5176: 100%|██████████████████████████████████████████████████████████████| 313/313 [00:37<00:00,  8.24it/s]\n"
     ]
    },
    {
     "name": "stdout",
     "output_type": "stream",
     "text": [
      "✅ Epoch 433 average loss: -8657.5772\n",
      "\n",
      "Epoch 434/500\n"
     ]
    },
    {
     "name": "stderr",
     "output_type": "stream",
     "text": [
      "Loss: -9361.3896: 100%|██████████████████████████████████████████████████████████████| 313/313 [00:37<00:00,  8.34it/s]\n"
     ]
    },
    {
     "name": "stdout",
     "output_type": "stream",
     "text": [
      "✅ Epoch 434 average loss: -8660.7334\n",
      "\n",
      "Epoch 435/500\n"
     ]
    },
    {
     "name": "stderr",
     "output_type": "stream",
     "text": [
      "Loss: -8233.9980: 100%|██████████████████████████████████████████████████████████████| 313/313 [00:35<00:00,  8.84it/s]\n"
     ]
    },
    {
     "name": "stdout",
     "output_type": "stream",
     "text": [
      "✅ Epoch 435 average loss: -8660.9793\n",
      "\n",
      "Epoch 436/500\n"
     ]
    },
    {
     "name": "stderr",
     "output_type": "stream",
     "text": [
      "Loss: -8115.9956: 100%|██████████████████████████████████████████████████████████████| 313/313 [00:35<00:00,  8.77it/s]\n"
     ]
    },
    {
     "name": "stdout",
     "output_type": "stream",
     "text": [
      "✅ Epoch 436 average loss: -8666.2700\n",
      "\n",
      "Epoch 437/500\n"
     ]
    },
    {
     "name": "stderr",
     "output_type": "stream",
     "text": [
      "Loss: -8283.3281: 100%|██████████████████████████████████████████████████████████████| 313/313 [00:37<00:00,  8.35it/s]\n"
     ]
    },
    {
     "name": "stdout",
     "output_type": "stream",
     "text": [
      "✅ Epoch 437 average loss: -8650.5643\n",
      "\n",
      "Epoch 438/500\n"
     ]
    },
    {
     "name": "stderr",
     "output_type": "stream",
     "text": [
      "Loss: -8575.7539: 100%|██████████████████████████████████████████████████████████████| 313/313 [00:39<00:00,  7.95it/s]\n"
     ]
    },
    {
     "name": "stdout",
     "output_type": "stream",
     "text": [
      "✅ Epoch 438 average loss: -8656.5543\n",
      "\n",
      "Epoch 439/500\n"
     ]
    },
    {
     "name": "stderr",
     "output_type": "stream",
     "text": [
      "Loss: -8897.0000: 100%|██████████████████████████████████████████████████████████████| 313/313 [00:39<00:00,  7.96it/s]\n"
     ]
    },
    {
     "name": "stdout",
     "output_type": "stream",
     "text": [
      "✅ Epoch 439 average loss: -8657.7034\n",
      "\n",
      "Epoch 440/500\n"
     ]
    },
    {
     "name": "stderr",
     "output_type": "stream",
     "text": [
      "Loss: -8414.0957: 100%|██████████████████████████████████████████████████████████████| 313/313 [00:37<00:00,  8.26it/s]\n"
     ]
    },
    {
     "name": "stdout",
     "output_type": "stream",
     "text": [
      "✅ Epoch 440 average loss: -8669.4910\n",
      "\n",
      "Epoch 441/500\n"
     ]
    },
    {
     "name": "stderr",
     "output_type": "stream",
     "text": [
      "Loss: -9004.0156: 100%|██████████████████████████████████████████████████████████████| 313/313 [00:36<00:00,  8.52it/s]\n"
     ]
    },
    {
     "name": "stdout",
     "output_type": "stream",
     "text": [
      "✅ Epoch 441 average loss: -8663.6239\n",
      "\n",
      "Epoch 442/500\n"
     ]
    },
    {
     "name": "stderr",
     "output_type": "stream",
     "text": [
      "Loss: -8818.4639: 100%|██████████████████████████████████████████████████████████████| 313/313 [00:35<00:00,  8.81it/s]\n"
     ]
    },
    {
     "name": "stdout",
     "output_type": "stream",
     "text": [
      "✅ Epoch 442 average loss: -8671.2499\n",
      "\n",
      "Epoch 443/500\n"
     ]
    },
    {
     "name": "stderr",
     "output_type": "stream",
     "text": [
      "Loss: -9178.0039: 100%|██████████████████████████████████████████████████████████████| 313/313 [00:36<00:00,  8.62it/s]\n"
     ]
    },
    {
     "name": "stdout",
     "output_type": "stream",
     "text": [
      "✅ Epoch 443 average loss: -8674.9498\n",
      "\n",
      "Epoch 444/500\n"
     ]
    },
    {
     "name": "stderr",
     "output_type": "stream",
     "text": [
      "Loss: -7914.2949: 100%|██████████████████████████████████████████████████████████████| 313/313 [00:39<00:00,  7.89it/s]\n"
     ]
    },
    {
     "name": "stdout",
     "output_type": "stream",
     "text": [
      "✅ Epoch 444 average loss: -8662.0252\n",
      "\n",
      "Epoch 445/500\n"
     ]
    },
    {
     "name": "stderr",
     "output_type": "stream",
     "text": [
      "Loss: -8607.0508: 100%|██████████████████████████████████████████████████████████████| 313/313 [00:38<00:00,  8.13it/s]\n"
     ]
    },
    {
     "name": "stdout",
     "output_type": "stream",
     "text": [
      "✅ Epoch 445 average loss: -8679.9481\n",
      "\n",
      "Epoch 446/500\n"
     ]
    },
    {
     "name": "stderr",
     "output_type": "stream",
     "text": [
      "Loss: -8868.9316: 100%|██████████████████████████████████████████████████████████████| 313/313 [00:37<00:00,  8.27it/s]\n"
     ]
    },
    {
     "name": "stdout",
     "output_type": "stream",
     "text": [
      "✅ Epoch 446 average loss: -8681.5349\n",
      "\n",
      "Epoch 447/500\n"
     ]
    },
    {
     "name": "stderr",
     "output_type": "stream",
     "text": [
      "Loss: -7996.7041: 100%|██████████████████████████████████████████████████████████████| 313/313 [00:37<00:00,  8.29it/s]\n"
     ]
    },
    {
     "name": "stdout",
     "output_type": "stream",
     "text": [
      "✅ Epoch 447 average loss: -8683.2703\n",
      "\n",
      "Epoch 448/500\n"
     ]
    },
    {
     "name": "stderr",
     "output_type": "stream",
     "text": [
      "Loss: -8474.7383: 100%|██████████████████████████████████████████████████████████████| 313/313 [00:35<00:00,  8.79it/s]\n"
     ]
    },
    {
     "name": "stdout",
     "output_type": "stream",
     "text": [
      "✅ Epoch 448 average loss: -8661.9189\n",
      "\n",
      "Epoch 449/500\n"
     ]
    },
    {
     "name": "stderr",
     "output_type": "stream",
     "text": [
      "Loss: -7622.1934: 100%|██████████████████████████████████████████████████████████████| 313/313 [00:35<00:00,  8.78it/s]\n"
     ]
    },
    {
     "name": "stdout",
     "output_type": "stream",
     "text": [
      "✅ Epoch 449 average loss: -8677.3056\n",
      "\n",
      "Epoch 450/500\n"
     ]
    },
    {
     "name": "stderr",
     "output_type": "stream",
     "text": [
      "Loss: -8503.0508: 100%|██████████████████████████████████████████████████████████████| 313/313 [00:37<00:00,  8.26it/s]\n"
     ]
    },
    {
     "name": "stdout",
     "output_type": "stream",
     "text": [
      "✅ Epoch 450 average loss: -8689.8275\n",
      "\n",
      "Epoch 451/500\n"
     ]
    },
    {
     "name": "stderr",
     "output_type": "stream",
     "text": [
      "Loss: -8201.0781: 100%|██████████████████████████████████████████████████████████████| 313/313 [00:38<00:00,  8.13it/s]\n"
     ]
    },
    {
     "name": "stdout",
     "output_type": "stream",
     "text": [
      "✅ Epoch 451 average loss: -8680.6467\n",
      "\n",
      "Epoch 452/500\n"
     ]
    },
    {
     "name": "stderr",
     "output_type": "stream",
     "text": [
      "Loss: -8694.1348: 100%|██████████████████████████████████████████████████████████████| 313/313 [00:38<00:00,  8.18it/s]\n"
     ]
    },
    {
     "name": "stdout",
     "output_type": "stream",
     "text": [
      "✅ Epoch 452 average loss: -8675.4241\n",
      "\n",
      "Epoch 453/500\n"
     ]
    },
    {
     "name": "stderr",
     "output_type": "stream",
     "text": [
      "Loss: -8844.8633: 100%|██████████████████████████████████████████████████████████████| 313/313 [00:37<00:00,  8.27it/s]\n"
     ]
    },
    {
     "name": "stdout",
     "output_type": "stream",
     "text": [
      "✅ Epoch 453 average loss: -8694.9698\n",
      "\n",
      "Epoch 454/500\n"
     ]
    },
    {
     "name": "stderr",
     "output_type": "stream",
     "text": [
      "Loss: -8608.9551: 100%|██████████████████████████████████████████████████████████████| 313/313 [00:36<00:00,  8.49it/s]\n"
     ]
    },
    {
     "name": "stdout",
     "output_type": "stream",
     "text": [
      "✅ Epoch 454 average loss: -8678.4368\n",
      "\n",
      "Epoch 455/500\n"
     ]
    },
    {
     "name": "stderr",
     "output_type": "stream",
     "text": [
      "Loss: -8820.8018: 100%|██████████████████████████████████████████████████████████████| 313/313 [00:35<00:00,  8.82it/s]\n"
     ]
    },
    {
     "name": "stdout",
     "output_type": "stream",
     "text": [
      "✅ Epoch 455 average loss: -8690.4620\n",
      "\n",
      "Epoch 456/500\n"
     ]
    },
    {
     "name": "stderr",
     "output_type": "stream",
     "text": [
      "Loss: -9072.9580: 100%|██████████████████████████████████████████████████████████████| 313/313 [00:36<00:00,  8.63it/s]\n"
     ]
    },
    {
     "name": "stdout",
     "output_type": "stream",
     "text": [
      "✅ Epoch 456 average loss: -8703.7848\n",
      "\n",
      "Epoch 457/500\n"
     ]
    },
    {
     "name": "stderr",
     "output_type": "stream",
     "text": [
      "Loss: -8178.2036: 100%|██████████████████████████████████████████████████████████████| 313/313 [00:39<00:00,  8.02it/s]\n"
     ]
    },
    {
     "name": "stdout",
     "output_type": "stream",
     "text": [
      "✅ Epoch 457 average loss: -8689.8247\n",
      "\n",
      "Epoch 458/500\n"
     ]
    },
    {
     "name": "stderr",
     "output_type": "stream",
     "text": [
      "Loss: -9383.2402: 100%|██████████████████████████████████████████████████████████████| 313/313 [00:38<00:00,  8.06it/s]\n"
     ]
    },
    {
     "name": "stdout",
     "output_type": "stream",
     "text": [
      "✅ Epoch 458 average loss: -8681.4879\n",
      "\n",
      "Epoch 459/500\n"
     ]
    },
    {
     "name": "stderr",
     "output_type": "stream",
     "text": [
      "Loss: -9101.6260: 100%|██████████████████████████████████████████████████████████████| 313/313 [00:37<00:00,  8.32it/s]\n"
     ]
    },
    {
     "name": "stdout",
     "output_type": "stream",
     "text": [
      "✅ Epoch 459 average loss: -8699.4168\n",
      "\n",
      "Epoch 460/500\n"
     ]
    },
    {
     "name": "stderr",
     "output_type": "stream",
     "text": [
      "Loss: -9294.7480: 100%|██████████████████████████████████████████████████████████████| 313/313 [00:37<00:00,  8.39it/s]\n"
     ]
    },
    {
     "name": "stdout",
     "output_type": "stream",
     "text": [
      "✅ Epoch 460 average loss: -8678.4399\n",
      "\n",
      "Epoch 461/500\n"
     ]
    },
    {
     "name": "stderr",
     "output_type": "stream",
     "text": [
      "Loss: -9479.1084: 100%|██████████████████████████████████████████████████████████████| 313/313 [00:36<00:00,  8.64it/s]\n"
     ]
    },
    {
     "name": "stdout",
     "output_type": "stream",
     "text": [
      "✅ Epoch 461 average loss: -8706.2841\n",
      "\n",
      "Epoch 462/500\n"
     ]
    },
    {
     "name": "stderr",
     "output_type": "stream",
     "text": [
      "Loss: -8303.1943: 100%|██████████████████████████████████████████████████████████████| 313/313 [00:35<00:00,  8.76it/s]\n"
     ]
    },
    {
     "name": "stdout",
     "output_type": "stream",
     "text": [
      "✅ Epoch 462 average loss: -8703.8349\n",
      "\n",
      "Epoch 463/500\n"
     ]
    },
    {
     "name": "stderr",
     "output_type": "stream",
     "text": [
      "Loss: -9575.8096: 100%|██████████████████████████████████████████████████████████████| 313/313 [00:38<00:00,  8.06it/s]\n"
     ]
    },
    {
     "name": "stdout",
     "output_type": "stream",
     "text": [
      "✅ Epoch 463 average loss: -8697.9389\n",
      "\n",
      "Epoch 464/500\n"
     ]
    },
    {
     "name": "stderr",
     "output_type": "stream",
     "text": [
      "Loss: -8765.2168: 100%|██████████████████████████████████████████████████████████████| 313/313 [00:39<00:00,  8.01it/s]\n"
     ]
    },
    {
     "name": "stdout",
     "output_type": "stream",
     "text": [
      "✅ Epoch 464 average loss: -8684.9121\n",
      "\n",
      "Epoch 465/500\n"
     ]
    },
    {
     "name": "stderr",
     "output_type": "stream",
     "text": [
      "Loss: -8722.4141: 100%|██████████████████████████████████████████████████████████████| 313/313 [00:38<00:00,  8.17it/s]\n"
     ]
    },
    {
     "name": "stdout",
     "output_type": "stream",
     "text": [
      "✅ Epoch 465 average loss: -8708.1202\n",
      "\n",
      "Epoch 466/500\n"
     ]
    },
    {
     "name": "stderr",
     "output_type": "stream",
     "text": [
      "Loss: -8602.9492: 100%|██████████████████████████████████████████████████████████████| 313/313 [00:37<00:00,  8.27it/s]\n"
     ]
    },
    {
     "name": "stdout",
     "output_type": "stream",
     "text": [
      "✅ Epoch 466 average loss: -8709.6176\n",
      "\n",
      "Epoch 467/500\n"
     ]
    },
    {
     "name": "stderr",
     "output_type": "stream",
     "text": [
      "Loss: -9210.0820: 100%|██████████████████████████████████████████████████████████████| 313/313 [00:35<00:00,  8.73it/s]\n"
     ]
    },
    {
     "name": "stdout",
     "output_type": "stream",
     "text": [
      "✅ Epoch 467 average loss: -8690.2366\n",
      "\n",
      "Epoch 468/500\n"
     ]
    },
    {
     "name": "stderr",
     "output_type": "stream",
     "text": [
      "Loss: -7999.8486: 100%|██████████████████████████████████████████████████████████████| 313/313 [00:35<00:00,  8.91it/s]\n"
     ]
    },
    {
     "name": "stdout",
     "output_type": "stream",
     "text": [
      "✅ Epoch 468 average loss: -8709.6849\n",
      "\n",
      "Epoch 469/500\n"
     ]
    },
    {
     "name": "stderr",
     "output_type": "stream",
     "text": [
      "Loss: -8707.1055: 100%|██████████████████████████████████████████████████████████████| 313/313 [00:37<00:00,  8.40it/s]\n"
     ]
    },
    {
     "name": "stdout",
     "output_type": "stream",
     "text": [
      "✅ Epoch 469 average loss: -8711.1823\n",
      "\n",
      "Epoch 470/500\n"
     ]
    },
    {
     "name": "stderr",
     "output_type": "stream",
     "text": [
      "Loss: -9256.7695: 100%|██████████████████████████████████████████████████████████████| 313/313 [00:38<00:00,  8.10it/s]\n"
     ]
    },
    {
     "name": "stdout",
     "output_type": "stream",
     "text": [
      "✅ Epoch 470 average loss: -8703.6816\n",
      "\n",
      "Epoch 471/500\n"
     ]
    },
    {
     "name": "stderr",
     "output_type": "stream",
     "text": [
      "Loss: -8710.7617: 100%|██████████████████████████████████████████████████████████████| 313/313 [00:39<00:00,  8.00it/s]\n"
     ]
    },
    {
     "name": "stdout",
     "output_type": "stream",
     "text": [
      "✅ Epoch 471 average loss: -8720.0150\n",
      "\n",
      "Epoch 472/500\n"
     ]
    },
    {
     "name": "stderr",
     "output_type": "stream",
     "text": [
      "Loss: -8820.5645: 100%|██████████████████████████████████████████████████████████████| 313/313 [00:37<00:00,  8.27it/s]\n"
     ]
    },
    {
     "name": "stdout",
     "output_type": "stream",
     "text": [
      "✅ Epoch 472 average loss: -8708.1302\n",
      "\n",
      "Epoch 473/500\n"
     ]
    },
    {
     "name": "stderr",
     "output_type": "stream",
     "text": [
      "Loss: -9493.1094: 100%|██████████████████████████████████████████████████████████████| 313/313 [00:37<00:00,  8.41it/s]\n"
     ]
    },
    {
     "name": "stdout",
     "output_type": "stream",
     "text": [
      "✅ Epoch 473 average loss: -8718.6482\n",
      "\n",
      "Epoch 474/500\n"
     ]
    },
    {
     "name": "stderr",
     "output_type": "stream",
     "text": [
      "Loss: -8027.2275: 100%|██████████████████████████████████████████████████████████████| 313/313 [00:35<00:00,  8.91it/s]\n"
     ]
    },
    {
     "name": "stdout",
     "output_type": "stream",
     "text": [
      "✅ Epoch 474 average loss: -8700.6222\n",
      "\n",
      "Epoch 475/500\n"
     ]
    },
    {
     "name": "stderr",
     "output_type": "stream",
     "text": [
      "Loss: -8686.4932: 100%|██████████████████████████████████████████████████████████████| 313/313 [00:36<00:00,  8.66it/s]\n"
     ]
    },
    {
     "name": "stdout",
     "output_type": "stream",
     "text": [
      "✅ Epoch 475 average loss: -8717.9657\n",
      "\n",
      "Epoch 476/500\n"
     ]
    },
    {
     "name": "stderr",
     "output_type": "stream",
     "text": [
      "Loss: -8936.3555: 100%|██████████████████████████████████████████████████████████████| 313/313 [00:39<00:00,  8.01it/s]\n"
     ]
    },
    {
     "name": "stdout",
     "output_type": "stream",
     "text": [
      "✅ Epoch 476 average loss: -8731.1586\n",
      "\n",
      "Epoch 477/500\n"
     ]
    },
    {
     "name": "stderr",
     "output_type": "stream",
     "text": [
      "Loss: -8488.6387: 100%|██████████████████████████████████████████████████████████████| 313/313 [00:38<00:00,  8.17it/s]\n"
     ]
    },
    {
     "name": "stdout",
     "output_type": "stream",
     "text": [
      "✅ Epoch 477 average loss: -8717.5931\n",
      "\n",
      "Epoch 478/500\n"
     ]
    },
    {
     "name": "stderr",
     "output_type": "stream",
     "text": [
      "Loss: -8354.4688: 100%|██████████████████████████████████████████████████████████████| 313/313 [00:38<00:00,  8.17it/s]\n"
     ]
    },
    {
     "name": "stdout",
     "output_type": "stream",
     "text": [
      "✅ Epoch 478 average loss: -8727.1303\n",
      "\n",
      "Epoch 479/500\n"
     ]
    },
    {
     "name": "stderr",
     "output_type": "stream",
     "text": [
      "Loss: -8643.6445: 100%|██████████████████████████████████████████████████████████████| 313/313 [00:38<00:00,  8.18it/s]\n"
     ]
    },
    {
     "name": "stdout",
     "output_type": "stream",
     "text": [
      "✅ Epoch 479 average loss: -8716.0631\n",
      "\n",
      "Epoch 480/500\n"
     ]
    },
    {
     "name": "stderr",
     "output_type": "stream",
     "text": [
      "Loss: -8378.8369: 100%|██████████████████████████████████████████████████████████████| 313/313 [00:37<00:00,  8.25it/s]\n"
     ]
    },
    {
     "name": "stdout",
     "output_type": "stream",
     "text": [
      "✅ Epoch 480 average loss: -8725.0406\n",
      "\n",
      "Epoch 481/500\n"
     ]
    },
    {
     "name": "stderr",
     "output_type": "stream",
     "text": [
      "Loss: -8706.9219: 100%|██████████████████████████████████████████████████████████████| 313/313 [00:36<00:00,  8.67it/s]\n"
     ]
    },
    {
     "name": "stdout",
     "output_type": "stream",
     "text": [
      "✅ Epoch 481 average loss: -8728.4845\n",
      "\n",
      "Epoch 482/500\n"
     ]
    },
    {
     "name": "stderr",
     "output_type": "stream",
     "text": [
      "Loss: -8722.4824: 100%|██████████████████████████████████████████████████████████████| 313/313 [00:38<00:00,  8.12it/s]\n"
     ]
    },
    {
     "name": "stdout",
     "output_type": "stream",
     "text": [
      "✅ Epoch 482 average loss: -8725.7140\n",
      "\n",
      "Epoch 483/500\n"
     ]
    },
    {
     "name": "stderr",
     "output_type": "stream",
     "text": [
      "Loss: -8302.5605: 100%|██████████████████████████████████████████████████████████████| 313/313 [00:39<00:00,  8.00it/s]\n"
     ]
    },
    {
     "name": "stdout",
     "output_type": "stream",
     "text": [
      "✅ Epoch 483 average loss: -8741.1414\n",
      "\n",
      "Epoch 484/500\n"
     ]
    },
    {
     "name": "stderr",
     "output_type": "stream",
     "text": [
      "Loss: -9155.1699: 100%|██████████████████████████████████████████████████████████████| 313/313 [00:38<00:00,  8.04it/s]\n"
     ]
    },
    {
     "name": "stdout",
     "output_type": "stream",
     "text": [
      "✅ Epoch 484 average loss: -8739.5711\n",
      "\n",
      "Epoch 485/500\n"
     ]
    },
    {
     "name": "stderr",
     "output_type": "stream",
     "text": [
      "Loss: -8447.6436: 100%|██████████████████████████████████████████████████████████████| 313/313 [00:38<00:00,  8.16it/s]\n"
     ]
    },
    {
     "name": "stdout",
     "output_type": "stream",
     "text": [
      "✅ Epoch 485 average loss: -8735.9017\n",
      "\n",
      "Epoch 486/500\n"
     ]
    },
    {
     "name": "stderr",
     "output_type": "stream",
     "text": [
      "Loss: -9373.8789: 100%|██████████████████████████████████████████████████████████████| 313/313 [00:36<00:00,  8.50it/s]\n"
     ]
    },
    {
     "name": "stdout",
     "output_type": "stream",
     "text": [
      "✅ Epoch 486 average loss: -8726.2124\n",
      "\n",
      "Epoch 487/500\n"
     ]
    },
    {
     "name": "stderr",
     "output_type": "stream",
     "text": [
      "Loss: -7719.5854: 100%|██████████████████████████████████████████████████████████████| 313/313 [00:36<00:00,  8.64it/s]\n"
     ]
    },
    {
     "name": "stdout",
     "output_type": "stream",
     "text": [
      "✅ Epoch 487 average loss: -8743.8922\n",
      "\n",
      "Epoch 488/500\n"
     ]
    },
    {
     "name": "stderr",
     "output_type": "stream",
     "text": [
      "Loss: -8483.1328: 100%|██████████████████████████████████████████████████████████████| 313/313 [00:36<00:00,  8.56it/s]\n"
     ]
    },
    {
     "name": "stdout",
     "output_type": "stream",
     "text": [
      "✅ Epoch 488 average loss: -8738.9664\n",
      "\n",
      "Epoch 489/500\n"
     ]
    },
    {
     "name": "stderr",
     "output_type": "stream",
     "text": [
      "Loss: -8362.2207: 100%|██████████████████████████████████████████████████████████████| 313/313 [00:38<00:00,  8.03it/s]\n"
     ]
    },
    {
     "name": "stdout",
     "output_type": "stream",
     "text": [
      "✅ Epoch 489 average loss: -8721.4924\n",
      "\n",
      "Epoch 490/500\n"
     ]
    },
    {
     "name": "stderr",
     "output_type": "stream",
     "text": [
      "Loss: -8494.8262: 100%|██████████████████████████████████████████████████████████████| 313/313 [00:38<00:00,  8.17it/s]\n"
     ]
    },
    {
     "name": "stdout",
     "output_type": "stream",
     "text": [
      "✅ Epoch 490 average loss: -8740.9973\n",
      "\n",
      "Epoch 491/500\n"
     ]
    },
    {
     "name": "stderr",
     "output_type": "stream",
     "text": [
      "Loss: -9207.8301: 100%|██████████████████████████████████████████████████████████████| 313/313 [00:38<00:00,  8.20it/s]\n"
     ]
    },
    {
     "name": "stdout",
     "output_type": "stream",
     "text": [
      "✅ Epoch 491 average loss: -8746.6160\n",
      "\n",
      "Epoch 492/500\n"
     ]
    },
    {
     "name": "stderr",
     "output_type": "stream",
     "text": [
      "Loss: -8996.5859: 100%|██████████████████████████████████████████████████████████████| 313/313 [00:37<00:00,  8.44it/s]\n"
     ]
    },
    {
     "name": "stdout",
     "output_type": "stream",
     "text": [
      "✅ Epoch 492 average loss: -8747.0223\n",
      "\n",
      "Epoch 493/500\n"
     ]
    },
    {
     "name": "stderr",
     "output_type": "stream",
     "text": [
      "Loss: -8781.6611: 100%|██████████████████████████████████████████████████████████████| 313/313 [00:36<00:00,  8.68it/s]\n"
     ]
    },
    {
     "name": "stdout",
     "output_type": "stream",
     "text": [
      "✅ Epoch 493 average loss: -8731.3995\n",
      "\n",
      "Epoch 494/500\n"
     ]
    },
    {
     "name": "stderr",
     "output_type": "stream",
     "text": [
      "Loss: -8542.8701: 100%|██████████████████████████████████████████████████████████████| 313/313 [00:35<00:00,  8.70it/s]\n"
     ]
    },
    {
     "name": "stdout",
     "output_type": "stream",
     "text": [
      "✅ Epoch 494 average loss: -8748.6888\n",
      "\n",
      "Epoch 495/500\n"
     ]
    },
    {
     "name": "stderr",
     "output_type": "stream",
     "text": [
      "Loss: -8363.8643: 100%|██████████████████████████████████████████████████████████████| 313/313 [01:02<00:00,  5.03it/s]\n"
     ]
    },
    {
     "name": "stdout",
     "output_type": "stream",
     "text": [
      "✅ Epoch 495 average loss: -8748.6666\n",
      "\n",
      "Epoch 496/500\n"
     ]
    },
    {
     "name": "stderr",
     "output_type": "stream",
     "text": [
      "Loss: -8704.2129: 100%|██████████████████████████████████████████████████████████████| 313/313 [00:46<00:00,  6.68it/s]\n"
     ]
    },
    {
     "name": "stdout",
     "output_type": "stream",
     "text": [
      "✅ Epoch 496 average loss: -8746.0440\n",
      "\n",
      "Epoch 497/500\n"
     ]
    },
    {
     "name": "stderr",
     "output_type": "stream",
     "text": [
      "Loss: -8534.7383: 100%|██████████████████████████████████████████████████████████████| 313/313 [00:37<00:00,  8.32it/s]\n"
     ]
    },
    {
     "name": "stdout",
     "output_type": "stream",
     "text": [
      "✅ Epoch 497 average loss: -8749.3989\n",
      "\n",
      "Epoch 498/500\n"
     ]
    },
    {
     "name": "stderr",
     "output_type": "stream",
     "text": [
      "Loss: -9229.9375: 100%|██████████████████████████████████████████████████████████████| 313/313 [00:36<00:00,  8.60it/s]\n"
     ]
    },
    {
     "name": "stdout",
     "output_type": "stream",
     "text": [
      "✅ Epoch 498 average loss: -8748.6144\n",
      "\n",
      "Epoch 499/500\n"
     ]
    },
    {
     "name": "stderr",
     "output_type": "stream",
     "text": [
      "Loss: -8321.6621: 100%|██████████████████████████████████████████████████████████████| 313/313 [00:35<00:00,  8.84it/s]\n"
     ]
    },
    {
     "name": "stdout",
     "output_type": "stream",
     "text": [
      "✅ Epoch 499 average loss: -8744.9739\n",
      "\n",
      "Epoch 500/500\n"
     ]
    },
    {
     "name": "stderr",
     "output_type": "stream",
     "text": [
      "Loss: -9443.4434: 100%|██████████████████████████████████████████████████████████████| 313/313 [00:36<00:00,  8.65it/s]\n"
     ]
    },
    {
     "name": "stdout",
     "output_type": "stream",
     "text": [
      "✅ Epoch 500 average loss: -8762.4879\n",
      "📦 Saved checkpoint at epoch 500\n",
      "🎉 Final model saved to glow_final_model_cifar.pt\n"
     ]
    },
    {
     "data": {
      "image/png": "[encoded data removed]",
      "text/plain": [
       "<Figure size 800x500 with 1 Axes>"
      ]
     },
     "metadata": {},
     "output_type": "display_data"
    }
   ],
   "source": [
    "n_epochs = 500  # Set the number of epochs\n",
    "train(model, dataloader, optimizer, n_epochs)"
   ]
  },
  {
   "cell_type": "code",
   "execution_count": 52,
   "id": "df4f4e0d-de11-424d-9742-ce6967b19f89",
   "metadata": {},
   "outputs": [
    {
     "data": {
      "image/png": "[encoded data removed]",
      "text/plain": [
       "<Figure size 800x800 with 1 Axes>"
      ]
     },
     "metadata": {},
     "output_type": "display_data"
    }
   ],
   "source": [
    "import torch\n",
    "import torchvision.utils as vutils\n",
    "import matplotlib.pyplot as plt\n",
    "from model import Glow\n",
    "\n",
    "device = torch.device(\"cuda\" if torch.cuda.is_available() else \"cpu\")\n",
    "\n",
    "def calc_z_shapes(n_channel, input_size, n_flow, n_block):\n",
    "    z_shapes = []\n",
    "    for i in range(n_block - 1):\n",
    "        input_size //= 2\n",
    "        n_channel *= 2\n",
    "        z_shapes.append((n_channel, input_size, input_size))\n",
    "    input_size //= 2\n",
    "    z_shapes.append((n_channel * 4, input_size, input_size))\n",
    "    return z_shapes\n",
    "\n",
    "def load_model(path, n_flow=16, n_block=3, affine=True, conv_lu=True):\n",
    "    model = Glow(3, n_flow, n_block, affine=affine, conv_lu=conv_lu).to(device)\n",
    "    checkpoint = torch.load(path, map_location=device)\n",
    "    model.load_state_dict(checkpoint['model'])\n",
    "    model.eval()\n",
    "    return model\n",
    "\n",
    "def generate_z_samples(z_shapes, n_sample=16, temperature=0.7):\n",
    "    z_sample = []\n",
    "    for shape in z_shapes:\n",
    "        z = torch.randn(n_sample, *shape).to(device) * temperature\n",
    "        z_sample.append(z)\n",
    "    return z_sample\n",
    "\n",
    "def show_images(images, save_path=None):\n",
    "    images = (images + 0.5).clamp(0, 1)\n",
    "    grid = vutils.make_grid(images.cpu(), nrow=4)\n",
    "    plt.figure(figsize=(8, 8))\n",
    "    plt.axis(\"off\")\n",
    "    plt.title(\"Generated Samples\")\n",
    "    plt.imshow(grid.permute(1, 2, 0))\n",
    "    if save_path:\n",
    "        plt.savefig(save_path)\n",
    "    plt.show()\n",
    "\n",
    "# ------------------------ USE HERE ------------------------\n",
    "\n",
    "n_flow = 8\n",
    "n_block = 3\n",
    "img_size = 32\n",
    "model_path = \"glow_final_model_cifar.pt\"\n",
    "\n",
    "model = load_model(model_path, n_flow=n_flow, n_block=n_block)\n",
    "z_shapes = calc_z_shapes(3, img_size, n_flow, n_block)\n",
    "\n",
    "# Generate and reverse\n",
    "z_sample = generate_z_samples(z_shapes, n_sample=16, temperature=0.7)\n",
    "with torch.no_grad():\n",
    "    samples = model.reverse(z_sample)\n",
    "\n",
    "# Display\n",
    "show_images(samples, save_path=\"generated_samples_cifar.png\")\n"
   ]
  },
  {
   "cell_type": "code",
   "execution_count": null,
   "id": "8d9fca7b-80d2-4217-8ec3-0ddaf1604256",
   "metadata": {},
   "outputs": [],
   "source": []
  }
 ],
 "metadata": {
  "kernelspec": {
   "display_name": "Python 3 (ipykernel)",
   "language": "python",
   "name": "python3"
  },
  "language_info": {
   "codemirror_mode": {
    "name": "ipython",
    "version": 3
   },
   "file_extension": ".py",
   "mimetype": "text/x-python",
   "name": "python",
   "nbconvert_exporter": "python",
   "pygments_lexer": "ipython3",
   "version": "3.12.3"
  }
 },
 "nbformat": 4,
 "nbformat_minor": 5
}
